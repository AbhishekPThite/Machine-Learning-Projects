{
 "cells": [
  {
   "cell_type": "code",
   "execution_count": 1,
   "metadata": {
    "scrolled": false
   },
   "outputs": [],
   "source": [
    "##import all library required for assignment\n",
    "import pandas as pd\n",
    "import numpy as np\n",
    "import seaborn as sns\n",
    "import matplotlib.pyplot as plt\n",
    "%matplotlib inline\n",
    "from datetime import datetime"
   ]
  },
  {
   "cell_type": "code",
   "execution_count": 2,
   "metadata": {
    "scrolled": false
   },
   "outputs": [],
   "source": [
    "##Read CSV file\n",
    "loans = pd.read_csv('loan.csv',low_memory=False)"
   ]
  },
  {
   "cell_type": "code",
   "execution_count": 3,
   "metadata": {
    "scrolled": false
   },
   "outputs": [
    {
     "data": {
      "text/html": [
       "<div>\n",
       "<style scoped>\n",
       "    .dataframe tbody tr th:only-of-type {\n",
       "        vertical-align: middle;\n",
       "    }\n",
       "\n",
       "    .dataframe tbody tr th {\n",
       "        vertical-align: top;\n",
       "    }\n",
       "\n",
       "    .dataframe thead th {\n",
       "        text-align: right;\n",
       "    }\n",
       "</style>\n",
       "<table border=\"1\" class=\"dataframe\">\n",
       "  <thead>\n",
       "    <tr style=\"text-align: right;\">\n",
       "      <th></th>\n",
       "      <th>id</th>\n",
       "      <th>member_id</th>\n",
       "      <th>loan_amnt</th>\n",
       "      <th>funded_amnt</th>\n",
       "      <th>funded_amnt_inv</th>\n",
       "      <th>term</th>\n",
       "      <th>int_rate</th>\n",
       "      <th>installment</th>\n",
       "      <th>grade</th>\n",
       "      <th>sub_grade</th>\n",
       "      <th>...</th>\n",
       "      <th>num_tl_90g_dpd_24m</th>\n",
       "      <th>num_tl_op_past_12m</th>\n",
       "      <th>pct_tl_nvr_dlq</th>\n",
       "      <th>percent_bc_gt_75</th>\n",
       "      <th>pub_rec_bankruptcies</th>\n",
       "      <th>tax_liens</th>\n",
       "      <th>tot_hi_cred_lim</th>\n",
       "      <th>total_bal_ex_mort</th>\n",
       "      <th>total_bc_limit</th>\n",
       "      <th>total_il_high_credit_limit</th>\n",
       "    </tr>\n",
       "  </thead>\n",
       "  <tbody>\n",
       "    <tr>\n",
       "      <th>0</th>\n",
       "      <td>1077501</td>\n",
       "      <td>1296599</td>\n",
       "      <td>5000</td>\n",
       "      <td>5000</td>\n",
       "      <td>4975.0</td>\n",
       "      <td>36 months</td>\n",
       "      <td>10.65%</td>\n",
       "      <td>162.87</td>\n",
       "      <td>B</td>\n",
       "      <td>B2</td>\n",
       "      <td>...</td>\n",
       "      <td>NaN</td>\n",
       "      <td>NaN</td>\n",
       "      <td>NaN</td>\n",
       "      <td>NaN</td>\n",
       "      <td>0.0</td>\n",
       "      <td>0.0</td>\n",
       "      <td>NaN</td>\n",
       "      <td>NaN</td>\n",
       "      <td>NaN</td>\n",
       "      <td>NaN</td>\n",
       "    </tr>\n",
       "    <tr>\n",
       "      <th>1</th>\n",
       "      <td>1077430</td>\n",
       "      <td>1314167</td>\n",
       "      <td>2500</td>\n",
       "      <td>2500</td>\n",
       "      <td>2500.0</td>\n",
       "      <td>60 months</td>\n",
       "      <td>15.27%</td>\n",
       "      <td>59.83</td>\n",
       "      <td>C</td>\n",
       "      <td>C4</td>\n",
       "      <td>...</td>\n",
       "      <td>NaN</td>\n",
       "      <td>NaN</td>\n",
       "      <td>NaN</td>\n",
       "      <td>NaN</td>\n",
       "      <td>0.0</td>\n",
       "      <td>0.0</td>\n",
       "      <td>NaN</td>\n",
       "      <td>NaN</td>\n",
       "      <td>NaN</td>\n",
       "      <td>NaN</td>\n",
       "    </tr>\n",
       "    <tr>\n",
       "      <th>2</th>\n",
       "      <td>1077175</td>\n",
       "      <td>1313524</td>\n",
       "      <td>2400</td>\n",
       "      <td>2400</td>\n",
       "      <td>2400.0</td>\n",
       "      <td>36 months</td>\n",
       "      <td>15.96%</td>\n",
       "      <td>84.33</td>\n",
       "      <td>C</td>\n",
       "      <td>C5</td>\n",
       "      <td>...</td>\n",
       "      <td>NaN</td>\n",
       "      <td>NaN</td>\n",
       "      <td>NaN</td>\n",
       "      <td>NaN</td>\n",
       "      <td>0.0</td>\n",
       "      <td>0.0</td>\n",
       "      <td>NaN</td>\n",
       "      <td>NaN</td>\n",
       "      <td>NaN</td>\n",
       "      <td>NaN</td>\n",
       "    </tr>\n",
       "    <tr>\n",
       "      <th>3</th>\n",
       "      <td>1076863</td>\n",
       "      <td>1277178</td>\n",
       "      <td>10000</td>\n",
       "      <td>10000</td>\n",
       "      <td>10000.0</td>\n",
       "      <td>36 months</td>\n",
       "      <td>13.49%</td>\n",
       "      <td>339.31</td>\n",
       "      <td>C</td>\n",
       "      <td>C1</td>\n",
       "      <td>...</td>\n",
       "      <td>NaN</td>\n",
       "      <td>NaN</td>\n",
       "      <td>NaN</td>\n",
       "      <td>NaN</td>\n",
       "      <td>0.0</td>\n",
       "      <td>0.0</td>\n",
       "      <td>NaN</td>\n",
       "      <td>NaN</td>\n",
       "      <td>NaN</td>\n",
       "      <td>NaN</td>\n",
       "    </tr>\n",
       "    <tr>\n",
       "      <th>4</th>\n",
       "      <td>1075358</td>\n",
       "      <td>1311748</td>\n",
       "      <td>3000</td>\n",
       "      <td>3000</td>\n",
       "      <td>3000.0</td>\n",
       "      <td>60 months</td>\n",
       "      <td>12.69%</td>\n",
       "      <td>67.79</td>\n",
       "      <td>B</td>\n",
       "      <td>B5</td>\n",
       "      <td>...</td>\n",
       "      <td>NaN</td>\n",
       "      <td>NaN</td>\n",
       "      <td>NaN</td>\n",
       "      <td>NaN</td>\n",
       "      <td>0.0</td>\n",
       "      <td>0.0</td>\n",
       "      <td>NaN</td>\n",
       "      <td>NaN</td>\n",
       "      <td>NaN</td>\n",
       "      <td>NaN</td>\n",
       "    </tr>\n",
       "  </tbody>\n",
       "</table>\n",
       "<p>5 rows × 111 columns</p>\n",
       "</div>"
      ],
      "text/plain": [
       "        id  member_id  loan_amnt  funded_amnt  funded_amnt_inv        term  \\\n",
       "0  1077501    1296599       5000         5000           4975.0   36 months   \n",
       "1  1077430    1314167       2500         2500           2500.0   60 months   \n",
       "2  1077175    1313524       2400         2400           2400.0   36 months   \n",
       "3  1076863    1277178      10000        10000          10000.0   36 months   \n",
       "4  1075358    1311748       3000         3000           3000.0   60 months   \n",
       "\n",
       "  int_rate  installment grade sub_grade  ... num_tl_90g_dpd_24m  \\\n",
       "0   10.65%       162.87     B        B2  ...                NaN   \n",
       "1   15.27%        59.83     C        C4  ...                NaN   \n",
       "2   15.96%        84.33     C        C5  ...                NaN   \n",
       "3   13.49%       339.31     C        C1  ...                NaN   \n",
       "4   12.69%        67.79     B        B5  ...                NaN   \n",
       "\n",
       "  num_tl_op_past_12m pct_tl_nvr_dlq  percent_bc_gt_75 pub_rec_bankruptcies  \\\n",
       "0                NaN            NaN               NaN                  0.0   \n",
       "1                NaN            NaN               NaN                  0.0   \n",
       "2                NaN            NaN               NaN                  0.0   \n",
       "3                NaN            NaN               NaN                  0.0   \n",
       "4                NaN            NaN               NaN                  0.0   \n",
       "\n",
       "  tax_liens tot_hi_cred_lim total_bal_ex_mort total_bc_limit  \\\n",
       "0       0.0             NaN               NaN            NaN   \n",
       "1       0.0             NaN               NaN            NaN   \n",
       "2       0.0             NaN               NaN            NaN   \n",
       "3       0.0             NaN               NaN            NaN   \n",
       "4       0.0             NaN               NaN            NaN   \n",
       "\n",
       "  total_il_high_credit_limit  \n",
       "0                        NaN  \n",
       "1                        NaN  \n",
       "2                        NaN  \n",
       "3                        NaN  \n",
       "4                        NaN  \n",
       "\n",
       "[5 rows x 111 columns]"
      ]
     },
     "execution_count": 3,
     "metadata": {},
     "output_type": "execute_result"
    }
   ],
   "source": [
    "##Observe data\n",
    "loans.head(5)"
   ]
  },
  {
   "cell_type": "code",
   "execution_count": 4,
   "metadata": {
    "scrolled": true
   },
   "outputs": [
    {
     "data": {
      "text/plain": [
       "(39717, 111)"
      ]
     },
     "execution_count": 4,
     "metadata": {},
     "output_type": "execute_result"
    }
   ],
   "source": [
    "##observe shape\n",
    "loans.shape"
   ]
  },
  {
   "cell_type": "code",
   "execution_count": 5,
   "metadata": {
    "scrolled": false
   },
   "outputs": [
    {
     "data": {
      "text/plain": [
       "39717"
      ]
     },
     "execution_count": 5,
     "metadata": {},
     "output_type": "execute_result"
    }
   ],
   "source": [
    "len(loans)"
   ]
  },
  {
   "cell_type": "markdown",
   "metadata": {},
   "source": [
    "### Data Understanding and Cleaning and Manipulation"
   ]
  },
  {
   "cell_type": "markdown",
   "metadata": {},
   "source": [
    "**Remove columns with half NA values**"
   ]
  },
  {
   "cell_type": "code",
   "execution_count": 6,
   "metadata": {
    "scrolled": false
   },
   "outputs": [],
   "source": [
    "loans = loans.dropna(thresh=len(loans)/2,axis=1)"
   ]
  },
  {
   "cell_type": "code",
   "execution_count": 7,
   "metadata": {
    "scrolled": false
   },
   "outputs": [
    {
     "data": {
      "text/plain": [
       "(39717, 54)"
      ]
     },
     "execution_count": 7,
     "metadata": {},
     "output_type": "execute_result"
    }
   ],
   "source": [
    "loans.shape"
   ]
  },
  {
   "cell_type": "markdown",
   "metadata": {},
   "source": [
    "**Removing column with only 1 unique value as it wont reveal comparitive info for EDA** "
   ]
  },
  {
   "cell_type": "code",
   "execution_count": 8,
   "metadata": {
    "scrolled": false
   },
   "outputs": [],
   "source": [
    "loans = loans.loc[:,loans.apply(pd.Series.nunique)!=1]"
   ]
  },
  {
   "cell_type": "code",
   "execution_count": 9,
   "metadata": {
    "scrolled": false
   },
   "outputs": [
    {
     "data": {
      "text/plain": [
       "(39717, 45)"
      ]
     },
     "execution_count": 9,
     "metadata": {},
     "output_type": "execute_result"
    }
   ],
   "source": [
    "loans.shape"
   ]
  },
  {
   "cell_type": "markdown",
   "metadata": {},
   "source": [
    "**After scanning through various features,loan status column is appropriate target variable. We can see impact of various features on this target variable to identify Key driving factors** "
   ]
  },
  {
   "cell_type": "code",
   "execution_count": 10,
   "metadata": {
    "scrolled": false
   },
   "outputs": [
    {
     "data": {
      "text/plain": [
       "Fully Paid     32950\n",
       "Charged Off     5627\n",
       "Current         1140\n",
       "Name: loan_status, dtype: int64"
      ]
     },
     "execution_count": 10,
     "metadata": {},
     "output_type": "execute_result"
    }
   ],
   "source": [
    "loans['loan_status'].value_counts()"
   ]
  },
  {
   "cell_type": "code",
   "execution_count": 11,
   "metadata": {
    "scrolled": false
   },
   "outputs": [],
   "source": [
    "## Since we are interested in whether borrower will default or fully pay loan, we will drop loan_status = Current rows\n",
    "loans=loans[loans.loan_status!='Current']"
   ]
  },
  {
   "cell_type": "code",
   "execution_count": 12,
   "metadata": {
    "scrolled": false
   },
   "outputs": [
    {
     "name": "stdout",
     "output_type": "stream",
     "text": [
      "<class 'pandas.core.frame.DataFrame'>\n",
      "Int64Index: 38577 entries, 0 to 39716\n",
      "Data columns (total 45 columns):\n",
      " #   Column                   Non-Null Count  Dtype  \n",
      "---  ------                   --------------  -----  \n",
      " 0   id                       38577 non-null  int64  \n",
      " 1   member_id                38577 non-null  int64  \n",
      " 2   loan_amnt                38577 non-null  int64  \n",
      " 3   funded_amnt              38577 non-null  int64  \n",
      " 4   funded_amnt_inv          38577 non-null  float64\n",
      " 5   term                     38577 non-null  object \n",
      " 6   int_rate                 38577 non-null  object \n",
      " 7   installment              38577 non-null  float64\n",
      " 8   grade                    38577 non-null  object \n",
      " 9   sub_grade                38577 non-null  object \n",
      " 10  emp_title                36191 non-null  object \n",
      " 11  emp_length               37544 non-null  object \n",
      " 12  home_ownership           38577 non-null  object \n",
      " 13  annual_inc               38577 non-null  float64\n",
      " 14  verification_status      38577 non-null  object \n",
      " 15  issue_d                  38577 non-null  object \n",
      " 16  loan_status              38577 non-null  object \n",
      " 17  url                      38577 non-null  object \n",
      " 18  desc                     26050 non-null  object \n",
      " 19  purpose                  38577 non-null  object \n",
      " 20  title                    38566 non-null  object \n",
      " 21  zip_code                 38577 non-null  object \n",
      " 22  addr_state               38577 non-null  object \n",
      " 23  dti                      38577 non-null  float64\n",
      " 24  delinq_2yrs              38577 non-null  int64  \n",
      " 25  earliest_cr_line         38577 non-null  object \n",
      " 26  inq_last_6mths           38577 non-null  int64  \n",
      " 27  open_acc                 38577 non-null  int64  \n",
      " 28  pub_rec                  38577 non-null  int64  \n",
      " 29  revol_bal                38577 non-null  int64  \n",
      " 30  revol_util               38527 non-null  object \n",
      " 31  total_acc                38577 non-null  int64  \n",
      " 32  out_prncp                38577 non-null  float64\n",
      " 33  out_prncp_inv            38577 non-null  float64\n",
      " 34  total_pymnt              38577 non-null  float64\n",
      " 35  total_pymnt_inv          38577 non-null  float64\n",
      " 36  total_rec_prncp          38577 non-null  float64\n",
      " 37  total_rec_int            38577 non-null  float64\n",
      " 38  total_rec_late_fee       38577 non-null  float64\n",
      " 39  recoveries               38577 non-null  float64\n",
      " 40  collection_recovery_fee  38577 non-null  float64\n",
      " 41  last_pymnt_d             38506 non-null  object \n",
      " 42  last_pymnt_amnt          38577 non-null  float64\n",
      " 43  last_credit_pull_d       38575 non-null  object \n",
      " 44  pub_rec_bankruptcies     37880 non-null  float64\n",
      "dtypes: float64(15), int64(10), object(20)\n",
      "memory usage: 13.5+ MB\n"
     ]
    }
   ],
   "source": [
    "loans.info()"
   ]
  },
  {
   "cell_type": "markdown",
   "metadata": {},
   "source": [
    "**Dropping columns** \n",
    "- Which are related to outcome once loan is approved. These variables wont be available for new loan while evaluating will borrower default or no. \n",
    "- Columns like id/url which are random and wont impact borrowers ability to pay loan\n",
    "- Subgrade/zipcode etc which will be covered with grade/state\n",
    "- Title and employment title/desc which has lot of variations so wont be that useful without advance techniques"
   ]
  },
  {
   "cell_type": "code",
   "execution_count": 13,
   "metadata": {
    "scrolled": false
   },
   "outputs": [],
   "source": [
    "loans = loans.drop(['id','member_id','sub_grade','out_prncp','out_prncp_inv','total_pymnt','total_pymnt_inv','total_rec_prncp','total_rec_int','total_rec_late_fee','recoveries','collection_recovery_fee','last_pymnt_d','last_pymnt_amnt','last_credit_pull_d','funded_amnt_inv','title','emp_title','zip_code','url','desc'],axis=1)"
   ]
  },
  {
   "cell_type": "code",
   "execution_count": 14,
   "metadata": {
    "scrolled": false
   },
   "outputs": [
    {
     "data": {
      "text/plain": [
       "(38577, 24)"
      ]
     },
     "execution_count": 14,
     "metadata": {},
     "output_type": "execute_result"
    }
   ],
   "source": [
    "loans.shape"
   ]
  },
  {
   "cell_type": "code",
   "execution_count": 15,
   "metadata": {
    "scrolled": false
   },
   "outputs": [
    {
     "name": "stdout",
     "output_type": "stream",
     "text": [
      "<class 'pandas.core.frame.DataFrame'>\n",
      "Int64Index: 38577 entries, 0 to 39716\n",
      "Data columns (total 24 columns):\n",
      " #   Column                Non-Null Count  Dtype  \n",
      "---  ------                --------------  -----  \n",
      " 0   loan_amnt             38577 non-null  int64  \n",
      " 1   funded_amnt           38577 non-null  int64  \n",
      " 2   term                  38577 non-null  object \n",
      " 3   int_rate              38577 non-null  object \n",
      " 4   installment           38577 non-null  float64\n",
      " 5   grade                 38577 non-null  object \n",
      " 6   emp_length            37544 non-null  object \n",
      " 7   home_ownership        38577 non-null  object \n",
      " 8   annual_inc            38577 non-null  float64\n",
      " 9   verification_status   38577 non-null  object \n",
      " 10  issue_d               38577 non-null  object \n",
      " 11  loan_status           38577 non-null  object \n",
      " 12  purpose               38577 non-null  object \n",
      " 13  addr_state            38577 non-null  object \n",
      " 14  dti                   38577 non-null  float64\n",
      " 15  delinq_2yrs           38577 non-null  int64  \n",
      " 16  earliest_cr_line      38577 non-null  object \n",
      " 17  inq_last_6mths        38577 non-null  int64  \n",
      " 18  open_acc              38577 non-null  int64  \n",
      " 19  pub_rec               38577 non-null  int64  \n",
      " 20  revol_bal             38577 non-null  int64  \n",
      " 21  revol_util            38527 non-null  object \n",
      " 22  total_acc             38577 non-null  int64  \n",
      " 23  pub_rec_bankruptcies  37880 non-null  float64\n",
      "dtypes: float64(4), int64(8), object(12)\n",
      "memory usage: 7.4+ MB\n"
     ]
    }
   ],
   "source": [
    "loans.info()"
   ]
  },
  {
   "cell_type": "markdown",
   "metadata": {},
   "source": [
    "**Observing Feature values**"
   ]
  },
  {
   "cell_type": "code",
   "execution_count": 16,
   "metadata": {
    "scrolled": false
   },
   "outputs": [
    {
     "data": {
      "text/plain": [
       "loan_amnt                  0\n",
       "funded_amnt                0\n",
       "term                       0\n",
       "int_rate                   0\n",
       "installment                0\n",
       "grade                      0\n",
       "emp_length              1033\n",
       "home_ownership             0\n",
       "annual_inc                 0\n",
       "verification_status        0\n",
       "issue_d                    0\n",
       "loan_status                0\n",
       "purpose                    0\n",
       "addr_state                 0\n",
       "dti                        0\n",
       "delinq_2yrs                0\n",
       "earliest_cr_line           0\n",
       "inq_last_6mths             0\n",
       "open_acc                   0\n",
       "pub_rec                    0\n",
       "revol_bal                  0\n",
       "revol_util                50\n",
       "total_acc                  0\n",
       "pub_rec_bankruptcies     697\n",
       "dtype: int64"
      ]
     },
     "execution_count": 16,
     "metadata": {},
     "output_type": "execute_result"
    }
   ],
   "source": [
    "loans.isnull().sum()"
   ]
  },
  {
   "cell_type": "code",
   "execution_count": 17,
   "metadata": {
    "scrolled": false
   },
   "outputs": [
    {
     "data": {
      "text/plain": [
       "0.0    36238\n",
       "1.0     1637\n",
       "2.0        5\n",
       "Name: pub_rec_bankruptcies, dtype: int64"
      ]
     },
     "execution_count": 17,
     "metadata": {},
     "output_type": "execute_result"
    }
   ],
   "source": [
    "loans['pub_rec_bankruptcies'].value_counts()"
   ]
  },
  {
   "cell_type": "code",
   "execution_count": 18,
   "metadata": {
    "scrolled": false
   },
   "outputs": [
    {
     "data": {
      "text/plain": [
       "0%        954\n",
       "0.20%      62\n",
       "63%        62\n",
       "31.20%     57\n",
       "40.70%     57\n",
       "         ... \n",
       "60.69%      1\n",
       "32.04%      1\n",
       "39.95%      1\n",
       "5.33%       1\n",
       "17.71%      1\n",
       "Name: revol_util, Length: 1088, dtype: int64"
      ]
     },
     "execution_count": 18,
     "metadata": {},
     "output_type": "execute_result"
    }
   ],
   "source": [
    "loans['revol_util'].value_counts()"
   ]
  },
  {
   "cell_type": "code",
   "execution_count": 19,
   "metadata": {
    "scrolled": false
   },
   "outputs": [
    {
     "data": {
      "text/plain": [
       " 36 months    29096\n",
       " 60 months     9481\n",
       "Name: term, dtype: int64"
      ]
     },
     "execution_count": 19,
     "metadata": {},
     "output_type": "execute_result"
    }
   ],
   "source": [
    "loans['term'].value_counts()"
   ]
  },
  {
   "cell_type": "code",
   "execution_count": 20,
   "metadata": {
    "scrolled": false
   },
   "outputs": [
    {
     "data": {
      "text/plain": [
       "10+ years    8488\n",
       "< 1 year     4508\n",
       "2 years      4291\n",
       "3 years      4012\n",
       "4 years      3342\n",
       "5 years      3194\n",
       "1 year       3169\n",
       "6 years      2168\n",
       "7 years      1711\n",
       "8 years      1435\n",
       "9 years      1226\n",
       "Name: emp_length, dtype: int64"
      ]
     },
     "execution_count": 20,
     "metadata": {},
     "output_type": "execute_result"
    }
   ],
   "source": [
    "loans['emp_length'].value_counts()"
   ]
  },
  {
   "cell_type": "code",
   "execution_count": 21,
   "metadata": {
    "scrolled": false
   },
   "outputs": [
    {
     "data": {
      "text/plain": [
       "RENT        18480\n",
       "MORTGAGE    17021\n",
       "OWN          2975\n",
       "OTHER          98\n",
       "NONE            3\n",
       "Name: home_ownership, dtype: int64"
      ]
     },
     "execution_count": 21,
     "metadata": {},
     "output_type": "execute_result"
    }
   ],
   "source": [
    "loans['home_ownership'].value_counts()"
   ]
  },
  {
   "cell_type": "code",
   "execution_count": 22,
   "metadata": {
    "scrolled": false
   },
   "outputs": [
    {
     "data": {
      "text/plain": [
       "Not Verified       16694\n",
       "Verified           12206\n",
       "Source Verified     9677\n",
       "Name: verification_status, dtype: int64"
      ]
     },
     "execution_count": 22,
     "metadata": {},
     "output_type": "execute_result"
    }
   ],
   "source": [
    "loans['verification_status'].value_counts()"
   ]
  },
  {
   "cell_type": "code",
   "execution_count": 23,
   "metadata": {
    "scrolled": false
   },
   "outputs": [
    {
     "data": {
      "text/plain": [
       "0     34386\n",
       "1      3207\n",
       "2       673\n",
       "3       212\n",
       "4        60\n",
       "5        21\n",
       "6        10\n",
       "7         4\n",
       "8         2\n",
       "11        1\n",
       "9         1\n",
       "Name: delinq_2yrs, dtype: int64"
      ]
     },
     "execution_count": 23,
     "metadata": {},
     "output_type": "execute_result"
    }
   ],
   "source": [
    "loans['delinq_2yrs'].value_counts()"
   ]
  },
  {
   "cell_type": "code",
   "execution_count": 24,
   "metadata": {
    "scrolled": false
   },
   "outputs": [
    {
     "data": {
      "text/plain": [
       "Oct-99    360\n",
       "Nov-98    357\n",
       "Oct-00    341\n",
       "Dec-98    340\n",
       "Dec-97    318\n",
       "         ... \n",
       "Jun-72      1\n",
       "Oct-68      1\n",
       "Feb-67      1\n",
       "Oct-54      1\n",
       "Sep-65      1\n",
       "Name: earliest_cr_line, Length: 524, dtype: int64"
      ]
     },
     "execution_count": 24,
     "metadata": {},
     "output_type": "execute_result"
    }
   ],
   "source": [
    "loans['earliest_cr_line'].value_counts()"
   ]
  },
  {
   "cell_type": "code",
   "execution_count": 25,
   "metadata": {
    "scrolled": false
   },
   "outputs": [
    {
     "data": {
      "text/plain": [
       "0    18709\n",
       "1    10660\n",
       "2     5654\n",
       "3     2983\n",
       "4      316\n",
       "5      144\n",
       "6       63\n",
       "7       34\n",
       "8       14\n",
       "Name: inq_last_6mths, dtype: int64"
      ]
     },
     "execution_count": 25,
     "metadata": {},
     "output_type": "execute_result"
    }
   ],
   "source": [
    "loans['inq_last_6mths'].value_counts()"
   ]
  },
  {
   "cell_type": "markdown",
   "metadata": {},
   "source": [
    "**Addressing data quality issues**"
   ]
  },
  {
   "cell_type": "code",
   "execution_count": 26,
   "metadata": {
    "scrolled": false
   },
   "outputs": [
    {
     "data": {
      "text/plain": [
       "loan_amnt                  0\n",
       "funded_amnt                0\n",
       "term                       0\n",
       "int_rate                   0\n",
       "installment                0\n",
       "grade                      0\n",
       "emp_length              1033\n",
       "home_ownership             0\n",
       "annual_inc                 0\n",
       "verification_status        0\n",
       "issue_d                    0\n",
       "loan_status                0\n",
       "purpose                    0\n",
       "addr_state                 0\n",
       "dti                        0\n",
       "delinq_2yrs                0\n",
       "earliest_cr_line           0\n",
       "inq_last_6mths             0\n",
       "open_acc                   0\n",
       "pub_rec                    0\n",
       "revol_bal                  0\n",
       "revol_util                50\n",
       "total_acc                  0\n",
       "pub_rec_bankruptcies     697\n",
       "dtype: int64"
      ]
     },
     "execution_count": 26,
     "metadata": {},
     "output_type": "execute_result"
    }
   ],
   "source": [
    "loans.isnull().sum()"
   ]
  },
  {
   "cell_type": "code",
   "execution_count": 27,
   "metadata": {
    "scrolled": false
   },
   "outputs": [
    {
     "data": {
      "text/plain": [
       "(38577, 24)"
      ]
     },
     "execution_count": 27,
     "metadata": {},
     "output_type": "execute_result"
    }
   ],
   "source": [
    "loans.shape"
   ]
  },
  {
   "cell_type": "code",
   "execution_count": 28,
   "metadata": {
    "scrolled": false
   },
   "outputs": [],
   "source": [
    "##Removing rows with NA revolving util \n",
    "loans=loans[loans.revol_util.notnull()]"
   ]
  },
  {
   "cell_type": "code",
   "execution_count": 29,
   "metadata": {
    "scrolled": false
   },
   "outputs": [],
   "source": [
    "##Coverting column to numeric data\n",
    "loans['revol_util'] = loans['revol_util'].apply(lambda x: str(x).replace('%','')).apply(pd.to_numeric)"
   ]
  },
  {
   "cell_type": "code",
   "execution_count": 30,
   "metadata": {
    "scrolled": false
   },
   "outputs": [],
   "source": [
    "##Employment length keeping for now. Will evaluate if impact analysis and remove later if needed\n",
    "##loans=loans[loans.emp_length.notnull()]"
   ]
  },
  {
   "cell_type": "code",
   "execution_count": 31,
   "metadata": {
    "scrolled": false
   },
   "outputs": [
    {
     "data": {
      "text/plain": [
       "(38527, 24)"
      ]
     },
     "execution_count": 31,
     "metadata": {},
     "output_type": "execute_result"
    }
   ],
   "source": [
    "loans.shape"
   ]
  },
  {
   "cell_type": "code",
   "execution_count": 32,
   "metadata": {
    "scrolled": false
   },
   "outputs": [
    {
     "data": {
      "text/plain": [
       "loan_amnt                  0\n",
       "funded_amnt                0\n",
       "term                       0\n",
       "int_rate                   0\n",
       "installment                0\n",
       "grade                      0\n",
       "emp_length              1030\n",
       "home_ownership             0\n",
       "annual_inc                 0\n",
       "verification_status        0\n",
       "issue_d                    0\n",
       "loan_status                0\n",
       "purpose                    0\n",
       "addr_state                 0\n",
       "dti                        0\n",
       "delinq_2yrs                0\n",
       "earliest_cr_line           0\n",
       "inq_last_6mths             0\n",
       "open_acc                   0\n",
       "pub_rec                    0\n",
       "revol_bal                  0\n",
       "revol_util                 0\n",
       "total_acc                  0\n",
       "pub_rec_bankruptcies     697\n",
       "dtype: int64"
      ]
     },
     "execution_count": 32,
     "metadata": {},
     "output_type": "execute_result"
    }
   ],
   "source": [
    "loans.isnull().sum()"
   ]
  },
  {
   "cell_type": "code",
   "execution_count": 33,
   "metadata": {
    "scrolled": false
   },
   "outputs": [
    {
     "data": {
      "text/html": [
       "<div>\n",
       "<style scoped>\n",
       "    .dataframe tbody tr th:only-of-type {\n",
       "        vertical-align: middle;\n",
       "    }\n",
       "\n",
       "    .dataframe tbody tr th {\n",
       "        vertical-align: top;\n",
       "    }\n",
       "\n",
       "    .dataframe thead th {\n",
       "        text-align: right;\n",
       "    }\n",
       "</style>\n",
       "<table border=\"1\" class=\"dataframe\">\n",
       "  <thead>\n",
       "    <tr style=\"text-align: right;\">\n",
       "      <th></th>\n",
       "      <th>loan_amnt</th>\n",
       "      <th>funded_amnt</th>\n",
       "      <th>installment</th>\n",
       "      <th>annual_inc</th>\n",
       "      <th>dti</th>\n",
       "      <th>delinq_2yrs</th>\n",
       "      <th>inq_last_6mths</th>\n",
       "      <th>open_acc</th>\n",
       "      <th>pub_rec</th>\n",
       "      <th>revol_bal</th>\n",
       "      <th>revol_util</th>\n",
       "      <th>total_acc</th>\n",
       "      <th>pub_rec_bankruptcies</th>\n",
       "    </tr>\n",
       "  </thead>\n",
       "  <tbody>\n",
       "    <tr>\n",
       "      <th>loan_amnt</th>\n",
       "      <td>1.000000</td>\n",
       "      <td>0.981766</td>\n",
       "      <td>0.932187</td>\n",
       "      <td>0.268899</td>\n",
       "      <td>0.061899</td>\n",
       "      <td>-0.031998</td>\n",
       "      <td>0.012902</td>\n",
       "      <td>0.176318</td>\n",
       "      <td>-0.050140</td>\n",
       "      <td>0.313514</td>\n",
       "      <td>0.063489</td>\n",
       "      <td>0.255242</td>\n",
       "      <td>-0.036150</td>\n",
       "    </tr>\n",
       "    <tr>\n",
       "      <th>funded_amnt</th>\n",
       "      <td>0.981766</td>\n",
       "      <td>1.000000</td>\n",
       "      <td>0.957992</td>\n",
       "      <td>0.264695</td>\n",
       "      <td>0.061654</td>\n",
       "      <td>-0.031914</td>\n",
       "      <td>0.012818</td>\n",
       "      <td>0.174806</td>\n",
       "      <td>-0.050720</td>\n",
       "      <td>0.305991</td>\n",
       "      <td>0.067356</td>\n",
       "      <td>0.249606</td>\n",
       "      <td>-0.037164</td>\n",
       "    </tr>\n",
       "    <tr>\n",
       "      <th>installment</th>\n",
       "      <td>0.932187</td>\n",
       "      <td>0.957992</td>\n",
       "      <td>1.000000</td>\n",
       "      <td>0.267752</td>\n",
       "      <td>0.051497</td>\n",
       "      <td>-0.019801</td>\n",
       "      <td>0.010981</td>\n",
       "      <td>0.172105</td>\n",
       "      <td>-0.045839</td>\n",
       "      <td>0.309048</td>\n",
       "      <td>0.093049</td>\n",
       "      <td>0.228947</td>\n",
       "      <td>-0.033520</td>\n",
       "    </tr>\n",
       "    <tr>\n",
       "      <th>annual_inc</th>\n",
       "      <td>0.268899</td>\n",
       "      <td>0.264695</td>\n",
       "      <td>0.267752</td>\n",
       "      <td>1.000000</td>\n",
       "      <td>-0.121668</td>\n",
       "      <td>0.022082</td>\n",
       "      <td>0.035528</td>\n",
       "      <td>0.156794</td>\n",
       "      <td>-0.017958</td>\n",
       "      <td>0.277253</td>\n",
       "      <td>0.016707</td>\n",
       "      <td>0.234388</td>\n",
       "      <td>-0.016280</td>\n",
       "    </tr>\n",
       "    <tr>\n",
       "      <th>dti</th>\n",
       "      <td>0.061899</td>\n",
       "      <td>0.061654</td>\n",
       "      <td>0.051497</td>\n",
       "      <td>-0.121668</td>\n",
       "      <td>1.000000</td>\n",
       "      <td>-0.033500</td>\n",
       "      <td>0.001941</td>\n",
       "      <td>0.287996</td>\n",
       "      <td>-0.004870</td>\n",
       "      <td>0.227936</td>\n",
       "      <td>0.278941</td>\n",
       "      <td>0.228868</td>\n",
       "      <td>0.005686</td>\n",
       "    </tr>\n",
       "    <tr>\n",
       "      <th>delinq_2yrs</th>\n",
       "      <td>-0.031998</td>\n",
       "      <td>-0.031914</td>\n",
       "      <td>-0.019801</td>\n",
       "      <td>0.022082</td>\n",
       "      <td>-0.033500</td>\n",
       "      <td>1.000000</td>\n",
       "      <td>0.008742</td>\n",
       "      <td>0.011797</td>\n",
       "      <td>0.007708</td>\n",
       "      <td>-0.055127</td>\n",
       "      <td>-0.042616</td>\n",
       "      <td>0.066988</td>\n",
       "      <td>0.003456</td>\n",
       "    </tr>\n",
       "    <tr>\n",
       "      <th>inq_last_6mths</th>\n",
       "      <td>0.012902</td>\n",
       "      <td>0.012818</td>\n",
       "      <td>0.010981</td>\n",
       "      <td>0.035528</td>\n",
       "      <td>0.001941</td>\n",
       "      <td>0.008742</td>\n",
       "      <td>1.000000</td>\n",
       "      <td>0.093615</td>\n",
       "      <td>0.023820</td>\n",
       "      <td>-0.020753</td>\n",
       "      <td>-0.070206</td>\n",
       "      <td>0.113659</td>\n",
       "      <td>0.015511</td>\n",
       "    </tr>\n",
       "    <tr>\n",
       "      <th>open_acc</th>\n",
       "      <td>0.176318</td>\n",
       "      <td>0.174806</td>\n",
       "      <td>0.172105</td>\n",
       "      <td>0.156794</td>\n",
       "      <td>0.287996</td>\n",
       "      <td>0.011797</td>\n",
       "      <td>0.093615</td>\n",
       "      <td>1.000000</td>\n",
       "      <td>-0.000027</td>\n",
       "      <td>0.287420</td>\n",
       "      <td>-0.089923</td>\n",
       "      <td>0.687034</td>\n",
       "      <td>0.005700</td>\n",
       "    </tr>\n",
       "    <tr>\n",
       "      <th>pub_rec</th>\n",
       "      <td>-0.050140</td>\n",
       "      <td>-0.050720</td>\n",
       "      <td>-0.045839</td>\n",
       "      <td>-0.017958</td>\n",
       "      <td>-0.004870</td>\n",
       "      <td>0.007708</td>\n",
       "      <td>0.023820</td>\n",
       "      <td>-0.000027</td>\n",
       "      <td>1.000000</td>\n",
       "      <td>-0.060612</td>\n",
       "      <td>0.058942</td>\n",
       "      <td>-0.023611</td>\n",
       "      <td>0.846057</td>\n",
       "    </tr>\n",
       "    <tr>\n",
       "      <th>revol_bal</th>\n",
       "      <td>0.313514</td>\n",
       "      <td>0.305991</td>\n",
       "      <td>0.309048</td>\n",
       "      <td>0.277253</td>\n",
       "      <td>0.227936</td>\n",
       "      <td>-0.055127</td>\n",
       "      <td>-0.020753</td>\n",
       "      <td>0.287420</td>\n",
       "      <td>-0.060612</td>\n",
       "      <td>1.000000</td>\n",
       "      <td>0.301248</td>\n",
       "      <td>0.311990</td>\n",
       "      <td>-0.048723</td>\n",
       "    </tr>\n",
       "    <tr>\n",
       "      <th>revol_util</th>\n",
       "      <td>0.063489</td>\n",
       "      <td>0.067356</td>\n",
       "      <td>0.093049</td>\n",
       "      <td>0.016707</td>\n",
       "      <td>0.278941</td>\n",
       "      <td>-0.042616</td>\n",
       "      <td>-0.070206</td>\n",
       "      <td>-0.089923</td>\n",
       "      <td>0.058942</td>\n",
       "      <td>0.301248</td>\n",
       "      <td>1.000000</td>\n",
       "      <td>-0.070650</td>\n",
       "      <td>0.060316</td>\n",
       "    </tr>\n",
       "    <tr>\n",
       "      <th>total_acc</th>\n",
       "      <td>0.255242</td>\n",
       "      <td>0.249606</td>\n",
       "      <td>0.228947</td>\n",
       "      <td>0.234388</td>\n",
       "      <td>0.228868</td>\n",
       "      <td>0.066988</td>\n",
       "      <td>0.113659</td>\n",
       "      <td>0.687034</td>\n",
       "      <td>-0.023611</td>\n",
       "      <td>0.311990</td>\n",
       "      <td>-0.070650</td>\n",
       "      <td>1.000000</td>\n",
       "      <td>-0.011189</td>\n",
       "    </tr>\n",
       "    <tr>\n",
       "      <th>pub_rec_bankruptcies</th>\n",
       "      <td>-0.036150</td>\n",
       "      <td>-0.037164</td>\n",
       "      <td>-0.033520</td>\n",
       "      <td>-0.016280</td>\n",
       "      <td>0.005686</td>\n",
       "      <td>0.003456</td>\n",
       "      <td>0.015511</td>\n",
       "      <td>0.005700</td>\n",
       "      <td>0.846057</td>\n",
       "      <td>-0.048723</td>\n",
       "      <td>0.060316</td>\n",
       "      <td>-0.011189</td>\n",
       "      <td>1.000000</td>\n",
       "    </tr>\n",
       "  </tbody>\n",
       "</table>\n",
       "</div>"
      ],
      "text/plain": [
       "                      loan_amnt  funded_amnt  installment  annual_inc  \\\n",
       "loan_amnt              1.000000     0.981766     0.932187    0.268899   \n",
       "funded_amnt            0.981766     1.000000     0.957992    0.264695   \n",
       "installment            0.932187     0.957992     1.000000    0.267752   \n",
       "annual_inc             0.268899     0.264695     0.267752    1.000000   \n",
       "dti                    0.061899     0.061654     0.051497   -0.121668   \n",
       "delinq_2yrs           -0.031998    -0.031914    -0.019801    0.022082   \n",
       "inq_last_6mths         0.012902     0.012818     0.010981    0.035528   \n",
       "open_acc               0.176318     0.174806     0.172105    0.156794   \n",
       "pub_rec               -0.050140    -0.050720    -0.045839   -0.017958   \n",
       "revol_bal              0.313514     0.305991     0.309048    0.277253   \n",
       "revol_util             0.063489     0.067356     0.093049    0.016707   \n",
       "total_acc              0.255242     0.249606     0.228947    0.234388   \n",
       "pub_rec_bankruptcies  -0.036150    -0.037164    -0.033520   -0.016280   \n",
       "\n",
       "                           dti  delinq_2yrs  inq_last_6mths  open_acc  \\\n",
       "loan_amnt             0.061899    -0.031998        0.012902  0.176318   \n",
       "funded_amnt           0.061654    -0.031914        0.012818  0.174806   \n",
       "installment           0.051497    -0.019801        0.010981  0.172105   \n",
       "annual_inc           -0.121668     0.022082        0.035528  0.156794   \n",
       "dti                   1.000000    -0.033500        0.001941  0.287996   \n",
       "delinq_2yrs          -0.033500     1.000000        0.008742  0.011797   \n",
       "inq_last_6mths        0.001941     0.008742        1.000000  0.093615   \n",
       "open_acc              0.287996     0.011797        0.093615  1.000000   \n",
       "pub_rec              -0.004870     0.007708        0.023820 -0.000027   \n",
       "revol_bal             0.227936    -0.055127       -0.020753  0.287420   \n",
       "revol_util            0.278941    -0.042616       -0.070206 -0.089923   \n",
       "total_acc             0.228868     0.066988        0.113659  0.687034   \n",
       "pub_rec_bankruptcies  0.005686     0.003456        0.015511  0.005700   \n",
       "\n",
       "                       pub_rec  revol_bal  revol_util  total_acc  \\\n",
       "loan_amnt            -0.050140   0.313514    0.063489   0.255242   \n",
       "funded_amnt          -0.050720   0.305991    0.067356   0.249606   \n",
       "installment          -0.045839   0.309048    0.093049   0.228947   \n",
       "annual_inc           -0.017958   0.277253    0.016707   0.234388   \n",
       "dti                  -0.004870   0.227936    0.278941   0.228868   \n",
       "delinq_2yrs           0.007708  -0.055127   -0.042616   0.066988   \n",
       "inq_last_6mths        0.023820  -0.020753   -0.070206   0.113659   \n",
       "open_acc             -0.000027   0.287420   -0.089923   0.687034   \n",
       "pub_rec               1.000000  -0.060612    0.058942  -0.023611   \n",
       "revol_bal            -0.060612   1.000000    0.301248   0.311990   \n",
       "revol_util            0.058942   0.301248    1.000000  -0.070650   \n",
       "total_acc            -0.023611   0.311990   -0.070650   1.000000   \n",
       "pub_rec_bankruptcies  0.846057  -0.048723    0.060316  -0.011189   \n",
       "\n",
       "                      pub_rec_bankruptcies  \n",
       "loan_amnt                        -0.036150  \n",
       "funded_amnt                      -0.037164  \n",
       "installment                      -0.033520  \n",
       "annual_inc                       -0.016280  \n",
       "dti                               0.005686  \n",
       "delinq_2yrs                       0.003456  \n",
       "inq_last_6mths                    0.015511  \n",
       "open_acc                          0.005700  \n",
       "pub_rec                           0.846057  \n",
       "revol_bal                        -0.048723  \n",
       "revol_util                        0.060316  \n",
       "total_acc                        -0.011189  \n",
       "pub_rec_bankruptcies              1.000000  "
      ]
     },
     "execution_count": 33,
     "metadata": {},
     "output_type": "execute_result"
    }
   ],
   "source": [
    "##checking Correlation across variables to check redundant data\n",
    "loans.corr()"
   ]
  },
  {
   "cell_type": "code",
   "execution_count": 34,
   "metadata": {
    "scrolled": false
   },
   "outputs": [],
   "source": [
    "##Dropping columns with higher correlation so redundant data (loans/pub_rec/open_acc)\n",
    "loans.drop(['installment','pub_rec_bankruptcies','total_acc'],axis=1,inplace=True)"
   ]
  },
  {
   "cell_type": "code",
   "execution_count": 35,
   "metadata": {
    "scrolled": false
   },
   "outputs": [
    {
     "name": "stdout",
     "output_type": "stream",
     "text": [
      "<class 'pandas.core.frame.DataFrame'>\n",
      "Int64Index: 38527 entries, 0 to 39716\n",
      "Data columns (total 21 columns):\n",
      " #   Column               Non-Null Count  Dtype  \n",
      "---  ------               --------------  -----  \n",
      " 0   loan_amnt            38527 non-null  int64  \n",
      " 1   funded_amnt          38527 non-null  int64  \n",
      " 2   term                 38527 non-null  object \n",
      " 3   int_rate             38527 non-null  object \n",
      " 4   grade                38527 non-null  object \n",
      " 5   emp_length           37497 non-null  object \n",
      " 6   home_ownership       38527 non-null  object \n",
      " 7   annual_inc           38527 non-null  float64\n",
      " 8   verification_status  38527 non-null  object \n",
      " 9   issue_d              38527 non-null  object \n",
      " 10  loan_status          38527 non-null  object \n",
      " 11  purpose              38527 non-null  object \n",
      " 12  addr_state           38527 non-null  object \n",
      " 13  dti                  38527 non-null  float64\n",
      " 14  delinq_2yrs          38527 non-null  int64  \n",
      " 15  earliest_cr_line     38527 non-null  object \n",
      " 16  inq_last_6mths       38527 non-null  int64  \n",
      " 17  open_acc             38527 non-null  int64  \n",
      " 18  pub_rec              38527 non-null  int64  \n",
      " 19  revol_bal            38527 non-null  int64  \n",
      " 20  revol_util           38527 non-null  float64\n",
      "dtypes: float64(3), int64(7), object(11)\n",
      "memory usage: 6.5+ MB\n"
     ]
    }
   ],
   "source": [
    "loans.info()"
   ]
  },
  {
   "cell_type": "code",
   "execution_count": 36,
   "metadata": {},
   "outputs": [],
   "source": [
    "##Converting interest rate to numeric so quantitative analysis can be done later\n",
    "loans['int_rate']=loans['int_rate'].apply(lambda x: float(x.replace('%','')))"
   ]
  },
  {
   "cell_type": "code",
   "execution_count": 37,
   "metadata": {},
   "outputs": [],
   "source": [
    "def handleyear(d):\n",
    "    if d > datetime.now():\n",
    "        d = datetime(d.year - 100, d.month, d.day)\n",
    "    return d"
   ]
  },
  {
   "cell_type": "code",
   "execution_count": 38,
   "metadata": {},
   "outputs": [],
   "source": [
    "##Create derived column for year from earliest credit line\n",
    "loans['earliest_cr_line_year'] = loans['earliest_cr_line'].apply(lambda x: datetime.strptime(x, '%b-%y')).apply(handleyear).dt.year"
   ]
  },
  {
   "cell_type": "code",
   "execution_count": 39,
   "metadata": {},
   "outputs": [],
   "source": [
    "##Create derived column for year from issue date\n",
    "loans['issue_d_year'] = loans['issue_d'].apply(lambda x: datetime.strptime(x, '%b-%y')).apply(handleyear).dt.year"
   ]
  },
  {
   "cell_type": "code",
   "execution_count": 40,
   "metadata": {},
   "outputs": [
    {
     "name": "stdout",
     "output_type": "stream",
     "text": [
      "<class 'pandas.core.frame.DataFrame'>\n",
      "Int64Index: 38527 entries, 0 to 39716\n",
      "Data columns (total 23 columns):\n",
      " #   Column                 Non-Null Count  Dtype  \n",
      "---  ------                 --------------  -----  \n",
      " 0   loan_amnt              38527 non-null  int64  \n",
      " 1   funded_amnt            38527 non-null  int64  \n",
      " 2   term                   38527 non-null  object \n",
      " 3   int_rate               38527 non-null  float64\n",
      " 4   grade                  38527 non-null  object \n",
      " 5   emp_length             37497 non-null  object \n",
      " 6   home_ownership         38527 non-null  object \n",
      " 7   annual_inc             38527 non-null  float64\n",
      " 8   verification_status    38527 non-null  object \n",
      " 9   issue_d                38527 non-null  object \n",
      " 10  loan_status            38527 non-null  object \n",
      " 11  purpose                38527 non-null  object \n",
      " 12  addr_state             38527 non-null  object \n",
      " 13  dti                    38527 non-null  float64\n",
      " 14  delinq_2yrs            38527 non-null  int64  \n",
      " 15  earliest_cr_line       38527 non-null  object \n",
      " 16  inq_last_6mths         38527 non-null  int64  \n",
      " 17  open_acc               38527 non-null  int64  \n",
      " 18  pub_rec                38527 non-null  int64  \n",
      " 19  revol_bal              38527 non-null  int64  \n",
      " 20  revol_util             38527 non-null  float64\n",
      " 21  earliest_cr_line_year  38527 non-null  int64  \n",
      " 22  issue_d_year           38527 non-null  int64  \n",
      "dtypes: float64(4), int64(9), object(10)\n",
      "memory usage: 7.1+ MB\n"
     ]
    }
   ],
   "source": [
    "loans.info()"
   ]
  },
  {
   "cell_type": "markdown",
   "metadata": {},
   "source": [
    "### Data Analysis"
   ]
  },
  {
   "cell_type": "markdown",
   "metadata": {},
   "source": [
    "**Univariant Analysis/Segmented univariate Analysis**"
   ]
  },
  {
   "cell_type": "code",
   "execution_count": 41,
   "metadata": {},
   "outputs": [
    {
     "name": "stdout",
     "output_type": "stream",
     "text": [
      "<class 'pandas.core.frame.DataFrame'>\n",
      "Int64Index: 38527 entries, 0 to 39716\n",
      "Data columns (total 23 columns):\n",
      " #   Column                 Non-Null Count  Dtype  \n",
      "---  ------                 --------------  -----  \n",
      " 0   loan_amnt              38527 non-null  int64  \n",
      " 1   funded_amnt            38527 non-null  int64  \n",
      " 2   term                   38527 non-null  object \n",
      " 3   int_rate               38527 non-null  float64\n",
      " 4   grade                  38527 non-null  object \n",
      " 5   emp_length             37497 non-null  object \n",
      " 6   home_ownership         38527 non-null  object \n",
      " 7   annual_inc             38527 non-null  float64\n",
      " 8   verification_status    38527 non-null  object \n",
      " 9   issue_d                38527 non-null  object \n",
      " 10  loan_status            38527 non-null  object \n",
      " 11  purpose                38527 non-null  object \n",
      " 12  addr_state             38527 non-null  object \n",
      " 13  dti                    38527 non-null  float64\n",
      " 14  delinq_2yrs            38527 non-null  int64  \n",
      " 15  earliest_cr_line       38527 non-null  object \n",
      " 16  inq_last_6mths         38527 non-null  int64  \n",
      " 17  open_acc               38527 non-null  int64  \n",
      " 18  pub_rec                38527 non-null  int64  \n",
      " 19  revol_bal              38527 non-null  int64  \n",
      " 20  revol_util             38527 non-null  float64\n",
      " 21  earliest_cr_line_year  38527 non-null  int64  \n",
      " 22  issue_d_year           38527 non-null  int64  \n",
      "dtypes: float64(4), int64(9), object(10)\n",
      "memory usage: 7.1+ MB\n"
     ]
    }
   ],
   "source": [
    "loans.info()"
   ]
  },
  {
   "cell_type": "code",
   "execution_count": 42,
   "metadata": {},
   "outputs": [],
   "source": [
    "##create derived metrics to aggregate charged off cases later\n",
    "loans['loan_status_failed'] = loans['loan_status'].apply(lambda x: 1 if x=='Charged Off' else 0)"
   ]
  },
  {
   "cell_type": "code",
   "execution_count": 43,
   "metadata": {
    "scrolled": false
   },
   "outputs": [
    {
     "data": {
      "text/plain": [
       "Fully Paid     32916\n",
       "Charged Off     5611\n",
       "Name: loan_status, dtype: int64"
      ]
     },
     "execution_count": 43,
     "metadata": {},
     "output_type": "execute_result"
    }
   ],
   "source": [
    "loans['loan_status'].value_counts()"
   ]
  },
  {
   "cell_type": "code",
   "execution_count": 44,
   "metadata": {},
   "outputs": [
    {
     "data": {
      "text/plain": [
       "[Text(0, 0.5, 'Count'), Text(0.5, 0, 'Loan Status')]"
      ]
     },
     "execution_count": 44,
     "metadata": {},
     "output_type": "execute_result"
    },
    {
     "data": {
      "image/png": "[encoded data removed]",
      "text/plain": [
       "<Figure size 432x288 with 1 Axes>"
      ]
     },
     "metadata": {
      "needs_background": "light"
     },
     "output_type": "display_data"
    }
   ],
   "source": [
    "g=loans['loan_status'].value_counts().plot.bar()\n",
    "g.set(xlabel='Loan Status',ylabel='Count')"
   ]
  },
  {
   "cell_type": "markdown",
   "metadata": {},
   "source": [
    "**Perentage of total loans charged off. Our goal is to give actionable suggestions to reduce this. Also for new loans, setup guideline so data driven decision can be taken**\n",
    "\n"
   ]
  },
  {
   "cell_type": "code",
   "execution_count": 45,
   "metadata": {},
   "outputs": [
    {
     "data": {
      "text/plain": [
       "14.56"
      ]
     },
     "execution_count": 45,
     "metadata": {},
     "output_type": "execute_result"
    }
   ],
   "source": [
    "##Perentage of total loans charged off. Any feature variation which increases default rate beyond average will have opportunity to improve while screening loans\n",
    "round((loans['loan_status'].value_counts()[1]/loans.shape[0]),4)*100"
   ]
  },
  {
   "cell_type": "markdown",
   "metadata": {},
   "source": [
    "**Annual income between 10-100K have more defaults**"
   ]
  },
  {
   "cell_type": "code",
   "execution_count": 46,
   "metadata": {},
   "outputs": [
    {
     "data": {
      "image/png": "[encoded data removed]",
      "text/plain": [
       "<Figure size 432x288 with 1 Axes>"
      ]
     },
     "metadata": {
      "needs_background": "light"
     },
     "output_type": "display_data"
    }
   ],
   "source": [
    "g=loans.annual_inc.plot.box()\n",
    "g.set_yscale('log')"
   ]
  },
  {
   "cell_type": "code",
   "execution_count": 47,
   "metadata": {},
   "outputs": [],
   "source": [
    "##bucketing annual income ranges\n",
    "loans['income_range'] = pd.cut(loans.annual_inc,bins=[0,10000,30000,50000,100000,10000000],labels=['below 10K','>10K & <30K','>30K &< 50K','>50K & <100K','>100K'])"
   ]
  },
  {
   "cell_type": "code",
   "execution_count": 48,
   "metadata": {},
   "outputs": [
    {
     "data": {
      "text/plain": [
       "[Text(0, 0.5, 'Default Count'), Text(0.5, 0, 'Income Range')]"
      ]
     },
     "execution_count": 48,
     "metadata": {},
     "output_type": "execute_result"
    },
    {
     "data": {
      "image/png": "[encoded data removed]",
      "text/plain": [
       "<Figure size 432x288 with 1 Axes>"
      ]
     },
     "metadata": {
      "needs_background": "light"
     },
     "output_type": "display_data"
    }
   ],
   "source": [
    "## total Charge off in each income bucket\n",
    "g=loans[loans['loan_status']=='Charged Off']['income_range'].value_counts().plot.bar()\n",
    "g.set(xlabel='Income Range',ylabel='Default Count')"
   ]
  },
  {
   "cell_type": "code",
   "execution_count": 49,
   "metadata": {},
   "outputs": [
    {
     "data": {
      "text/plain": [
       "below 10K       0.204301\n",
       ">10K & <30K     0.183089\n",
       ">30K &< 50K     0.163324\n",
       ">50K & <100K    0.136764\n",
       ">100K           0.108069\n",
       "Name: income_range, dtype: float64"
      ]
     },
     "execution_count": 49,
     "metadata": {},
     "output_type": "execute_result"
    }
   ],
   "source": [
    "##relative sense\n",
    "(loans[loans['loan_status']=='Charged Off']['income_range'].value_counts()/loans['income_range'].value_counts())"
   ]
  },
  {
   "cell_type": "markdown",
   "metadata": {},
   "source": [
    "**Loan amount by income vs default rate using data driven matrix**"
   ]
  },
  {
   "cell_type": "code",
   "execution_count": 50,
   "metadata": {},
   "outputs": [],
   "source": [
    "## Data driven matrix\n",
    "loans['amt_by_income']=round((loans['funded_amnt']/loans['annual_inc']),4)"
   ]
  },
  {
   "cell_type": "code",
   "execution_count": 51,
   "metadata": {},
   "outputs": [
    {
     "data": {
      "text/plain": [
       "0.18210906636903948"
      ]
     },
     "execution_count": 51,
     "metadata": {},
     "output_type": "execute_result"
    }
   ],
   "source": [
    "loans['amt_by_income'].mean()"
   ]
  },
  {
   "cell_type": "code",
   "execution_count": 52,
   "metadata": {},
   "outputs": [
    {
     "data": {
      "text/html": [
       "<div>\n",
       "<style scoped>\n",
       "    .dataframe tbody tr th:only-of-type {\n",
       "        vertical-align: middle;\n",
       "    }\n",
       "\n",
       "    .dataframe tbody tr th {\n",
       "        vertical-align: top;\n",
       "    }\n",
       "\n",
       "    .dataframe thead th {\n",
       "        text-align: right;\n",
       "    }\n",
       "</style>\n",
       "<table border=\"1\" class=\"dataframe\">\n",
       "  <thead>\n",
       "    <tr style=\"text-align: right;\">\n",
       "      <th></th>\n",
       "      <th>count</th>\n",
       "      <th>mean</th>\n",
       "      <th>std</th>\n",
       "      <th>min</th>\n",
       "      <th>25%</th>\n",
       "      <th>50%</th>\n",
       "      <th>75%</th>\n",
       "      <th>max</th>\n",
       "    </tr>\n",
       "    <tr>\n",
       "      <th>loan_status</th>\n",
       "      <th></th>\n",
       "      <th></th>\n",
       "      <th></th>\n",
       "      <th></th>\n",
       "      <th></th>\n",
       "      <th></th>\n",
       "      <th></th>\n",
       "      <th></th>\n",
       "    </tr>\n",
       "  </thead>\n",
       "  <tbody>\n",
       "    <tr>\n",
       "      <th>Charged Off</th>\n",
       "      <td>5611.0</td>\n",
       "      <td>0.213619</td>\n",
       "      <td>0.126457</td>\n",
       "      <td>0.0052</td>\n",
       "      <td>0.1130</td>\n",
       "      <td>0.1923</td>\n",
       "      <td>0.2941</td>\n",
       "      <td>0.7712</td>\n",
       "    </tr>\n",
       "    <tr>\n",
       "      <th>Fully Paid</th>\n",
       "      <td>32916.0</td>\n",
       "      <td>0.176738</td>\n",
       "      <td>0.108763</td>\n",
       "      <td>0.0008</td>\n",
       "      <td>0.0941</td>\n",
       "      <td>0.1549</td>\n",
       "      <td>0.2381</td>\n",
       "      <td>0.8300</td>\n",
       "    </tr>\n",
       "  </tbody>\n",
       "</table>\n",
       "</div>"
      ],
      "text/plain": [
       "               count      mean       std     min     25%     50%     75%  \\\n",
       "loan_status                                                                \n",
       "Charged Off   5611.0  0.213619  0.126457  0.0052  0.1130  0.1923  0.2941   \n",
       "Fully Paid   32916.0  0.176738  0.108763  0.0008  0.0941  0.1549  0.2381   \n",
       "\n",
       "                max  \n",
       "loan_status          \n",
       "Charged Off  0.7712  \n",
       "Fully Paid   0.8300  "
      ]
     },
     "execution_count": 52,
     "metadata": {},
     "output_type": "execute_result"
    }
   ],
   "source": [
    "loans.groupby(by='loan_status')['amt_by_income'].describe()"
   ]
  },
  {
   "cell_type": "code",
   "execution_count": 53,
   "metadata": {},
   "outputs": [
    {
     "data": {
      "text/plain": [
       "[Text(0, 0.5, 'Funded Amt / Income'), Text(0.5, 0, 'Loan Status')]"
      ]
     },
     "execution_count": 53,
     "metadata": {},
     "output_type": "execute_result"
    },
    {
     "data": {
      "image/png": "[encoded data removed]",
      "text/plain": [
       "<Figure size 432x288 with 1 Axes>"
      ]
     },
     "metadata": {
      "needs_background": "light"
     },
     "output_type": "display_data"
    }
   ],
   "source": [
    "##\n",
    "g=sns.boxplot(loans.loan_status,loans.amt_by_income)\n",
    "g.set(xlabel='Loan Status',ylabel='Funded Amt / Income')"
   ]
  },
  {
   "cell_type": "code",
   "execution_count": 54,
   "metadata": {},
   "outputs": [],
   "source": [
    "##bucketing income range \n",
    "loans['amt_by_income_range_cat'] = pd.cut(loans.amt_by_income,bins=[0,0.1,0.2,0.3,0.4,0.5,0.6,0.7,0.8,0.9,1.0],labels=['0-0.1','0.1-0.2','0.2-0.3','0.3-0.4','0.4-0.5','0.5-0.6','0.6-0.7','0.7-0.8','0.8-0.9','0.9-1'])"
   ]
  },
  {
   "cell_type": "markdown",
   "metadata": {},
   "source": [
    "**Beyond 30% funded amount to annual income ratio, default risk increases beyond average of 14%(overall default rate) so reduce funded amount/stop giving such loans so overall default average will also go down**\n",
    "\n"
   ]
  },
  {
   "cell_type": "code",
   "execution_count": 55,
   "metadata": {},
   "outputs": [
    {
     "data": {
      "text/plain": [
       "[Text(0, 0.5, 'Fraction of Default'), Text(0.5, 0, 'Funded Amt / Income')]"
      ]
     },
     "execution_count": 55,
     "metadata": {},
     "output_type": "execute_result"
    },
    {
     "data": {
      "image/png": "[encoded data removed]",
      "text/plain": [
       "<Figure size 432x288 with 1 Axes>"
      ]
     },
     "metadata": {
      "needs_background": "light"
     },
     "output_type": "display_data"
    }
   ],
   "source": [
    "g=round(loans.groupby(by='amt_by_income_range_cat')['loan_status_failed'].mean(),4).plot.bar()\n",
    "g.set(xlabel='Funded Amt / Income',ylabel='Fraction of Default')"
   ]
  },
  {
   "cell_type": "markdown",
   "metadata": {},
   "source": [
    "**dti vs loan status using data driven matrix**"
   ]
  },
  {
   "cell_type": "code",
   "execution_count": 56,
   "metadata": {},
   "outputs": [
    {
     "data": {
      "text/plain": [
       "[Text(0, 0.5, 'dti'), Text(0.5, 0, 'Loan Status')]"
      ]
     },
     "execution_count": 56,
     "metadata": {},
     "output_type": "execute_result"
    },
    {
     "data": {
      "image/png": "[encoded data removed]",
      "text/plain": [
       "<Figure size 432x288 with 1 Axes>"
      ]
     },
     "metadata": {
      "needs_background": "light"
     },
     "output_type": "display_data"
    }
   ],
   "source": [
    "g=round(loans.groupby(by='loan_status')['dti'].mean(),4).plot.bar()\n",
    "g.set(xlabel='Loan Status',ylabel='dti')"
   ]
  },
  {
   "cell_type": "code",
   "execution_count": 57,
   "metadata": {},
   "outputs": [
    {
     "data": {
      "text/plain": [
       "count    38527.000000\n",
       "mean        13.276353\n",
       "std          6.671392\n",
       "min          0.000000\n",
       "25%          8.140000\n",
       "50%         13.370000\n",
       "75%         18.560000\n",
       "max         29.990000\n",
       "Name: dti, dtype: float64"
      ]
     },
     "execution_count": 57,
     "metadata": {},
     "output_type": "execute_result"
    }
   ],
   "source": [
    "loans['dti'].describe()"
   ]
  },
  {
   "cell_type": "code",
   "execution_count": 58,
   "metadata": {},
   "outputs": [],
   "source": [
    "##bucketing dti range \n",
    "loans['dti_range_cat'] = pd.cut(loans.dti,bins=[0,5,10,15,20,25,30],labels=['0-5','5-10','10-15','15-20','20-25','25-30'])"
   ]
  },
  {
   "cell_type": "markdown",
   "metadata": {},
   "source": [
    "**Loan become risky with increased dti >20, so reduce funded amount**"
   ]
  },
  {
   "cell_type": "code",
   "execution_count": 59,
   "metadata": {},
   "outputs": [
    {
     "data": {
      "text/plain": [
       "[Text(0, 0.5, 'Fraction of Default'), Text(0.5, 0, 'dti Range')]"
      ]
     },
     "execution_count": 59,
     "metadata": {},
     "output_type": "execute_result"
    },
    {
     "data": {
      "image/png": "[encoded data removed]",
      "text/plain": [
       "<Figure size 432x288 with 1 Axes>"
      ]
     },
     "metadata": {
      "needs_background": "light"
     },
     "output_type": "display_data"
    }
   ],
   "source": [
    "##loan become risky with increased dti >20, so reduce funded amount\n",
    "g=round(loans.groupby(by='dti_range_cat')['loan_status_failed'].mean(),4).plot.bar()\n",
    "g.set(xlabel='dti Range',ylabel='Fraction of Default')"
   ]
  },
  {
   "cell_type": "code",
   "execution_count": 60,
   "metadata": {},
   "outputs": [
    {
     "data": {
      "text/plain": [
       "dti_range_cat\n",
       "0-5      0.122026\n",
       "5-10     0.127527\n",
       "10-15    0.145114\n",
       "15-20    0.157614\n",
       "20-25    0.169659\n",
       "25-30    0.139647\n",
       "Name: loan_status_failed, dtype: float64"
      ]
     },
     "execution_count": 60,
     "metadata": {},
     "output_type": "execute_result"
    }
   ],
   "source": [
    "loans.groupby(by='dti_range_cat')['loan_status_failed'].mean()"
   ]
  },
  {
   "cell_type": "markdown",
   "metadata": {},
   "source": [
    "**Higher interest rates causes more defaults so reducing funding amount for high risk loans makes more sense**"
   ]
  },
  {
   "cell_type": "code",
   "execution_count": 61,
   "metadata": {},
   "outputs": [
    {
     "data": {
      "text/plain": [
       "grade\n",
       "A     7.330979\n",
       "B    11.007814\n",
       "C    13.534224\n",
       "D    15.662780\n",
       "E    17.631629\n",
       "F    19.649536\n",
       "G    21.312424\n",
       "Name: int_rate, dtype: float64"
      ]
     },
     "execution_count": 61,
     "metadata": {},
     "output_type": "execute_result"
    }
   ],
   "source": [
    "##Interest rate increases as Grade goes down, however we are seeing more defaults with increased rate so better reduce funded amount\n",
    "loans.groupby(by='grade').int_rate.mean()"
   ]
  },
  {
   "cell_type": "code",
   "execution_count": 62,
   "metadata": {},
   "outputs": [
    {
     "data": {
      "text/html": [
       "<div>\n",
       "<style scoped>\n",
       "    .dataframe tbody tr th:only-of-type {\n",
       "        vertical-align: middle;\n",
       "    }\n",
       "\n",
       "    .dataframe tbody tr th {\n",
       "        vertical-align: top;\n",
       "    }\n",
       "\n",
       "    .dataframe thead th {\n",
       "        text-align: right;\n",
       "    }\n",
       "</style>\n",
       "<table border=\"1\" class=\"dataframe\">\n",
       "  <thead>\n",
       "    <tr style=\"text-align: right;\">\n",
       "      <th></th>\n",
       "      <th>count</th>\n",
       "      <th>mean</th>\n",
       "      <th>std</th>\n",
       "      <th>min</th>\n",
       "      <th>25%</th>\n",
       "      <th>50%</th>\n",
       "      <th>75%</th>\n",
       "      <th>max</th>\n",
       "    </tr>\n",
       "    <tr>\n",
       "      <th>loan_status</th>\n",
       "      <th></th>\n",
       "      <th></th>\n",
       "      <th></th>\n",
       "      <th></th>\n",
       "      <th></th>\n",
       "      <th></th>\n",
       "      <th></th>\n",
       "      <th></th>\n",
       "    </tr>\n",
       "  </thead>\n",
       "  <tbody>\n",
       "    <tr>\n",
       "      <th>Charged Off</th>\n",
       "      <td>5611.0</td>\n",
       "      <td>13.813317</td>\n",
       "      <td>3.653971</td>\n",
       "      <td>5.42</td>\n",
       "      <td>11.28</td>\n",
       "      <td>13.57</td>\n",
       "      <td>16.40</td>\n",
       "      <td>24.40</td>\n",
       "    </tr>\n",
       "    <tr>\n",
       "      <th>Fully Paid</th>\n",
       "      <td>32916.0</td>\n",
       "      <td>11.605893</td>\n",
       "      <td>3.599073</td>\n",
       "      <td>5.42</td>\n",
       "      <td>8.49</td>\n",
       "      <td>11.49</td>\n",
       "      <td>13.99</td>\n",
       "      <td>24.11</td>\n",
       "    </tr>\n",
       "  </tbody>\n",
       "</table>\n",
       "</div>"
      ],
      "text/plain": [
       "               count       mean       std   min    25%    50%    75%    max\n",
       "loan_status                                                                \n",
       "Charged Off   5611.0  13.813317  3.653971  5.42  11.28  13.57  16.40  24.40\n",
       "Fully Paid   32916.0  11.605893  3.599073  5.42   8.49  11.49  13.99  24.11"
      ]
     },
     "execution_count": 62,
     "metadata": {},
     "output_type": "execute_result"
    }
   ],
   "source": [
    "loans.groupby(by='loan_status').int_rate.describe()"
   ]
  },
  {
   "cell_type": "code",
   "execution_count": 63,
   "metadata": {},
   "outputs": [
    {
     "data": {
      "text/plain": [
       "[Text(0, 0.5, 'Interest Rates %'), Text(0.5, 0, 'Grade')]"
      ]
     },
     "execution_count": 63,
     "metadata": {},
     "output_type": "execute_result"
    },
    {
     "data": {
      "image/png": "[encoded data removed]",
      "text/plain": [
       "<Figure size 432x288 with 1 Axes>"
      ]
     },
     "metadata": {
      "needs_background": "light"
     },
     "output_type": "display_data"
    }
   ],
   "source": [
    "g=loans.groupby(by='grade').int_rate.mean().plot.bar()\n",
    "g.set(xlabel='Grade',ylabel='Interest Rates %')"
   ]
  },
  {
   "cell_type": "code",
   "execution_count": 64,
   "metadata": {},
   "outputs": [
    {
     "data": {
      "text/plain": [
       "[Text(0, 0.5, 'Interest Rates'), Text(0.5, 0, 'Loan Status')]"
      ]
     },
     "execution_count": 64,
     "metadata": {},
     "output_type": "execute_result"
    },
    {
     "data": {
      "image/png": "[encoded data removed]",
      "text/plain": [
       "<Figure size 432x288 with 1 Axes>"
      ]
     },
     "metadata": {
      "needs_background": "light"
     },
     "output_type": "display_data"
    }
   ],
   "source": [
    "g=sns.boxplot(loans['loan_status'],loans['int_rate'])\n",
    "g.set(xlabel='Loan Status',ylabel='Interest Rates')"
   ]
  },
  {
   "cell_type": "markdown",
   "metadata": {},
   "source": [
    "**More relative defaults with lower Grades so reduce funding amount for lower grades.**"
   ]
  },
  {
   "cell_type": "code",
   "execution_count": 65,
   "metadata": {},
   "outputs": [
    {
     "data": {
      "text/plain": [
       "[Text(0, 0.5, 'Proportion of default'), Text(0.5, 0, 'Grade')]"
      ]
     },
     "execution_count": 65,
     "metadata": {},
     "output_type": "execute_result"
    },
    {
     "data": {
      "image/png": "[encoded data removed]",
      "text/plain": [
       "<Figure size 432x288 with 1 Axes>"
      ]
     },
     "metadata": {
      "needs_background": "light"
     },
     "output_type": "display_data"
    }
   ],
   "source": [
    "g=(loans[loans['loan_status']=='Charged Off']['grade'].value_counts()/loans['grade'].value_counts()).plot.bar()\n",
    "g.set(xlabel='Grade',ylabel='Proportion of default')"
   ]
  },
  {
   "cell_type": "code",
   "execution_count": 66,
   "metadata": {},
   "outputs": [
    {
     "data": {
      "text/plain": [
       "B    1425\n",
       "C    1343\n",
       "D    1115\n",
       "E     711\n",
       "A     602\n",
       "F     316\n",
       "G      99\n",
       "Name: grade, dtype: int64"
      ]
     },
     "execution_count": 66,
     "metadata": {},
     "output_type": "execute_result"
    }
   ],
   "source": [
    "##total defaults per grade\n",
    "loans[loans['loan_status']=='Charged Off']['grade'].value_counts()"
   ]
  },
  {
   "cell_type": "markdown",
   "metadata": {},
   "source": [
    "**More relative defaults with 60 month tenure**"
   ]
  },
  {
   "cell_type": "code",
   "execution_count": 67,
   "metadata": {},
   "outputs": [
    {
     "data": {
      "text/plain": [
       "[Text(0, 0.5, 'Proportion of default'), Text(0.5, 0, 'Term')]"
      ]
     },
     "execution_count": 67,
     "metadata": {},
     "output_type": "execute_result"
    },
    {
     "data": {
      "image/png": "[encoded data removed]",
      "text/plain": [
       "<Figure size 432x288 with 1 Axes>"
      ]
     },
     "metadata": {
      "needs_background": "light"
     },
     "output_type": "display_data"
    }
   ],
   "source": [
    "g=(loans[loans['loan_status']=='Charged Off']['term'].value_counts()/loans['term'].value_counts()).plot.bar()\n",
    "g.set(xlabel='Term',ylabel='Proportion of default')"
   ]
  },
  {
   "cell_type": "markdown",
   "metadata": {},
   "source": [
    "**Not much variation based on relative employment length alone**"
   ]
  },
  {
   "cell_type": "code",
   "execution_count": 68,
   "metadata": {},
   "outputs": [
    {
     "data": {
      "text/plain": [
       "[Text(0, 0.5, 'Proportion of default'), Text(0.5, 0, 'Employment Length')]"
      ]
     },
     "execution_count": 68,
     "metadata": {},
     "output_type": "execute_result"
    },
    {
     "data": {
      "image/png": "[encoded data removed]",
      "text/plain": [
       "<Figure size 432x288 with 1 Axes>"
      ]
     },
     "metadata": {
      "needs_background": "light"
     },
     "output_type": "display_data"
    }
   ],
   "source": [
    "g=(loans[loans['loan_status']=='Charged Off']['emp_length'].value_counts()/loans['emp_length'].value_counts()).sort_values(ascending=False).plot.bar()\n",
    "g.set(xlabel='Employment Length',ylabel='Proportion of default')"
   ]
  },
  {
   "cell_type": "code",
   "execution_count": 69,
   "metadata": {},
   "outputs": [
    {
     "data": {
      "text/plain": [
       "10+ years    1330\n",
       "< 1 year      635\n",
       "2 years       566\n",
       "3 years       555\n",
       "4 years       460\n",
       "5 years       457\n",
       "1 year        453\n",
       "6 years       305\n",
       "7 years       263\n",
       "8 years       202\n",
       "9 years       158\n",
       "Name: emp_length, dtype: int64"
      ]
     },
     "execution_count": 69,
     "metadata": {},
     "output_type": "execute_result"
    }
   ],
   "source": [
    "#total defaults per experince bucket\n",
    "(loans[loans['loan_status']=='Charged Off']['emp_length'].value_counts()).sort_values(ascending=False)"
   ]
  },
  {
   "cell_type": "markdown",
   "metadata": {},
   "source": [
    "**Not much variation based on home ownership alone**"
   ]
  },
  {
   "cell_type": "code",
   "execution_count": 70,
   "metadata": {},
   "outputs": [
    {
     "data": {
      "text/plain": [
       "[Text(0, 0.5, 'Proportion of default'), Text(0.5, 0, 'Home Ownership')]"
      ]
     },
     "execution_count": 70,
     "metadata": {},
     "output_type": "execute_result"
    },
    {
     "data": {
      "image/png": "[encoded data removed]",
      "text/plain": [
       "<Figure size 432x288 with 1 Axes>"
      ]
     },
     "metadata": {
      "needs_background": "light"
     },
     "output_type": "display_data"
    }
   ],
   "source": [
    "g= (loans[loans['loan_status']=='Charged Off']['home_ownership'].value_counts()/loans['home_ownership'].value_counts()).plot.bar()\n",
    "g.set(xlabel='Home Ownership',ylabel='Proportion of default')"
   ]
  },
  {
   "cell_type": "markdown",
   "metadata": {},
   "source": [
    "**Top 5 purpose of loans with defaults.**\n",
    "**Small business defaulted most which may be due to economic slowdown during 2008/2009 and lesson to be careful while lending next time** \n",
    "**with similar situation e.g. slowdown after COVID**"
   ]
  },
  {
   "cell_type": "code",
   "execution_count": 71,
   "metadata": {},
   "outputs": [
    {
     "data": {
      "text/plain": [
       "debt_consolidation     True\n",
       "credit_card            True\n",
       "other                  True\n",
       "home_improvement       True\n",
       "major_purchase         True\n",
       "small_business         True\n",
       "car                    True\n",
       "wedding               False\n",
       "medical               False\n",
       "moving                False\n",
       "vacation              False\n",
       "house                 False\n",
       "educational           False\n",
       "renewable_energy      False\n",
       "Name: purpose, dtype: bool"
      ]
     },
     "execution_count": 71,
     "metadata": {},
     "output_type": "execute_result"
    }
   ],
   "source": [
    "##checking which purpose has >1000 samples\n",
    "loans['purpose'].value_counts().sort_values(ascending=False)>1000"
   ]
  },
  {
   "cell_type": "code",
   "execution_count": 72,
   "metadata": {},
   "outputs": [],
   "source": [
    "## Filtering records for 1000+ samples\n",
    "loans_toppurpose = loans[loans['purpose'].isin(['debt_consolidation','credit_card','other','home_improvement','major_purchase','small_business','car'])]"
   ]
  },
  {
   "cell_type": "code",
   "execution_count": 73,
   "metadata": {},
   "outputs": [
    {
     "data": {
      "text/plain": [
       "[Text(0, 0.5, 'Proportion of default'), Text(0.5, 0, 'Purpose of loan')]"
      ]
     },
     "execution_count": 73,
     "metadata": {},
     "output_type": "execute_result"
    },
    {
     "data": {
      "image/png": "[encoded data removed]",
      "text/plain": [
       "<Figure size 432x288 with 1 Axes>"
      ]
     },
     "metadata": {
      "needs_background": "light"
     },
     "output_type": "display_data"
    }
   ],
   "source": [
    "##relative defaults per purpose of loans\n",
    "g=(loans_toppurpose[loans_toppurpose['loan_status']=='Charged Off']['purpose'].value_counts()/loans_toppurpose['purpose'].value_counts().sort_values(ascending=False)).sort_values(ascending=False)[0:5].plot.bar()\n",
    "g.set(xlabel='Purpose of loan',ylabel='Proportion of default')"
   ]
  },
  {
   "cell_type": "code",
   "execution_count": 74,
   "metadata": {},
   "outputs": [
    {
     "data": {
      "text/plain": [
       "debt_consolidation    2762\n",
       "other                  629\n",
       "credit_card            541\n",
       "small_business         475\n",
       "home_improvement       344\n",
       "Name: purpose, dtype: int64"
      ]
     },
     "execution_count": 74,
     "metadata": {},
     "output_type": "execute_result"
    }
   ],
   "source": [
    "#total defaults per purpose bucket\n",
    "loans[loans['loan_status']=='Charged Off']['purpose'].value_counts().sort_values(ascending=False)[:5]\n"
   ]
  },
  {
   "cell_type": "markdown",
   "metadata": {},
   "source": [
    "**Top 5 states with defaults**"
   ]
  },
  {
   "cell_type": "code",
   "execution_count": 75,
   "metadata": {},
   "outputs": [
    {
     "data": {
      "text/plain": [
       "CA    1124\n",
       "FL     503\n",
       "NY     495\n",
       "TX     314\n",
       "NJ     278\n",
       "Name: addr_state, dtype: int64"
      ]
     },
     "execution_count": 75,
     "metadata": {},
     "output_type": "execute_result"
    }
   ],
   "source": [
    "(loans[loans['loan_status']=='Charged Off']['addr_state'].value_counts()).sort_values(ascending=False)[0:5]"
   ]
  },
  {
   "cell_type": "code",
   "execution_count": 76,
   "metadata": {},
   "outputs": [
    {
     "data": {
      "text/plain": [
       "[Text(0, 0.5, 'Count of default'), Text(0.5, 0, 'State')]"
      ]
     },
     "execution_count": 76,
     "metadata": {},
     "output_type": "execute_result"
    },
    {
     "data": {
      "image/png": "[encoded data removed]",
      "text/plain": [
       "<Figure size 432x288 with 1 Axes>"
      ]
     },
     "metadata": {
      "needs_background": "light"
     },
     "output_type": "display_data"
    }
   ],
   "source": [
    "g=(loans[loans['loan_status']=='Charged Off']['addr_state'].value_counts()).sort_values(ascending=False)[0:5].plot.bar()\n",
    "g.set(xlabel='State',ylabel='Count of default')"
   ]
  },
  {
   "cell_type": "code",
   "execution_count": 77,
   "metadata": {},
   "outputs": [
    {
     "data": {
      "text/plain": [
       "2011    15.86\n",
       "2010    12.86\n",
       "2009    12.57\n",
       "2008    15.64\n",
       "2007    17.93\n",
       "Name: issue_d_year, dtype: float64"
      ]
     },
     "execution_count": 77,
     "metadata": {},
     "output_type": "execute_result"
    }
   ],
   "source": [
    "##Percentage of loans defaulted based on issued date.\n",
    "#Seems We have peak just before 2008 financial crisis indicating loans issued during this period are more defaulted \n",
    "round(loans[loans['loan_status']=='Charged Off'].issue_d_year.value_counts()/loans.issue_d_year.value_counts(),4)*100"
   ]
  },
  {
   "cell_type": "code",
   "execution_count": 78,
   "metadata": {},
   "outputs": [
    {
     "data": {
      "text/plain": [
       "[Text(0, 0.5, '% Default loan'), Text(0.5, 0, 'Issue year')]"
      ]
     },
     "execution_count": 78,
     "metadata": {},
     "output_type": "execute_result"
    },
    {
     "data": {
      "image/png": "[encoded data removed]",
      "text/plain": [
       "<Figure size 432x288 with 1 Axes>"
      ]
     },
     "metadata": {
      "needs_background": "light"
     },
     "output_type": "display_data"
    }
   ],
   "source": [
    "g=(round(loans[loans['loan_status']=='Charged Off'].issue_d_year.value_counts()/loans.issue_d_year.value_counts(),4)*100).plot.bar()\n",
    "g.set(ylabel='% Default loan',xlabel='Issue year')"
   ]
  },
  {
   "cell_type": "code",
   "execution_count": 79,
   "metadata": {},
   "outputs": [
    {
     "data": {
      "text/plain": [
       "2011    20507\n",
       "2010    11513\n",
       "2009     4702\n",
       "2008     1554\n",
       "2007      251\n",
       "Name: issue_d_year, dtype: int64"
      ]
     },
     "execution_count": 79,
     "metadata": {},
     "output_type": "execute_result"
    }
   ],
   "source": [
    "loans.issue_d_year.value_counts()"
   ]
  },
  {
   "cell_type": "markdown",
   "metadata": {},
   "source": [
    "**Bivariate Analysis**"
   ]
  },
  {
   "cell_type": "markdown",
   "metadata": {},
   "source": [
    "**Issue year vs Loan status vs borrower experience**"
   ]
  },
  {
   "cell_type": "code",
   "execution_count": 80,
   "metadata": {},
   "outputs": [
    {
     "data": {
      "text/html": [
       "<div>\n",
       "<style scoped>\n",
       "    .dataframe tbody tr th:only-of-type {\n",
       "        vertical-align: middle;\n",
       "    }\n",
       "\n",
       "    .dataframe tbody tr th {\n",
       "        vertical-align: top;\n",
       "    }\n",
       "\n",
       "    .dataframe thead th {\n",
       "        text-align: right;\n",
       "    }\n",
       "</style>\n",
       "<table border=\"1\" class=\"dataframe\">\n",
       "  <thead>\n",
       "    <tr style=\"text-align: right;\">\n",
       "      <th>emp_length</th>\n",
       "      <th>1 year</th>\n",
       "      <th>10+ years</th>\n",
       "      <th>2 years</th>\n",
       "      <th>3 years</th>\n",
       "      <th>4 years</th>\n",
       "      <th>5 years</th>\n",
       "      <th>6 years</th>\n",
       "      <th>7 years</th>\n",
       "      <th>8 years</th>\n",
       "      <th>9 years</th>\n",
       "      <th>&lt; 1 year</th>\n",
       "    </tr>\n",
       "    <tr>\n",
       "      <th>issue_d_year</th>\n",
       "      <th></th>\n",
       "      <th></th>\n",
       "      <th></th>\n",
       "      <th></th>\n",
       "      <th></th>\n",
       "      <th></th>\n",
       "      <th></th>\n",
       "      <th></th>\n",
       "      <th></th>\n",
       "      <th></th>\n",
       "      <th></th>\n",
       "    </tr>\n",
       "  </thead>\n",
       "  <tbody>\n",
       "    <tr>\n",
       "      <th>2007</th>\n",
       "      <td>8</td>\n",
       "      <td>7</td>\n",
       "      <td>4</td>\n",
       "      <td>2</td>\n",
       "      <td>3</td>\n",
       "      <td>0</td>\n",
       "      <td>2</td>\n",
       "      <td>2</td>\n",
       "      <td>2</td>\n",
       "      <td>2</td>\n",
       "      <td>13</td>\n",
       "    </tr>\n",
       "    <tr>\n",
       "      <th>2008</th>\n",
       "      <td>36</td>\n",
       "      <td>56</td>\n",
       "      <td>24</td>\n",
       "      <td>14</td>\n",
       "      <td>22</td>\n",
       "      <td>14</td>\n",
       "      <td>12</td>\n",
       "      <td>10</td>\n",
       "      <td>8</td>\n",
       "      <td>4</td>\n",
       "      <td>43</td>\n",
       "    </tr>\n",
       "    <tr>\n",
       "      <th>2009</th>\n",
       "      <td>73</td>\n",
       "      <td>95</td>\n",
       "      <td>78</td>\n",
       "      <td>54</td>\n",
       "      <td>60</td>\n",
       "      <td>36</td>\n",
       "      <td>18</td>\n",
       "      <td>26</td>\n",
       "      <td>22</td>\n",
       "      <td>21</td>\n",
       "      <td>108</td>\n",
       "    </tr>\n",
       "    <tr>\n",
       "      <th>2010</th>\n",
       "      <td>106</td>\n",
       "      <td>326</td>\n",
       "      <td>173</td>\n",
       "      <td>177</td>\n",
       "      <td>123</td>\n",
       "      <td>124</td>\n",
       "      <td>66</td>\n",
       "      <td>68</td>\n",
       "      <td>45</td>\n",
       "      <td>43</td>\n",
       "      <td>155</td>\n",
       "    </tr>\n",
       "    <tr>\n",
       "      <th>2011</th>\n",
       "      <td>230</td>\n",
       "      <td>846</td>\n",
       "      <td>287</td>\n",
       "      <td>308</td>\n",
       "      <td>252</td>\n",
       "      <td>283</td>\n",
       "      <td>207</td>\n",
       "      <td>157</td>\n",
       "      <td>125</td>\n",
       "      <td>88</td>\n",
       "      <td>316</td>\n",
       "    </tr>\n",
       "  </tbody>\n",
       "</table>\n",
       "</div>"
      ],
      "text/plain": [
       "emp_length    1 year  10+ years  2 years  3 years  4 years  5 years  6 years  \\\n",
       "issue_d_year                                                                   \n",
       "2007               8          7        4        2        3        0        2   \n",
       "2008              36         56       24       14       22       14       12   \n",
       "2009              73         95       78       54       60       36       18   \n",
       "2010             106        326      173      177      123      124       66   \n",
       "2011             230        846      287      308      252      283      207   \n",
       "\n",
       "emp_length    7 years  8 years  9 years  < 1 year  \n",
       "issue_d_year                                       \n",
       "2007                2        2        2        13  \n",
       "2008               10        8        4        43  \n",
       "2009               26       22       21       108  \n",
       "2010               68       45       43       155  \n",
       "2011              157      125       88       316  "
      ]
     },
     "execution_count": 80,
     "metadata": {},
     "output_type": "execute_result"
    }
   ],
   "source": [
    "pd.pivot_table(data=loans,index='issue_d_year',columns='emp_length',values=\"loan_status_failed\", aggfunc=np.sum)"
   ]
  },
  {
   "cell_type": "code",
   "execution_count": 81,
   "metadata": {},
   "outputs": [
    {
     "data": {
      "text/html": [
       "<div>\n",
       "<style scoped>\n",
       "    .dataframe tbody tr th:only-of-type {\n",
       "        vertical-align: middle;\n",
       "    }\n",
       "\n",
       "    .dataframe tbody tr th {\n",
       "        vertical-align: top;\n",
       "    }\n",
       "\n",
       "    .dataframe thead th {\n",
       "        text-align: right;\n",
       "    }\n",
       "</style>\n",
       "<table border=\"1\" class=\"dataframe\">\n",
       "  <thead>\n",
       "    <tr style=\"text-align: right;\">\n",
       "      <th>emp_length</th>\n",
       "      <th>1 year</th>\n",
       "      <th>10+ years</th>\n",
       "      <th>2 years</th>\n",
       "      <th>3 years</th>\n",
       "      <th>4 years</th>\n",
       "      <th>5 years</th>\n",
       "      <th>6 years</th>\n",
       "      <th>7 years</th>\n",
       "      <th>8 years</th>\n",
       "      <th>9 years</th>\n",
       "      <th>&lt; 1 year</th>\n",
       "    </tr>\n",
       "    <tr>\n",
       "      <th>issue_d_year</th>\n",
       "      <th></th>\n",
       "      <th></th>\n",
       "      <th></th>\n",
       "      <th></th>\n",
       "      <th></th>\n",
       "      <th></th>\n",
       "      <th></th>\n",
       "      <th></th>\n",
       "      <th></th>\n",
       "      <th></th>\n",
       "      <th></th>\n",
       "    </tr>\n",
       "  </thead>\n",
       "  <tbody>\n",
       "    <tr>\n",
       "      <th>2007</th>\n",
       "      <td>45</td>\n",
       "      <td>27</td>\n",
       "      <td>31</td>\n",
       "      <td>22</td>\n",
       "      <td>12</td>\n",
       "      <td>7</td>\n",
       "      <td>11</td>\n",
       "      <td>8</td>\n",
       "      <td>9</td>\n",
       "      <td>8</td>\n",
       "      <td>71</td>\n",
       "    </tr>\n",
       "    <tr>\n",
       "      <th>2008</th>\n",
       "      <td>195</td>\n",
       "      <td>304</td>\n",
       "      <td>188</td>\n",
       "      <td>127</td>\n",
       "      <td>116</td>\n",
       "      <td>80</td>\n",
       "      <td>75</td>\n",
       "      <td>57</td>\n",
       "      <td>64</td>\n",
       "      <td>30</td>\n",
       "      <td>318</td>\n",
       "    </tr>\n",
       "    <tr>\n",
       "      <th>2009</th>\n",
       "      <td>638</td>\n",
       "      <td>751</td>\n",
       "      <td>649</td>\n",
       "      <td>465</td>\n",
       "      <td>385</td>\n",
       "      <td>302</td>\n",
       "      <td>197</td>\n",
       "      <td>175</td>\n",
       "      <td>165</td>\n",
       "      <td>167</td>\n",
       "      <td>808</td>\n",
       "    </tr>\n",
       "    <tr>\n",
       "      <th>2010</th>\n",
       "      <td>794</td>\n",
       "      <td>2466</td>\n",
       "      <td>1413</td>\n",
       "      <td>1378</td>\n",
       "      <td>1023</td>\n",
       "      <td>1025</td>\n",
       "      <td>554</td>\n",
       "      <td>479</td>\n",
       "      <td>423</td>\n",
       "      <td>367</td>\n",
       "      <td>1274</td>\n",
       "    </tr>\n",
       "    <tr>\n",
       "      <th>2011</th>\n",
       "      <td>1491</td>\n",
       "      <td>4939</td>\n",
       "      <td>2005</td>\n",
       "      <td>2016</td>\n",
       "      <td>1799</td>\n",
       "      <td>1776</td>\n",
       "      <td>1328</td>\n",
       "      <td>989</td>\n",
       "      <td>772</td>\n",
       "      <td>654</td>\n",
       "      <td>2025</td>\n",
       "    </tr>\n",
       "  </tbody>\n",
       "</table>\n",
       "</div>"
      ],
      "text/plain": [
       "emp_length    1 year  10+ years  2 years  3 years  4 years  5 years  6 years  \\\n",
       "issue_d_year                                                                   \n",
       "2007              45         27       31       22       12        7       11   \n",
       "2008             195        304      188      127      116       80       75   \n",
       "2009             638        751      649      465      385      302      197   \n",
       "2010             794       2466     1413     1378     1023     1025      554   \n",
       "2011            1491       4939     2005     2016     1799     1776     1328   \n",
       "\n",
       "emp_length    7 years  8 years  9 years  < 1 year  \n",
       "issue_d_year                                       \n",
       "2007                8        9        8        71  \n",
       "2008               57       64       30       318  \n",
       "2009              175      165      167       808  \n",
       "2010              479      423      367      1274  \n",
       "2011              989      772      654      2025  "
      ]
     },
     "execution_count": 81,
     "metadata": {},
     "output_type": "execute_result"
    }
   ],
   "source": [
    "pd.pivot_table(data=loans,index='issue_d_year',columns='emp_length',values=\"loan_status\", aggfunc=len)"
   ]
  },
  {
   "cell_type": "markdown",
   "metadata": {},
   "source": [
    "**2007 years issued loans impacted all years of experince borrowers - may be due to financial crisis**"
   ]
  },
  {
   "cell_type": "code",
   "execution_count": 82,
   "metadata": {},
   "outputs": [],
   "source": [
    "##2007 years issued loans impacted all years of experince borrowers - may be due to financial crisis.. \n",
    "default_exp_issue = round(pd.pivot_table(data=loans,index='issue_d_year',columns='emp_length',values=\"loan_status_failed\", aggfunc=np.sum)/pd.pivot_table(data=loans,index='issue_d_year',columns='emp_length',values=\"loan_status\", aggfunc=len),4)*100"
   ]
  },
  {
   "cell_type": "code",
   "execution_count": 83,
   "metadata": {},
   "outputs": [
    {
     "data": {
      "text/plain": [
       "<matplotlib.axes._subplots.AxesSubplot at 0x1a14e7f790>"
      ]
     },
     "execution_count": 83,
     "metadata": {},
     "output_type": "execute_result"
    },
    {
     "data": {
      "image/png": "[encoded data removed]",
      "text/plain": [
       "<Figure size 432x288 with 2 Axes>"
      ]
     },
     "metadata": {
      "needs_background": "light"
     },
     "output_type": "display_data"
    }
   ],
   "source": [
    "sns.heatmap(default_exp_issue, cmap=\"Greens\",annot=True)"
   ]
  },
  {
   "cell_type": "markdown",
   "metadata": {},
   "source": [
    "**Issue year vs purpose vs loan status**"
   ]
  },
  {
   "cell_type": "markdown",
   "metadata": {},
   "source": [
    "**Small business purpose loans default more in % for all issued years. Need to do more screening while lending small business based on potential to grow**"
   ]
  },
  {
   "cell_type": "code",
   "execution_count": 84,
   "metadata": {},
   "outputs": [],
   "source": [
    "##Small business purpose loans default more in % for all issued years\n",
    "default_issue_purpose = round(pd.pivot_table(data=loans,index='issue_d_year',columns='purpose',values=\"loan_status_failed\", aggfunc=np.sum)/pd.pivot_table(data=loans,index='issue_d_year',columns='purpose',values=\"loan_status\", aggfunc=len),4)*100"
   ]
  },
  {
   "cell_type": "code",
   "execution_count": 85,
   "metadata": {},
   "outputs": [
    {
     "data": {
      "text/plain": [
       "[Text(33.0, 0.5, 'Issued year'), Text(0.5, 14.09375, 'Purpose of loan')]"
      ]
     },
     "execution_count": 85,
     "metadata": {},
     "output_type": "execute_result"
    },
    {
     "data": {
      "image/png": "[encoded data removed]",
      "text/plain": [
       "<Figure size 432x288 with 2 Axes>"
      ]
     },
     "metadata": {
      "needs_background": "light"
     },
     "output_type": "display_data"
    }
   ],
   "source": [
    "g=sns.heatmap(default_issue_purpose, cmap=\"Greens\",annot=True)\n",
    "g.set(xlabel='Purpose of loan',ylabel='Issued year')"
   ]
  },
  {
   "cell_type": "markdown",
   "metadata": {},
   "source": [
    "**Issue year vs grade vs loan status**"
   ]
  },
  {
   "cell_type": "markdown",
   "metadata": {},
   "source": [
    "**Low grade loans default more in % for all issued years so Grading System working !!!**"
   ]
  },
  {
   "cell_type": "code",
   "execution_count": 86,
   "metadata": {},
   "outputs": [],
   "source": [
    "##Low grade loans default more in % for all issued years\n",
    "default_issue_grade = round(pd.pivot_table(data=loans,index='issue_d_year',columns='grade',values=\"loan_status_failed\", aggfunc=np.sum)/pd.pivot_table(data=loans,index='issue_d_year',columns='grade',values=\"loan_status\", aggfunc=len),4)*100"
   ]
  },
  {
   "cell_type": "code",
   "execution_count": 87,
   "metadata": {},
   "outputs": [
    {
     "data": {
      "text/plain": [
       "<matplotlib.axes._subplots.AxesSubplot at 0x1a265c5e50>"
      ]
     },
     "execution_count": 87,
     "metadata": {},
     "output_type": "execute_result"
    },
    {
     "data": {
      "image/png": "[encoded data removed]",
      "text/plain": [
       "<Figure size 432x288 with 2 Axes>"
      ]
     },
     "metadata": {
      "needs_background": "light"
     },
     "output_type": "display_data"
    }
   ],
   "source": [
    "sns.heatmap(default_issue_grade, cmap=\"Greens\",annot=True)"
   ]
  },
  {
   "cell_type": "markdown",
   "metadata": {},
   "source": [
    "**Loan term vs grade vs loan status**"
   ]
  },
  {
   "cell_type": "markdown",
   "metadata": {},
   "source": [
    "**Longer term low grade loans default more in %. Give short term loans for low grades with less funding**"
   ]
  },
  {
   "cell_type": "code",
   "execution_count": 88,
   "metadata": {},
   "outputs": [],
   "source": [
    "##Longer term low grade loans default more in %\n",
    "default_term_grade = round(pd.pivot_table(data=loans,index='term',columns='grade',values=\"loan_status_failed\", aggfunc=np.sum)/pd.pivot_table(data=loans,index='term',columns='grade',values=\"loan_status\", aggfunc=len),4)*100"
   ]
  },
  {
   "cell_type": "code",
   "execution_count": 89,
   "metadata": {},
   "outputs": [
    {
     "data": {
      "text/plain": [
       "<matplotlib.axes._subplots.AxesSubplot at 0x1a2676e710>"
      ]
     },
     "execution_count": 89,
     "metadata": {},
     "output_type": "execute_result"
    },
    {
     "data": {
      "image/png": "[encoded data removed]",
      "text/plain": [
       "<Figure size 432x288 with 2 Axes>"
      ]
     },
     "metadata": {
      "needs_background": "light"
     },
     "output_type": "display_data"
    }
   ],
   "source": [
    "sns.heatmap(default_term_grade, cmap=\"Greens\",annot=True)"
   ]
  },
  {
   "cell_type": "markdown",
   "metadata": {},
   "source": [
    "**top state vs top purpose vs loan status**"
   ]
  },
  {
   "cell_type": "markdown",
   "metadata": {},
   "source": [
    "**Florida has higher defaults for almost all loan purposes. Do further check/screening for any interconnection**"
   ]
  },
  {
   "cell_type": "code",
   "execution_count": 90,
   "metadata": {},
   "outputs": [],
   "source": [
    "loans_temp = loans_toppurpose[loans_toppurpose['addr_state'].isin(['CA','FL','NY','TX','NJ'])]"
   ]
  },
  {
   "cell_type": "code",
   "execution_count": 91,
   "metadata": {},
   "outputs": [],
   "source": [
    "##Florida has higher defaults for almost all loan purposes\n",
    "default_state_purpose = pd.pivot_table(data=loans_temp,index='addr_state',columns='purpose',values=\"loan_status_failed\", aggfunc=np.mean)"
   ]
  },
  {
   "cell_type": "code",
   "execution_count": 92,
   "metadata": {},
   "outputs": [
    {
     "data": {
      "text/plain": [
       "<matplotlib.axes._subplots.AxesSubplot at 0x1a2672fe10>"
      ]
     },
     "execution_count": 92,
     "metadata": {},
     "output_type": "execute_result"
    },
    {
     "data": {
      "image/png": "[encoded data removed]",
      "text/plain": [
       "<Figure size 432x288 with 2 Axes>"
      ]
     },
     "metadata": {
      "needs_background": "light"
     },
     "output_type": "display_data"
    }
   ],
   "source": [
    "sns.heatmap(default_state_purpose, cmap=\"Greens\",annot=True)"
   ]
  },
  {
   "cell_type": "markdown",
   "metadata": {},
   "source": [
    "**Checking remaining features spread against target variable**"
   ]
  },
  {
   "cell_type": "markdown",
   "metadata": {},
   "source": [
    "**Higher revolving utilization means more usage of credit. Seeing more tendency to default** "
   ]
  },
  {
   "cell_type": "code",
   "execution_count": 93,
   "metadata": {
    "scrolled": false
   },
   "outputs": [
    {
     "data": {
      "text/html": [
       "<div>\n",
       "<style scoped>\n",
       "    .dataframe tbody tr th:only-of-type {\n",
       "        vertical-align: middle;\n",
       "    }\n",
       "\n",
       "    .dataframe tbody tr th {\n",
       "        vertical-align: top;\n",
       "    }\n",
       "\n",
       "    .dataframe thead th {\n",
       "        text-align: right;\n",
       "    }\n",
       "</style>\n",
       "<table border=\"1\" class=\"dataframe\">\n",
       "  <thead>\n",
       "    <tr style=\"text-align: right;\">\n",
       "      <th></th>\n",
       "      <th>count</th>\n",
       "      <th>mean</th>\n",
       "      <th>std</th>\n",
       "      <th>min</th>\n",
       "      <th>25%</th>\n",
       "      <th>50%</th>\n",
       "      <th>75%</th>\n",
       "      <th>max</th>\n",
       "    </tr>\n",
       "    <tr>\n",
       "      <th>loan_status</th>\n",
       "      <th></th>\n",
       "      <th></th>\n",
       "      <th></th>\n",
       "      <th></th>\n",
       "      <th></th>\n",
       "      <th></th>\n",
       "      <th></th>\n",
       "      <th></th>\n",
       "    </tr>\n",
       "  </thead>\n",
       "  <tbody>\n",
       "    <tr>\n",
       "      <th>Charged Off</th>\n",
       "      <td>5611.0</td>\n",
       "      <td>55.572110</td>\n",
       "      <td>27.905282</td>\n",
       "      <td>0.0</td>\n",
       "      <td>34.4</td>\n",
       "      <td>58.4</td>\n",
       "      <td>79.0</td>\n",
       "      <td>99.9</td>\n",
       "    </tr>\n",
       "    <tr>\n",
       "      <th>Fully Paid</th>\n",
       "      <td>32916.0</td>\n",
       "      <td>47.531801</td>\n",
       "      <td>28.276743</td>\n",
       "      <td>0.0</td>\n",
       "      <td>23.9</td>\n",
       "      <td>47.6</td>\n",
       "      <td>70.8</td>\n",
       "      <td>99.9</td>\n",
       "    </tr>\n",
       "  </tbody>\n",
       "</table>\n",
       "</div>"
      ],
      "text/plain": [
       "               count       mean        std  min   25%   50%   75%   max\n",
       "loan_status                                                            \n",
       "Charged Off   5611.0  55.572110  27.905282  0.0  34.4  58.4  79.0  99.9\n",
       "Fully Paid   32916.0  47.531801  28.276743  0.0  23.9  47.6  70.8  99.9"
      ]
     },
     "execution_count": 93,
     "metadata": {},
     "output_type": "execute_result"
    }
   ],
   "source": [
    "loans.groupby(by='loan_status')['revol_util'].describe()"
   ]
  },
  {
   "cell_type": "code",
   "execution_count": 94,
   "metadata": {
    "scrolled": false
   },
   "outputs": [
    {
     "data": {
      "text/plain": [
       "<matplotlib.axes._subplots.AxesSubplot at 0x1a2631f210>"
      ]
     },
     "execution_count": 94,
     "metadata": {},
     "output_type": "execute_result"
    },
    {
     "data": {
      "image/png": "[encoded data removed]",
      "text/plain": [
       "<Figure size 432x288 with 1 Axes>"
      ]
     },
     "metadata": {
      "needs_background": "light"
     },
     "output_type": "display_data"
    }
   ],
   "source": [
    "sns.boxplot(loans['loan_status'],loans['revol_util'])"
   ]
  },
  {
   "cell_type": "code",
   "execution_count": 95,
   "metadata": {
    "scrolled": false
   },
   "outputs": [
    {
     "data": {
      "text/html": [
       "<div>\n",
       "<style scoped>\n",
       "    .dataframe tbody tr th:only-of-type {\n",
       "        vertical-align: middle;\n",
       "    }\n",
       "\n",
       "    .dataframe tbody tr th {\n",
       "        vertical-align: top;\n",
       "    }\n",
       "\n",
       "    .dataframe thead th {\n",
       "        text-align: right;\n",
       "    }\n",
       "</style>\n",
       "<table border=\"1\" class=\"dataframe\">\n",
       "  <thead>\n",
       "    <tr style=\"text-align: right;\">\n",
       "      <th></th>\n",
       "      <th>count</th>\n",
       "      <th>mean</th>\n",
       "      <th>std</th>\n",
       "      <th>min</th>\n",
       "      <th>25%</th>\n",
       "      <th>50%</th>\n",
       "      <th>75%</th>\n",
       "      <th>max</th>\n",
       "    </tr>\n",
       "    <tr>\n",
       "      <th>loan_status</th>\n",
       "      <th></th>\n",
       "      <th></th>\n",
       "      <th></th>\n",
       "      <th></th>\n",
       "      <th></th>\n",
       "      <th></th>\n",
       "      <th></th>\n",
       "      <th></th>\n",
       "    </tr>\n",
       "  </thead>\n",
       "  <tbody>\n",
       "    <tr>\n",
       "      <th>Charged Off</th>\n",
       "      <td>5611.0</td>\n",
       "      <td>13552.780075</td>\n",
       "      <td>15168.517401</td>\n",
       "      <td>0.0</td>\n",
       "      <td>4007.0</td>\n",
       "      <td>9253.0</td>\n",
       "      <td>17553.50</td>\n",
       "      <td>148829.0</td>\n",
       "    </tr>\n",
       "    <tr>\n",
       "      <th>Fully Paid</th>\n",
       "      <td>32916.0</td>\n",
       "      <td>13263.299368</td>\n",
       "      <td>15984.772484</td>\n",
       "      <td>0.0</td>\n",
       "      <td>3612.0</td>\n",
       "      <td>8694.0</td>\n",
       "      <td>16827.75</td>\n",
       "      <td>149588.0</td>\n",
       "    </tr>\n",
       "  </tbody>\n",
       "</table>\n",
       "</div>"
      ],
      "text/plain": [
       "               count          mean           std  min     25%     50%  \\\n",
       "loan_status                                                             \n",
       "Charged Off   5611.0  13552.780075  15168.517401  0.0  4007.0  9253.0   \n",
       "Fully Paid   32916.0  13263.299368  15984.772484  0.0  3612.0  8694.0   \n",
       "\n",
       "                  75%       max  \n",
       "loan_status                      \n",
       "Charged Off  17553.50  148829.0  \n",
       "Fully Paid   16827.75  149588.0  "
      ]
     },
     "execution_count": 95,
     "metadata": {},
     "output_type": "execute_result"
    }
   ],
   "source": [
    "#Lower revolving balance shows borrower tendancy to pay on time and hence loan to be fully paid\n",
    "loans.groupby(by='loan_status')['revol_bal'].describe()"
   ]
  },
  {
   "cell_type": "code",
   "execution_count": 96,
   "metadata": {
    "scrolled": false
   },
   "outputs": [
    {
     "data": {
      "image/png": "[encoded data removed]",
      "text/plain": [
       "<Figure size 432x288 with 1 Axes>"
      ]
     },
     "metadata": {
      "needs_background": "light"
     },
     "output_type": "display_data"
    }
   ],
   "source": [
    "g=sns.boxplot(loans['loan_status'],loans['revol_bal'])\n",
    "g.set_yscale(\"log\")"
   ]
  },
  {
   "cell_type": "markdown",
   "metadata": {},
   "source": [
    "**Higher last 6 months inquiry means borrower may be in financial crisis, Seeing more tendency to default** \n"
   ]
  },
  {
   "cell_type": "code",
   "execution_count": 97,
   "metadata": {
    "scrolled": false
   },
   "outputs": [
    {
     "data": {
      "text/plain": [
       "<matplotlib.axes._subplots.AxesSubplot at 0x1a26e9ae90>"
      ]
     },
     "execution_count": 97,
     "metadata": {},
     "output_type": "execute_result"
    },
    {
     "data": {
      "image/png": "[encoded data removed]",
      "text/plain": [
       "<Figure size 432x288 with 1 Axes>"
      ]
     },
     "metadata": {
      "needs_background": "light"
     },
     "output_type": "display_data"
    }
   ],
   "source": [
    "sns.boxplot(loans['loan_status'],loans['inq_last_6mths'])"
   ]
  },
  {
   "cell_type": "code",
   "execution_count": 98,
   "metadata": {},
   "outputs": [
    {
     "data": {
      "text/plain": [
       "loan_status\n",
       "Charged Off    0.085012\n",
       "Fully Paid     0.050401\n",
       "Name: pub_rec, dtype: float64"
      ]
     },
     "execution_count": 98,
     "metadata": {},
     "output_type": "execute_result"
    }
   ],
   "source": [
    "##Higher public records indicates higher possibility of Charged off\n",
    "loans.groupby(by='loan_status')['pub_rec'].mean()"
   ]
  },
  {
   "cell_type": "code",
   "execution_count": 99,
   "metadata": {
    "scrolled": true
   },
   "outputs": [
    {
     "data": {
      "text/plain": [
       "loan_status\n",
       "Charged Off    0.170558\n",
       "Fully Paid     0.142575\n",
       "Name: delinq_2yrs, dtype: float64"
      ]
     },
     "execution_count": 99,
     "metadata": {},
     "output_type": "execute_result"
    }
   ],
   "source": [
    "## Higher Delinquicy may indicate borrowers weaker financial state\n",
    "loans.groupby(by='loan_status')['delinq_2yrs'].mean()"
   ]
  },
  {
   "cell_type": "code",
   "execution_count": 100,
   "metadata": {},
   "outputs": [
    {
     "data": {
      "text/plain": [
       "<matplotlib.axes._subplots.AxesSubplot at 0x1a268c9290>"
      ]
     },
     "execution_count": 100,
     "metadata": {},
     "output_type": "execute_result"
    },
    {
     "data": {
      "image/png": "[encoded data removed]",
      "text/plain": [
       "<Figure size 432x288 with 1 Axes>"
      ]
     },
     "metadata": {
      "needs_background": "light"
     },
     "output_type": "display_data"
    }
   ],
   "source": [
    "## Older credit line may indicate more reliability \n",
    "sns.boxplot(x=loans['loan_status'],y=loans['earliest_cr_line_year'])"
   ]
  },
  {
   "cell_type": "markdown",
   "metadata": {},
   "source": [
    "# Conclusion"
   ]
  },
  {
   "cell_type": "markdown",
   "metadata": {},
   "source": [
    "- Our goal is to give **actionable suggestions** to **reduce percentage of defaults**(Current ~14%). Also for new loans, **setup guideline** so data driven decision can be taken.\n",
    "\n",
    "- **Beyond 30% (funded amount to annual income ratio)**, loan **risk increases** beyond average of 14%(overall default rate) so **reduce funded amount or stop loans** so overall default average will also go down.\n",
    "\n",
    "- Loan becomes **risky** with increased **dti >20**, so **reduce funded amount**.\n",
    "\n",
    "- **Higher interest rates** causes **more defaults** so **reducing funding amount for high risk loans** makes more sense.\n",
    "\n",
    "- **More** relative **defaults** with **lower Grades** so reduce funding amount for lower grades.\n",
    "\n",
    "- **More** relative **defaults** with **60 month tenure**.\n",
    "\n",
    "- **Small business defaulted most** which may be due to economic slowdown during 2008/2009 and **lesson to be careful** while lending next time **during economic slowdown** e.g. slowdown after COVID.\n",
    "\n",
    "- We have peak just before 2008 financial crisis indicating loans issued during this period are more defaulted. \n",
    "\n",
    "- 2007 years issued loans impacted all years of experince borrowers - may be due to financial crisis.\n",
    "\n",
    "- **Small business purpose loans default more** in % for all issued years. Need to do **more screening** while lending small business **based on potential to grow**.\n",
    "\n",
    "- Low grade loans default more in % for all issued years so **Grading System working !!!**\n",
    "\n",
    "- Longer term low grade loans default more in %. **Give short term loans for low grades with less funding**.\n",
    "\n",
    "- **Scrutinize** loans with **higher deliquency/public records/higher inquiries in 6 months, high revolving utilization, high revolving balance**.\n",
    "\n",
    "- **CA/FL/NY** has higher defaults for almost all loan purposes. Do **further check/screening** for any interconnection."
   ]
  }
 ],
 "metadata": {
  "kernelspec": {
   "display_name": "Python 3",
   "language": "python",
   "name": "python3"
  },
  "language_info": {
   "codemirror_mode": {
    "name": "ipython",
    "version": 3
   },
   "file_extension": ".py",
   "mimetype": "text/x-python",
   "name": "python",
   "nbconvert_exporter": "python",
   "pygments_lexer": "ipython3",
   "version": "3.7.6"
  }
 },
 "nbformat": 4,
 "nbformat_minor": 4
}
