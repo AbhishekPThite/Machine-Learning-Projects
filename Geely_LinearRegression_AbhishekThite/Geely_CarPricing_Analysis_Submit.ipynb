{
 "cells": [
  {
   "cell_type": "code",
   "execution_count": 1,
   "metadata": {},
   "outputs": [],
   "source": [
    "import pandas as pd\n",
    "import numpy as np\n",
    "\n",
    "import warnings\n",
    "warnings.filterwarnings('ignore')\n",
    "\n",
    "import seaborn as sns\n",
    "import matplotlib.pyplot as plt"
   ]
  },
  {
   "cell_type": "markdown",
   "metadata": {},
   "source": [
    "### Data understanding, preparation and EDA"
   ]
  },
  {
   "cell_type": "code",
   "execution_count": 2,
   "metadata": {},
   "outputs": [],
   "source": [
    "##Reading data\n",
    "carData = pd.read_csv('CarPrice_Assignment.csv')"
   ]
  },
  {
   "cell_type": "code",
   "execution_count": 3,
   "metadata": {},
   "outputs": [
    {
     "data": {
      "text/plain": [
       "(205, 26)"
      ]
     },
     "execution_count": 3,
     "metadata": {},
     "output_type": "execute_result"
    }
   ],
   "source": [
    "##exploring data\n",
    "carData.shape"
   ]
  },
  {
   "cell_type": "code",
   "execution_count": 4,
   "metadata": {},
   "outputs": [
    {
     "data": {
      "text/plain": [
       "car_ID              0\n",
       "symboling           0\n",
       "CarName             0\n",
       "fueltype            0\n",
       "aspiration          0\n",
       "doornumber          0\n",
       "carbody             0\n",
       "drivewheel          0\n",
       "enginelocation      0\n",
       "wheelbase           0\n",
       "carlength           0\n",
       "carwidth            0\n",
       "carheight           0\n",
       "curbweight          0\n",
       "enginetype          0\n",
       "cylindernumber      0\n",
       "enginesize          0\n",
       "fuelsystem          0\n",
       "boreratio           0\n",
       "stroke              0\n",
       "compressionratio    0\n",
       "horsepower          0\n",
       "peakrpm             0\n",
       "citympg             0\n",
       "highwaympg          0\n",
       "price               0\n",
       "dtype: int64"
      ]
     },
     "execution_count": 4,
     "metadata": {},
     "output_type": "execute_result"
    }
   ],
   "source": [
    "##No Null values\n",
    "carData.isnull().sum()"
   ]
  },
  {
   "cell_type": "code",
   "execution_count": 5,
   "metadata": {},
   "outputs": [],
   "source": [
    "##Extracting company name\n",
    "carData['company'] = carData['CarName'].apply(lambda x: x.split(' ')[0])"
   ]
  },
  {
   "cell_type": "code",
   "execution_count": 6,
   "metadata": {},
   "outputs": [],
   "source": [
    "carData['company']  = carData['company'].str.lower()"
   ]
  },
  {
   "cell_type": "code",
   "execution_count": 7,
   "metadata": {},
   "outputs": [],
   "source": [
    "def correctNames(name):\n",
    "    if name=='maxda' or name=='mazda':\n",
    "        return 'mazda'\n",
    "    elif name=='porsche' or name=='porcshce':\n",
    "        return 'porsche'\n",
    "    elif name=='toyota' or name=='toyouta':\n",
    "        return 'toyota'\n",
    "    elif name=='vokswagen' or name=='volkswagen' or name=='vw':\n",
    "        return 'volkswagen'\n",
    "    else:\n",
    "        return name\n",
    "carData['company'] = carData['company'].apply(correctNames)"
   ]
  },
  {
   "cell_type": "code",
   "execution_count": 8,
   "metadata": {},
   "outputs": [],
   "source": [
    "##dropping redundant carName\n",
    "carData.drop('CarName',axis=1,inplace=True)"
   ]
  },
  {
   "cell_type": "code",
   "execution_count": 9,
   "metadata": {},
   "outputs": [
    {
     "data": {
      "text/html": [
       "<div>\n",
       "<style scoped>\n",
       "    .dataframe tbody tr th:only-of-type {\n",
       "        vertical-align: middle;\n",
       "    }\n",
       "\n",
       "    .dataframe tbody tr th {\n",
       "        vertical-align: top;\n",
       "    }\n",
       "\n",
       "    .dataframe thead th {\n",
       "        text-align: right;\n",
       "    }\n",
       "</style>\n",
       "<table border=\"1\" class=\"dataframe\">\n",
       "  <thead>\n",
       "    <tr style=\"text-align: right;\">\n",
       "      <th></th>\n",
       "      <th>car_ID</th>\n",
       "      <th>symboling</th>\n",
       "      <th>fueltype</th>\n",
       "      <th>aspiration</th>\n",
       "      <th>doornumber</th>\n",
       "      <th>carbody</th>\n",
       "      <th>drivewheel</th>\n",
       "      <th>enginelocation</th>\n",
       "      <th>wheelbase</th>\n",
       "      <th>carlength</th>\n",
       "      <th>...</th>\n",
       "      <th>fuelsystem</th>\n",
       "      <th>boreratio</th>\n",
       "      <th>stroke</th>\n",
       "      <th>compressionratio</th>\n",
       "      <th>horsepower</th>\n",
       "      <th>peakrpm</th>\n",
       "      <th>citympg</th>\n",
       "      <th>highwaympg</th>\n",
       "      <th>price</th>\n",
       "      <th>company</th>\n",
       "    </tr>\n",
       "  </thead>\n",
       "  <tbody>\n",
       "    <tr>\n",
       "      <th>0</th>\n",
       "      <td>1</td>\n",
       "      <td>3</td>\n",
       "      <td>gas</td>\n",
       "      <td>std</td>\n",
       "      <td>two</td>\n",
       "      <td>convertible</td>\n",
       "      <td>rwd</td>\n",
       "      <td>front</td>\n",
       "      <td>88.6</td>\n",
       "      <td>168.8</td>\n",
       "      <td>...</td>\n",
       "      <td>mpfi</td>\n",
       "      <td>3.47</td>\n",
       "      <td>2.68</td>\n",
       "      <td>9.0</td>\n",
       "      <td>111</td>\n",
       "      <td>5000</td>\n",
       "      <td>21</td>\n",
       "      <td>27</td>\n",
       "      <td>13495.0</td>\n",
       "      <td>alfa-romero</td>\n",
       "    </tr>\n",
       "    <tr>\n",
       "      <th>1</th>\n",
       "      <td>2</td>\n",
       "      <td>3</td>\n",
       "      <td>gas</td>\n",
       "      <td>std</td>\n",
       "      <td>two</td>\n",
       "      <td>convertible</td>\n",
       "      <td>rwd</td>\n",
       "      <td>front</td>\n",
       "      <td>88.6</td>\n",
       "      <td>168.8</td>\n",
       "      <td>...</td>\n",
       "      <td>mpfi</td>\n",
       "      <td>3.47</td>\n",
       "      <td>2.68</td>\n",
       "      <td>9.0</td>\n",
       "      <td>111</td>\n",
       "      <td>5000</td>\n",
       "      <td>21</td>\n",
       "      <td>27</td>\n",
       "      <td>16500.0</td>\n",
       "      <td>alfa-romero</td>\n",
       "    </tr>\n",
       "    <tr>\n",
       "      <th>2</th>\n",
       "      <td>3</td>\n",
       "      <td>1</td>\n",
       "      <td>gas</td>\n",
       "      <td>std</td>\n",
       "      <td>two</td>\n",
       "      <td>hatchback</td>\n",
       "      <td>rwd</td>\n",
       "      <td>front</td>\n",
       "      <td>94.5</td>\n",
       "      <td>171.2</td>\n",
       "      <td>...</td>\n",
       "      <td>mpfi</td>\n",
       "      <td>2.68</td>\n",
       "      <td>3.47</td>\n",
       "      <td>9.0</td>\n",
       "      <td>154</td>\n",
       "      <td>5000</td>\n",
       "      <td>19</td>\n",
       "      <td>26</td>\n",
       "      <td>16500.0</td>\n",
       "      <td>alfa-romero</td>\n",
       "    </tr>\n",
       "  </tbody>\n",
       "</table>\n",
       "<p>3 rows × 26 columns</p>\n",
       "</div>"
      ],
      "text/plain": [
       "   car_ID  symboling fueltype aspiration doornumber      carbody drivewheel  \\\n",
       "0       1          3      gas        std        two  convertible        rwd   \n",
       "1       2          3      gas        std        two  convertible        rwd   \n",
       "2       3          1      gas        std        two    hatchback        rwd   \n",
       "\n",
       "  enginelocation  wheelbase  carlength  ...  fuelsystem  boreratio  stroke  \\\n",
       "0          front       88.6      168.8  ...        mpfi       3.47    2.68   \n",
       "1          front       88.6      168.8  ...        mpfi       3.47    2.68   \n",
       "2          front       94.5      171.2  ...        mpfi       2.68    3.47   \n",
       "\n",
       "  compressionratio horsepower  peakrpm citympg  highwaympg    price  \\\n",
       "0              9.0        111     5000      21          27  13495.0   \n",
       "1              9.0        111     5000      21          27  16500.0   \n",
       "2              9.0        154     5000      19          26  16500.0   \n",
       "\n",
       "       company  \n",
       "0  alfa-romero  \n",
       "1  alfa-romero  \n",
       "2  alfa-romero  \n",
       "\n",
       "[3 rows x 26 columns]"
      ]
     },
     "execution_count": 9,
     "metadata": {},
     "output_type": "execute_result"
    }
   ],
   "source": [
    "carData.head(3)"
   ]
  },
  {
   "cell_type": "code",
   "execution_count": 10,
   "metadata": {},
   "outputs": [],
   "source": [
    "##dropping column with no significance \n",
    "carData.drop('car_ID',axis=1,inplace=True)"
   ]
  },
  {
   "cell_type": "code",
   "execution_count": 11,
   "metadata": {},
   "outputs": [
    {
     "name": "stdout",
     "output_type": "stream",
     "text": [
      "<class 'pandas.core.frame.DataFrame'>\n",
      "RangeIndex: 205 entries, 0 to 204\n",
      "Data columns (total 25 columns):\n",
      " #   Column            Non-Null Count  Dtype  \n",
      "---  ------            --------------  -----  \n",
      " 0   symboling         205 non-null    int64  \n",
      " 1   fueltype          205 non-null    object \n",
      " 2   aspiration        205 non-null    object \n",
      " 3   doornumber        205 non-null    object \n",
      " 4   carbody           205 non-null    object \n",
      " 5   drivewheel        205 non-null    object \n",
      " 6   enginelocation    205 non-null    object \n",
      " 7   wheelbase         205 non-null    float64\n",
      " 8   carlength         205 non-null    float64\n",
      " 9   carwidth          205 non-null    float64\n",
      " 10  carheight         205 non-null    float64\n",
      " 11  curbweight        205 non-null    int64  \n",
      " 12  enginetype        205 non-null    object \n",
      " 13  cylindernumber    205 non-null    object \n",
      " 14  enginesize        205 non-null    int64  \n",
      " 15  fuelsystem        205 non-null    object \n",
      " 16  boreratio         205 non-null    float64\n",
      " 17  stroke            205 non-null    float64\n",
      " 18  compressionratio  205 non-null    float64\n",
      " 19  horsepower        205 non-null    int64  \n",
      " 20  peakrpm           205 non-null    int64  \n",
      " 21  citympg           205 non-null    int64  \n",
      " 22  highwaympg        205 non-null    int64  \n",
      " 23  price             205 non-null    float64\n",
      " 24  company           205 non-null    object \n",
      "dtypes: float64(8), int64(7), object(10)\n",
      "memory usage: 40.2+ KB\n"
     ]
    }
   ],
   "source": [
    "carData.info()"
   ]
  },
  {
   "cell_type": "code",
   "execution_count": 12,
   "metadata": {},
   "outputs": [
    {
     "data": {
      "text/html": [
       "<div>\n",
       "<style scoped>\n",
       "    .dataframe tbody tr th:only-of-type {\n",
       "        vertical-align: middle;\n",
       "    }\n",
       "\n",
       "    .dataframe tbody tr th {\n",
       "        vertical-align: top;\n",
       "    }\n",
       "\n",
       "    .dataframe thead th {\n",
       "        text-align: right;\n",
       "    }\n",
       "</style>\n",
       "<table border=\"1\" class=\"dataframe\">\n",
       "  <thead>\n",
       "    <tr style=\"text-align: right;\">\n",
       "      <th></th>\n",
       "      <th>symboling</th>\n",
       "      <th>wheelbase</th>\n",
       "      <th>carlength</th>\n",
       "      <th>carwidth</th>\n",
       "      <th>carheight</th>\n",
       "      <th>curbweight</th>\n",
       "      <th>enginesize</th>\n",
       "      <th>boreratio</th>\n",
       "      <th>stroke</th>\n",
       "      <th>compressionratio</th>\n",
       "      <th>horsepower</th>\n",
       "      <th>peakrpm</th>\n",
       "      <th>citympg</th>\n",
       "      <th>highwaympg</th>\n",
       "      <th>price</th>\n",
       "    </tr>\n",
       "  </thead>\n",
       "  <tbody>\n",
       "    <tr>\n",
       "      <th>count</th>\n",
       "      <td>205.000000</td>\n",
       "      <td>205.000000</td>\n",
       "      <td>205.000000</td>\n",
       "      <td>205.000000</td>\n",
       "      <td>205.000000</td>\n",
       "      <td>205.000000</td>\n",
       "      <td>205.000000</td>\n",
       "      <td>205.000000</td>\n",
       "      <td>205.000000</td>\n",
       "      <td>205.000000</td>\n",
       "      <td>205.000000</td>\n",
       "      <td>205.000000</td>\n",
       "      <td>205.000000</td>\n",
       "      <td>205.000000</td>\n",
       "      <td>205.000000</td>\n",
       "    </tr>\n",
       "    <tr>\n",
       "      <th>mean</th>\n",
       "      <td>0.834146</td>\n",
       "      <td>98.756585</td>\n",
       "      <td>174.049268</td>\n",
       "      <td>65.907805</td>\n",
       "      <td>53.724878</td>\n",
       "      <td>2555.565854</td>\n",
       "      <td>126.907317</td>\n",
       "      <td>3.329756</td>\n",
       "      <td>3.255415</td>\n",
       "      <td>10.142537</td>\n",
       "      <td>104.117073</td>\n",
       "      <td>5125.121951</td>\n",
       "      <td>25.219512</td>\n",
       "      <td>30.751220</td>\n",
       "      <td>13276.710571</td>\n",
       "    </tr>\n",
       "    <tr>\n",
       "      <th>std</th>\n",
       "      <td>1.245307</td>\n",
       "      <td>6.021776</td>\n",
       "      <td>12.337289</td>\n",
       "      <td>2.145204</td>\n",
       "      <td>2.443522</td>\n",
       "      <td>520.680204</td>\n",
       "      <td>41.642693</td>\n",
       "      <td>0.270844</td>\n",
       "      <td>0.313597</td>\n",
       "      <td>3.972040</td>\n",
       "      <td>39.544167</td>\n",
       "      <td>476.985643</td>\n",
       "      <td>6.542142</td>\n",
       "      <td>6.886443</td>\n",
       "      <td>7988.852332</td>\n",
       "    </tr>\n",
       "    <tr>\n",
       "      <th>min</th>\n",
       "      <td>-2.000000</td>\n",
       "      <td>86.600000</td>\n",
       "      <td>141.100000</td>\n",
       "      <td>60.300000</td>\n",
       "      <td>47.800000</td>\n",
       "      <td>1488.000000</td>\n",
       "      <td>61.000000</td>\n",
       "      <td>2.540000</td>\n",
       "      <td>2.070000</td>\n",
       "      <td>7.000000</td>\n",
       "      <td>48.000000</td>\n",
       "      <td>4150.000000</td>\n",
       "      <td>13.000000</td>\n",
       "      <td>16.000000</td>\n",
       "      <td>5118.000000</td>\n",
       "    </tr>\n",
       "    <tr>\n",
       "      <th>25%</th>\n",
       "      <td>0.000000</td>\n",
       "      <td>94.500000</td>\n",
       "      <td>166.300000</td>\n",
       "      <td>64.100000</td>\n",
       "      <td>52.000000</td>\n",
       "      <td>2145.000000</td>\n",
       "      <td>97.000000</td>\n",
       "      <td>3.150000</td>\n",
       "      <td>3.110000</td>\n",
       "      <td>8.600000</td>\n",
       "      <td>70.000000</td>\n",
       "      <td>4800.000000</td>\n",
       "      <td>19.000000</td>\n",
       "      <td>25.000000</td>\n",
       "      <td>7788.000000</td>\n",
       "    </tr>\n",
       "    <tr>\n",
       "      <th>50%</th>\n",
       "      <td>1.000000</td>\n",
       "      <td>97.000000</td>\n",
       "      <td>173.200000</td>\n",
       "      <td>65.500000</td>\n",
       "      <td>54.100000</td>\n",
       "      <td>2414.000000</td>\n",
       "      <td>120.000000</td>\n",
       "      <td>3.310000</td>\n",
       "      <td>3.290000</td>\n",
       "      <td>9.000000</td>\n",
       "      <td>95.000000</td>\n",
       "      <td>5200.000000</td>\n",
       "      <td>24.000000</td>\n",
       "      <td>30.000000</td>\n",
       "      <td>10295.000000</td>\n",
       "    </tr>\n",
       "    <tr>\n",
       "      <th>75%</th>\n",
       "      <td>2.000000</td>\n",
       "      <td>102.400000</td>\n",
       "      <td>183.100000</td>\n",
       "      <td>66.900000</td>\n",
       "      <td>55.500000</td>\n",
       "      <td>2935.000000</td>\n",
       "      <td>141.000000</td>\n",
       "      <td>3.580000</td>\n",
       "      <td>3.410000</td>\n",
       "      <td>9.400000</td>\n",
       "      <td>116.000000</td>\n",
       "      <td>5500.000000</td>\n",
       "      <td>30.000000</td>\n",
       "      <td>34.000000</td>\n",
       "      <td>16503.000000</td>\n",
       "    </tr>\n",
       "    <tr>\n",
       "      <th>max</th>\n",
       "      <td>3.000000</td>\n",
       "      <td>120.900000</td>\n",
       "      <td>208.100000</td>\n",
       "      <td>72.300000</td>\n",
       "      <td>59.800000</td>\n",
       "      <td>4066.000000</td>\n",
       "      <td>326.000000</td>\n",
       "      <td>3.940000</td>\n",
       "      <td>4.170000</td>\n",
       "      <td>23.000000</td>\n",
       "      <td>288.000000</td>\n",
       "      <td>6600.000000</td>\n",
       "      <td>49.000000</td>\n",
       "      <td>54.000000</td>\n",
       "      <td>45400.000000</td>\n",
       "    </tr>\n",
       "  </tbody>\n",
       "</table>\n",
       "</div>"
      ],
      "text/plain": [
       "        symboling   wheelbase   carlength    carwidth   carheight  \\\n",
       "count  205.000000  205.000000  205.000000  205.000000  205.000000   \n",
       "mean     0.834146   98.756585  174.049268   65.907805   53.724878   \n",
       "std      1.245307    6.021776   12.337289    2.145204    2.443522   \n",
       "min     -2.000000   86.600000  141.100000   60.300000   47.800000   \n",
       "25%      0.000000   94.500000  166.300000   64.100000   52.000000   \n",
       "50%      1.000000   97.000000  173.200000   65.500000   54.100000   \n",
       "75%      2.000000  102.400000  183.100000   66.900000   55.500000   \n",
       "max      3.000000  120.900000  208.100000   72.300000   59.800000   \n",
       "\n",
       "        curbweight  enginesize   boreratio      stroke  compressionratio  \\\n",
       "count   205.000000  205.000000  205.000000  205.000000        205.000000   \n",
       "mean   2555.565854  126.907317    3.329756    3.255415         10.142537   \n",
       "std     520.680204   41.642693    0.270844    0.313597          3.972040   \n",
       "min    1488.000000   61.000000    2.540000    2.070000          7.000000   \n",
       "25%    2145.000000   97.000000    3.150000    3.110000          8.600000   \n",
       "50%    2414.000000  120.000000    3.310000    3.290000          9.000000   \n",
       "75%    2935.000000  141.000000    3.580000    3.410000          9.400000   \n",
       "max    4066.000000  326.000000    3.940000    4.170000         23.000000   \n",
       "\n",
       "       horsepower      peakrpm     citympg  highwaympg         price  \n",
       "count  205.000000   205.000000  205.000000  205.000000    205.000000  \n",
       "mean   104.117073  5125.121951   25.219512   30.751220  13276.710571  \n",
       "std     39.544167   476.985643    6.542142    6.886443   7988.852332  \n",
       "min     48.000000  4150.000000   13.000000   16.000000   5118.000000  \n",
       "25%     70.000000  4800.000000   19.000000   25.000000   7788.000000  \n",
       "50%     95.000000  5200.000000   24.000000   30.000000  10295.000000  \n",
       "75%    116.000000  5500.000000   30.000000   34.000000  16503.000000  \n",
       "max    288.000000  6600.000000   49.000000   54.000000  45400.000000  "
      ]
     },
     "execution_count": 12,
     "metadata": {},
     "output_type": "execute_result"
    }
   ],
   "source": [
    "## Mean/median are close.. except price/horsepower.. dist to be checked\n",
    "carData.describe()"
   ]
  },
  {
   "cell_type": "code",
   "execution_count": 13,
   "metadata": {},
   "outputs": [],
   "source": [
    "##bucketing prices range \n",
    "carData['pricebucket'] = pd.cut(carData.price,bins=[0,5000,10000,15000,20000,25000,50000],labels=['upto 5k','5k-10k','10-15K','15-20k','20-25k','25-50k'])"
   ]
  },
  {
   "cell_type": "code",
   "execution_count": 14,
   "metadata": {},
   "outputs": [],
   "source": [
    "##new column\n",
    "carData['carArea'] = carData['carlength']*carData['carwidth']"
   ]
  },
  {
   "cell_type": "code",
   "execution_count": 15,
   "metadata": {},
   "outputs": [
    {
     "data": {
      "text/html": [
       "<div>\n",
       "<style scoped>\n",
       "    .dataframe tbody tr th:only-of-type {\n",
       "        vertical-align: middle;\n",
       "    }\n",
       "\n",
       "    .dataframe tbody tr th {\n",
       "        vertical-align: top;\n",
       "    }\n",
       "\n",
       "    .dataframe thead th {\n",
       "        text-align: right;\n",
       "    }\n",
       "</style>\n",
       "<table border=\"1\" class=\"dataframe\">\n",
       "  <thead>\n",
       "    <tr style=\"text-align: right;\">\n",
       "      <th></th>\n",
       "      <th>symboling</th>\n",
       "      <th>wheelbase</th>\n",
       "      <th>carlength</th>\n",
       "      <th>carwidth</th>\n",
       "      <th>carheight</th>\n",
       "      <th>curbweight</th>\n",
       "      <th>enginesize</th>\n",
       "      <th>boreratio</th>\n",
       "      <th>stroke</th>\n",
       "      <th>compressionratio</th>\n",
       "      <th>horsepower</th>\n",
       "      <th>peakrpm</th>\n",
       "      <th>citympg</th>\n",
       "      <th>highwaympg</th>\n",
       "      <th>price</th>\n",
       "      <th>carArea</th>\n",
       "    </tr>\n",
       "  </thead>\n",
       "  <tbody>\n",
       "    <tr>\n",
       "      <th>symboling</th>\n",
       "      <td>1.000000</td>\n",
       "      <td>-0.531954</td>\n",
       "      <td>-0.357612</td>\n",
       "      <td>-0.232919</td>\n",
       "      <td>-0.541038</td>\n",
       "      <td>-0.227691</td>\n",
       "      <td>-0.105790</td>\n",
       "      <td>-0.130051</td>\n",
       "      <td>-0.008735</td>\n",
       "      <td>-0.178515</td>\n",
       "      <td>0.070873</td>\n",
       "      <td>0.273606</td>\n",
       "      <td>-0.035823</td>\n",
       "      <td>0.034606</td>\n",
       "      <td>-0.079978</td>\n",
       "      <td>-0.332196</td>\n",
       "    </tr>\n",
       "    <tr>\n",
       "      <th>wheelbase</th>\n",
       "      <td>-0.531954</td>\n",
       "      <td>1.000000</td>\n",
       "      <td>0.874587</td>\n",
       "      <td>0.795144</td>\n",
       "      <td>0.589435</td>\n",
       "      <td>0.776386</td>\n",
       "      <td>0.569329</td>\n",
       "      <td>0.488750</td>\n",
       "      <td>0.160959</td>\n",
       "      <td>0.249786</td>\n",
       "      <td>0.353294</td>\n",
       "      <td>-0.360469</td>\n",
       "      <td>-0.470414</td>\n",
       "      <td>-0.544082</td>\n",
       "      <td>0.577816</td>\n",
       "      <td>0.885248</td>\n",
       "    </tr>\n",
       "    <tr>\n",
       "      <th>carlength</th>\n",
       "      <td>-0.357612</td>\n",
       "      <td>0.874587</td>\n",
       "      <td>1.000000</td>\n",
       "      <td>0.841118</td>\n",
       "      <td>0.491029</td>\n",
       "      <td>0.877728</td>\n",
       "      <td>0.683360</td>\n",
       "      <td>0.606454</td>\n",
       "      <td>0.129533</td>\n",
       "      <td>0.158414</td>\n",
       "      <td>0.552623</td>\n",
       "      <td>-0.287242</td>\n",
       "      <td>-0.670909</td>\n",
       "      <td>-0.704662</td>\n",
       "      <td>0.682920</td>\n",
       "      <td>0.982352</td>\n",
       "    </tr>\n",
       "    <tr>\n",
       "      <th>carwidth</th>\n",
       "      <td>-0.232919</td>\n",
       "      <td>0.795144</td>\n",
       "      <td>0.841118</td>\n",
       "      <td>1.000000</td>\n",
       "      <td>0.279210</td>\n",
       "      <td>0.867032</td>\n",
       "      <td>0.735433</td>\n",
       "      <td>0.559150</td>\n",
       "      <td>0.182942</td>\n",
       "      <td>0.181129</td>\n",
       "      <td>0.640732</td>\n",
       "      <td>-0.220012</td>\n",
       "      <td>-0.642704</td>\n",
       "      <td>-0.677218</td>\n",
       "      <td>0.759325</td>\n",
       "      <td>0.926475</td>\n",
       "    </tr>\n",
       "    <tr>\n",
       "      <th>carheight</th>\n",
       "      <td>-0.541038</td>\n",
       "      <td>0.589435</td>\n",
       "      <td>0.491029</td>\n",
       "      <td>0.279210</td>\n",
       "      <td>1.000000</td>\n",
       "      <td>0.295572</td>\n",
       "      <td>0.067149</td>\n",
       "      <td>0.171071</td>\n",
       "      <td>-0.055307</td>\n",
       "      <td>0.261214</td>\n",
       "      <td>-0.108802</td>\n",
       "      <td>-0.320411</td>\n",
       "      <td>-0.048640</td>\n",
       "      <td>-0.107358</td>\n",
       "      <td>0.119336</td>\n",
       "      <td>0.440987</td>\n",
       "    </tr>\n",
       "    <tr>\n",
       "      <th>curbweight</th>\n",
       "      <td>-0.227691</td>\n",
       "      <td>0.776386</td>\n",
       "      <td>0.877728</td>\n",
       "      <td>0.867032</td>\n",
       "      <td>0.295572</td>\n",
       "      <td>1.000000</td>\n",
       "      <td>0.850594</td>\n",
       "      <td>0.648480</td>\n",
       "      <td>0.168790</td>\n",
       "      <td>0.151362</td>\n",
       "      <td>0.750739</td>\n",
       "      <td>-0.266243</td>\n",
       "      <td>-0.757414</td>\n",
       "      <td>-0.797465</td>\n",
       "      <td>0.835305</td>\n",
       "      <td>0.906811</td>\n",
       "    </tr>\n",
       "    <tr>\n",
       "      <th>enginesize</th>\n",
       "      <td>-0.105790</td>\n",
       "      <td>0.569329</td>\n",
       "      <td>0.683360</td>\n",
       "      <td>0.735433</td>\n",
       "      <td>0.067149</td>\n",
       "      <td>0.850594</td>\n",
       "      <td>1.000000</td>\n",
       "      <td>0.583774</td>\n",
       "      <td>0.203129</td>\n",
       "      <td>0.028971</td>\n",
       "      <td>0.809769</td>\n",
       "      <td>-0.244660</td>\n",
       "      <td>-0.653658</td>\n",
       "      <td>-0.677470</td>\n",
       "      <td>0.874145</td>\n",
       "      <td>0.729031</td>\n",
       "    </tr>\n",
       "    <tr>\n",
       "      <th>boreratio</th>\n",
       "      <td>-0.130051</td>\n",
       "      <td>0.488750</td>\n",
       "      <td>0.606454</td>\n",
       "      <td>0.559150</td>\n",
       "      <td>0.171071</td>\n",
       "      <td>0.648480</td>\n",
       "      <td>0.583774</td>\n",
       "      <td>1.000000</td>\n",
       "      <td>-0.055909</td>\n",
       "      <td>0.005197</td>\n",
       "      <td>0.573677</td>\n",
       "      <td>-0.254976</td>\n",
       "      <td>-0.584532</td>\n",
       "      <td>-0.587012</td>\n",
       "      <td>0.553173</td>\n",
       "      <td>0.607996</td>\n",
       "    </tr>\n",
       "    <tr>\n",
       "      <th>stroke</th>\n",
       "      <td>-0.008735</td>\n",
       "      <td>0.160959</td>\n",
       "      <td>0.129533</td>\n",
       "      <td>0.182942</td>\n",
       "      <td>-0.055307</td>\n",
       "      <td>0.168790</td>\n",
       "      <td>0.203129</td>\n",
       "      <td>-0.055909</td>\n",
       "      <td>1.000000</td>\n",
       "      <td>0.186110</td>\n",
       "      <td>0.080940</td>\n",
       "      <td>-0.067964</td>\n",
       "      <td>-0.042145</td>\n",
       "      <td>-0.043931</td>\n",
       "      <td>0.079443</td>\n",
       "      <td>0.151343</td>\n",
       "    </tr>\n",
       "    <tr>\n",
       "      <th>compressionratio</th>\n",
       "      <td>-0.178515</td>\n",
       "      <td>0.249786</td>\n",
       "      <td>0.158414</td>\n",
       "      <td>0.181129</td>\n",
       "      <td>0.261214</td>\n",
       "      <td>0.151362</td>\n",
       "      <td>0.028971</td>\n",
       "      <td>0.005197</td>\n",
       "      <td>0.186110</td>\n",
       "      <td>1.000000</td>\n",
       "      <td>-0.204326</td>\n",
       "      <td>-0.435741</td>\n",
       "      <td>0.324701</td>\n",
       "      <td>0.265201</td>\n",
       "      <td>0.067984</td>\n",
       "      <td>0.172784</td>\n",
       "    </tr>\n",
       "    <tr>\n",
       "      <th>horsepower</th>\n",
       "      <td>0.070873</td>\n",
       "      <td>0.353294</td>\n",
       "      <td>0.552623</td>\n",
       "      <td>0.640732</td>\n",
       "      <td>-0.108802</td>\n",
       "      <td>0.750739</td>\n",
       "      <td>0.809769</td>\n",
       "      <td>0.573677</td>\n",
       "      <td>0.080940</td>\n",
       "      <td>-0.204326</td>\n",
       "      <td>1.000000</td>\n",
       "      <td>0.131073</td>\n",
       "      <td>-0.801456</td>\n",
       "      <td>-0.770544</td>\n",
       "      <td>0.808139</td>\n",
       "      <td>0.599559</td>\n",
       "    </tr>\n",
       "    <tr>\n",
       "      <th>peakrpm</th>\n",
       "      <td>0.273606</td>\n",
       "      <td>-0.360469</td>\n",
       "      <td>-0.287242</td>\n",
       "      <td>-0.220012</td>\n",
       "      <td>-0.320411</td>\n",
       "      <td>-0.266243</td>\n",
       "      <td>-0.244660</td>\n",
       "      <td>-0.254976</td>\n",
       "      <td>-0.067964</td>\n",
       "      <td>-0.435741</td>\n",
       "      <td>0.131073</td>\n",
       "      <td>1.000000</td>\n",
       "      <td>-0.113544</td>\n",
       "      <td>-0.054275</td>\n",
       "      <td>-0.085267</td>\n",
       "      <td>-0.276290</td>\n",
       "    </tr>\n",
       "    <tr>\n",
       "      <th>citympg</th>\n",
       "      <td>-0.035823</td>\n",
       "      <td>-0.470414</td>\n",
       "      <td>-0.670909</td>\n",
       "      <td>-0.642704</td>\n",
       "      <td>-0.048640</td>\n",
       "      <td>-0.757414</td>\n",
       "      <td>-0.653658</td>\n",
       "      <td>-0.584532</td>\n",
       "      <td>-0.042145</td>\n",
       "      <td>0.324701</td>\n",
       "      <td>-0.801456</td>\n",
       "      <td>-0.113544</td>\n",
       "      <td>1.000000</td>\n",
       "      <td>0.971337</td>\n",
       "      <td>-0.685751</td>\n",
       "      <td>-0.680650</td>\n",
       "    </tr>\n",
       "    <tr>\n",
       "      <th>highwaympg</th>\n",
       "      <td>0.034606</td>\n",
       "      <td>-0.544082</td>\n",
       "      <td>-0.704662</td>\n",
       "      <td>-0.677218</td>\n",
       "      <td>-0.107358</td>\n",
       "      <td>-0.797465</td>\n",
       "      <td>-0.677470</td>\n",
       "      <td>-0.587012</td>\n",
       "      <td>-0.043931</td>\n",
       "      <td>0.265201</td>\n",
       "      <td>-0.770544</td>\n",
       "      <td>-0.054275</td>\n",
       "      <td>0.971337</td>\n",
       "      <td>1.000000</td>\n",
       "      <td>-0.697599</td>\n",
       "      <td>-0.718191</td>\n",
       "    </tr>\n",
       "    <tr>\n",
       "      <th>price</th>\n",
       "      <td>-0.079978</td>\n",
       "      <td>0.577816</td>\n",
       "      <td>0.682920</td>\n",
       "      <td>0.759325</td>\n",
       "      <td>0.119336</td>\n",
       "      <td>0.835305</td>\n",
       "      <td>0.874145</td>\n",
       "      <td>0.553173</td>\n",
       "      <td>0.079443</td>\n",
       "      <td>0.067984</td>\n",
       "      <td>0.808139</td>\n",
       "      <td>-0.085267</td>\n",
       "      <td>-0.685751</td>\n",
       "      <td>-0.697599</td>\n",
       "      <td>1.000000</td>\n",
       "      <td>0.738052</td>\n",
       "    </tr>\n",
       "    <tr>\n",
       "      <th>carArea</th>\n",
       "      <td>-0.332196</td>\n",
       "      <td>0.885248</td>\n",
       "      <td>0.982352</td>\n",
       "      <td>0.926475</td>\n",
       "      <td>0.440987</td>\n",
       "      <td>0.906811</td>\n",
       "      <td>0.729031</td>\n",
       "      <td>0.607996</td>\n",
       "      <td>0.151343</td>\n",
       "      <td>0.172784</td>\n",
       "      <td>0.599559</td>\n",
       "      <td>-0.276290</td>\n",
       "      <td>-0.680650</td>\n",
       "      <td>-0.718191</td>\n",
       "      <td>0.738052</td>\n",
       "      <td>1.000000</td>\n",
       "    </tr>\n",
       "  </tbody>\n",
       "</table>\n",
       "</div>"
      ],
      "text/plain": [
       "                  symboling  wheelbase  carlength  carwidth  carheight  \\\n",
       "symboling          1.000000  -0.531954  -0.357612 -0.232919  -0.541038   \n",
       "wheelbase         -0.531954   1.000000   0.874587  0.795144   0.589435   \n",
       "carlength         -0.357612   0.874587   1.000000  0.841118   0.491029   \n",
       "carwidth          -0.232919   0.795144   0.841118  1.000000   0.279210   \n",
       "carheight         -0.541038   0.589435   0.491029  0.279210   1.000000   \n",
       "curbweight        -0.227691   0.776386   0.877728  0.867032   0.295572   \n",
       "enginesize        -0.105790   0.569329   0.683360  0.735433   0.067149   \n",
       "boreratio         -0.130051   0.488750   0.606454  0.559150   0.171071   \n",
       "stroke            -0.008735   0.160959   0.129533  0.182942  -0.055307   \n",
       "compressionratio  -0.178515   0.249786   0.158414  0.181129   0.261214   \n",
       "horsepower         0.070873   0.353294   0.552623  0.640732  -0.108802   \n",
       "peakrpm            0.273606  -0.360469  -0.287242 -0.220012  -0.320411   \n",
       "citympg           -0.035823  -0.470414  -0.670909 -0.642704  -0.048640   \n",
       "highwaympg         0.034606  -0.544082  -0.704662 -0.677218  -0.107358   \n",
       "price             -0.079978   0.577816   0.682920  0.759325   0.119336   \n",
       "carArea           -0.332196   0.885248   0.982352  0.926475   0.440987   \n",
       "\n",
       "                  curbweight  enginesize  boreratio    stroke  \\\n",
       "symboling          -0.227691   -0.105790  -0.130051 -0.008735   \n",
       "wheelbase           0.776386    0.569329   0.488750  0.160959   \n",
       "carlength           0.877728    0.683360   0.606454  0.129533   \n",
       "carwidth            0.867032    0.735433   0.559150  0.182942   \n",
       "carheight           0.295572    0.067149   0.171071 -0.055307   \n",
       "curbweight          1.000000    0.850594   0.648480  0.168790   \n",
       "enginesize          0.850594    1.000000   0.583774  0.203129   \n",
       "boreratio           0.648480    0.583774   1.000000 -0.055909   \n",
       "stroke              0.168790    0.203129  -0.055909  1.000000   \n",
       "compressionratio    0.151362    0.028971   0.005197  0.186110   \n",
       "horsepower          0.750739    0.809769   0.573677  0.080940   \n",
       "peakrpm            -0.266243   -0.244660  -0.254976 -0.067964   \n",
       "citympg            -0.757414   -0.653658  -0.584532 -0.042145   \n",
       "highwaympg         -0.797465   -0.677470  -0.587012 -0.043931   \n",
       "price               0.835305    0.874145   0.553173  0.079443   \n",
       "carArea             0.906811    0.729031   0.607996  0.151343   \n",
       "\n",
       "                  compressionratio  horsepower   peakrpm   citympg  \\\n",
       "symboling                -0.178515    0.070873  0.273606 -0.035823   \n",
       "wheelbase                 0.249786    0.353294 -0.360469 -0.470414   \n",
       "carlength                 0.158414    0.552623 -0.287242 -0.670909   \n",
       "carwidth                  0.181129    0.640732 -0.220012 -0.642704   \n",
       "carheight                 0.261214   -0.108802 -0.320411 -0.048640   \n",
       "curbweight                0.151362    0.750739 -0.266243 -0.757414   \n",
       "enginesize                0.028971    0.809769 -0.244660 -0.653658   \n",
       "boreratio                 0.005197    0.573677 -0.254976 -0.584532   \n",
       "stroke                    0.186110    0.080940 -0.067964 -0.042145   \n",
       "compressionratio          1.000000   -0.204326 -0.435741  0.324701   \n",
       "horsepower               -0.204326    1.000000  0.131073 -0.801456   \n",
       "peakrpm                  -0.435741    0.131073  1.000000 -0.113544   \n",
       "citympg                   0.324701   -0.801456 -0.113544  1.000000   \n",
       "highwaympg                0.265201   -0.770544 -0.054275  0.971337   \n",
       "price                     0.067984    0.808139 -0.085267 -0.685751   \n",
       "carArea                   0.172784    0.599559 -0.276290 -0.680650   \n",
       "\n",
       "                  highwaympg     price   carArea  \n",
       "symboling           0.034606 -0.079978 -0.332196  \n",
       "wheelbase          -0.544082  0.577816  0.885248  \n",
       "carlength          -0.704662  0.682920  0.982352  \n",
       "carwidth           -0.677218  0.759325  0.926475  \n",
       "carheight          -0.107358  0.119336  0.440987  \n",
       "curbweight         -0.797465  0.835305  0.906811  \n",
       "enginesize         -0.677470  0.874145  0.729031  \n",
       "boreratio          -0.587012  0.553173  0.607996  \n",
       "stroke             -0.043931  0.079443  0.151343  \n",
       "compressionratio    0.265201  0.067984  0.172784  \n",
       "horsepower         -0.770544  0.808139  0.599559  \n",
       "peakrpm            -0.054275 -0.085267 -0.276290  \n",
       "citympg             0.971337 -0.685751 -0.680650  \n",
       "highwaympg          1.000000 -0.697599 -0.718191  \n",
       "price              -0.697599  1.000000  0.738052  \n",
       "carArea            -0.718191  0.738052  1.000000  "
      ]
     },
     "execution_count": 15,
     "metadata": {},
     "output_type": "execute_result"
    }
   ],
   "source": [
    "##checking correlation - used to observe columns with high depedent variable co-relation, less co-relation with price\n",
    "carData.corr()"
   ]
  },
  {
   "cell_type": "code",
   "execution_count": 16,
   "metadata": {},
   "outputs": [],
   "source": [
    "##CitiMpg and highwaympg high correlation.. take ratio\n",
    "carData['mpgratio'] = carData['citympg'] / carData['highwaympg']"
   ]
  },
  {
   "cell_type": "code",
   "execution_count": 17,
   "metadata": {},
   "outputs": [],
   "source": [
    "##engine size and curbweight high correlation.. take ratio\n",
    "carData['engineweightratio'] = carData['enginesize'] / carData['curbweight']"
   ]
  },
  {
   "cell_type": "code",
   "execution_count": 18,
   "metadata": {},
   "outputs": [],
   "source": [
    "##less correlation with price\n",
    "carData.drop('symboling',axis=1,inplace=True)\n",
    "##similar to wheelbase\n",
    "carData.drop('carArea',axis=1,inplace=True)\n",
    "carData.drop('carlength',axis=1,inplace=True)\n",
    "carData.drop('carwidth',axis=1,inplace=True)\n",
    "##less correlation with price\n",
    "carData.drop('carheight',axis=1,inplace=True)\n",
    "##engineweightratio added \n",
    "carData.drop('enginesize',axis=1,inplace=True)\n",
    "carData.drop('curbweight',axis=1,inplace=True)\n",
    "##mpgratio added\n",
    "carData.drop('citympg',axis=1,inplace=True)\n",
    "carData.drop('highwaympg',axis=1,inplace=True)"
   ]
  },
  {
   "cell_type": "code",
   "execution_count": 19,
   "metadata": {},
   "outputs": [
    {
     "data": {
      "text/html": [
       "<div>\n",
       "<style scoped>\n",
       "    .dataframe tbody tr th:only-of-type {\n",
       "        vertical-align: middle;\n",
       "    }\n",
       "\n",
       "    .dataframe tbody tr th {\n",
       "        vertical-align: top;\n",
       "    }\n",
       "\n",
       "    .dataframe thead th {\n",
       "        text-align: right;\n",
       "    }\n",
       "</style>\n",
       "<table border=\"1\" class=\"dataframe\">\n",
       "  <thead>\n",
       "    <tr style=\"text-align: right;\">\n",
       "      <th></th>\n",
       "      <th>wheelbase</th>\n",
       "      <th>boreratio</th>\n",
       "      <th>stroke</th>\n",
       "      <th>compressionratio</th>\n",
       "      <th>horsepower</th>\n",
       "      <th>peakrpm</th>\n",
       "      <th>price</th>\n",
       "      <th>mpgratio</th>\n",
       "      <th>engineweightratio</th>\n",
       "    </tr>\n",
       "  </thead>\n",
       "  <tbody>\n",
       "    <tr>\n",
       "      <th>wheelbase</th>\n",
       "      <td>1.000000</td>\n",
       "      <td>0.488750</td>\n",
       "      <td>0.160959</td>\n",
       "      <td>0.249786</td>\n",
       "      <td>0.353294</td>\n",
       "      <td>-0.360469</td>\n",
       "      <td>0.577816</td>\n",
       "      <td>0.066804</td>\n",
       "      <td>0.138852</td>\n",
       "    </tr>\n",
       "    <tr>\n",
       "      <th>boreratio</th>\n",
       "      <td>0.488750</td>\n",
       "      <td>1.000000</td>\n",
       "      <td>-0.055909</td>\n",
       "      <td>0.005197</td>\n",
       "      <td>0.573677</td>\n",
       "      <td>-0.254976</td>\n",
       "      <td>0.553173</td>\n",
       "      <td>-0.248911</td>\n",
       "      <td>0.345848</td>\n",
       "    </tr>\n",
       "    <tr>\n",
       "      <th>stroke</th>\n",
       "      <td>0.160959</td>\n",
       "      <td>-0.055909</td>\n",
       "      <td>1.000000</td>\n",
       "      <td>0.186110</td>\n",
       "      <td>0.080940</td>\n",
       "      <td>-0.067964</td>\n",
       "      <td>0.079443</td>\n",
       "      <td>-0.003916</td>\n",
       "      <td>0.189085</td>\n",
       "    </tr>\n",
       "    <tr>\n",
       "      <th>compressionratio</th>\n",
       "      <td>0.249786</td>\n",
       "      <td>0.005197</td>\n",
       "      <td>0.186110</td>\n",
       "      <td>1.000000</td>\n",
       "      <td>-0.204326</td>\n",
       "      <td>-0.435741</td>\n",
       "      <td>0.067984</td>\n",
       "      <td>0.372331</td>\n",
       "      <td>-0.110204</td>\n",
       "    </tr>\n",
       "    <tr>\n",
       "      <th>horsepower</th>\n",
       "      <td>0.353294</td>\n",
       "      <td>0.573677</td>\n",
       "      <td>0.080940</td>\n",
       "      <td>-0.204326</td>\n",
       "      <td>1.000000</td>\n",
       "      <td>0.131073</td>\n",
       "      <td>0.808139</td>\n",
       "      <td>-0.520007</td>\n",
       "      <td>0.596720</td>\n",
       "    </tr>\n",
       "    <tr>\n",
       "      <th>peakrpm</th>\n",
       "      <td>-0.360469</td>\n",
       "      <td>-0.254976</td>\n",
       "      <td>-0.067964</td>\n",
       "      <td>-0.435741</td>\n",
       "      <td>0.131073</td>\n",
       "      <td>1.000000</td>\n",
       "      <td>-0.085267</td>\n",
       "      <td>-0.306579</td>\n",
       "      <td>-0.162360</td>\n",
       "    </tr>\n",
       "    <tr>\n",
       "      <th>price</th>\n",
       "      <td>0.577816</td>\n",
       "      <td>0.553173</td>\n",
       "      <td>0.079443</td>\n",
       "      <td>0.067984</td>\n",
       "      <td>0.808139</td>\n",
       "      <td>-0.085267</td>\n",
       "      <td>1.000000</td>\n",
       "      <td>-0.298838</td>\n",
       "      <td>0.595635</td>\n",
       "    </tr>\n",
       "    <tr>\n",
       "      <th>mpgratio</th>\n",
       "      <td>0.066804</td>\n",
       "      <td>-0.248911</td>\n",
       "      <td>-0.003916</td>\n",
       "      <td>0.372331</td>\n",
       "      <td>-0.520007</td>\n",
       "      <td>-0.306579</td>\n",
       "      <td>-0.298838</td>\n",
       "      <td>1.000000</td>\n",
       "      <td>-0.190055</td>\n",
       "    </tr>\n",
       "    <tr>\n",
       "      <th>engineweightratio</th>\n",
       "      <td>0.138852</td>\n",
       "      <td>0.345848</td>\n",
       "      <td>0.189085</td>\n",
       "      <td>-0.110204</td>\n",
       "      <td>0.596720</td>\n",
       "      <td>-0.162360</td>\n",
       "      <td>0.595635</td>\n",
       "      <td>-0.190055</td>\n",
       "      <td>1.000000</td>\n",
       "    </tr>\n",
       "  </tbody>\n",
       "</table>\n",
       "</div>"
      ],
      "text/plain": [
       "                   wheelbase  boreratio    stroke  compressionratio  \\\n",
       "wheelbase           1.000000   0.488750  0.160959          0.249786   \n",
       "boreratio           0.488750   1.000000 -0.055909          0.005197   \n",
       "stroke              0.160959  -0.055909  1.000000          0.186110   \n",
       "compressionratio    0.249786   0.005197  0.186110          1.000000   \n",
       "horsepower          0.353294   0.573677  0.080940         -0.204326   \n",
       "peakrpm            -0.360469  -0.254976 -0.067964         -0.435741   \n",
       "price               0.577816   0.553173  0.079443          0.067984   \n",
       "mpgratio            0.066804  -0.248911 -0.003916          0.372331   \n",
       "engineweightratio   0.138852   0.345848  0.189085         -0.110204   \n",
       "\n",
       "                   horsepower   peakrpm     price  mpgratio  engineweightratio  \n",
       "wheelbase            0.353294 -0.360469  0.577816  0.066804           0.138852  \n",
       "boreratio            0.573677 -0.254976  0.553173 -0.248911           0.345848  \n",
       "stroke               0.080940 -0.067964  0.079443 -0.003916           0.189085  \n",
       "compressionratio    -0.204326 -0.435741  0.067984  0.372331          -0.110204  \n",
       "horsepower           1.000000  0.131073  0.808139 -0.520007           0.596720  \n",
       "peakrpm              0.131073  1.000000 -0.085267 -0.306579          -0.162360  \n",
       "price                0.808139 -0.085267  1.000000 -0.298838           0.595635  \n",
       "mpgratio            -0.520007 -0.306579 -0.298838  1.000000          -0.190055  \n",
       "engineweightratio    0.596720 -0.162360  0.595635 -0.190055           1.000000  "
      ]
     },
     "execution_count": 19,
     "metadata": {},
     "output_type": "execute_result"
    }
   ],
   "source": [
    "##seems loose correlation now between independent variables\n",
    "carData.corr()"
   ]
  },
  {
   "cell_type": "markdown",
   "metadata": {},
   "source": [
    "**Seeing linear relationships so Linear regression would be good choice**"
   ]
  },
  {
   "cell_type": "code",
   "execution_count": 20,
   "metadata": {},
   "outputs": [
    {
     "data": {
      "text/plain": [
       "<seaborn.axisgrid.PairGrid at 0x1a1a4f9190>"
      ]
     },
     "execution_count": 20,
     "metadata": {},
     "output_type": "execute_result"
    },
    {
     "data": {
      "image/png": "[encoded data removed]",
      "text/plain": [
       "<Figure size 540x180 with 3 Axes>"
      ]
     },
     "metadata": {
      "needs_background": "light"
     },
     "output_type": "display_data"
    }
   ],
   "source": [
    "##seeing linear relationships for few variables so Linear regression would be option\n",
    "sns.pairplot(y_vars='price',x_vars=['engineweightratio','wheelbase','horsepower'], data=carData)"
   ]
  },
  {
   "cell_type": "markdown",
   "metadata": {},
   "source": [
    "**Outlier check**"
   ]
  },
  {
   "cell_type": "code",
   "execution_count": 21,
   "metadata": {},
   "outputs": [
    {
     "data": {
      "text/html": [
       "<div>\n",
       "<style scoped>\n",
       "    .dataframe tbody tr th:only-of-type {\n",
       "        vertical-align: middle;\n",
       "    }\n",
       "\n",
       "    .dataframe tbody tr th {\n",
       "        vertical-align: top;\n",
       "    }\n",
       "\n",
       "    .dataframe thead th {\n",
       "        text-align: right;\n",
       "    }\n",
       "</style>\n",
       "<table border=\"1\" class=\"dataframe\">\n",
       "  <thead>\n",
       "    <tr style=\"text-align: right;\">\n",
       "      <th></th>\n",
       "      <th>wheelbase</th>\n",
       "      <th>boreratio</th>\n",
       "      <th>stroke</th>\n",
       "      <th>compressionratio</th>\n",
       "      <th>horsepower</th>\n",
       "      <th>peakrpm</th>\n",
       "      <th>price</th>\n",
       "      <th>mpgratio</th>\n",
       "      <th>engineweightratio</th>\n",
       "    </tr>\n",
       "  </thead>\n",
       "  <tbody>\n",
       "    <tr>\n",
       "      <th>count</th>\n",
       "      <td>205.000000</td>\n",
       "      <td>205.000000</td>\n",
       "      <td>205.000000</td>\n",
       "      <td>205.000000</td>\n",
       "      <td>205.000000</td>\n",
       "      <td>205.000000</td>\n",
       "      <td>205.000000</td>\n",
       "      <td>205.000000</td>\n",
       "      <td>205.000000</td>\n",
       "    </tr>\n",
       "    <tr>\n",
       "      <th>mean</th>\n",
       "      <td>98.756585</td>\n",
       "      <td>3.329756</td>\n",
       "      <td>3.255415</td>\n",
       "      <td>10.142537</td>\n",
       "      <td>104.117073</td>\n",
       "      <td>5125.121951</td>\n",
       "      <td>13276.710571</td>\n",
       "      <td>0.815670</td>\n",
       "      <td>0.049056</td>\n",
       "    </tr>\n",
       "    <tr>\n",
       "      <th>std</th>\n",
       "      <td>6.021776</td>\n",
       "      <td>0.270844</td>\n",
       "      <td>0.313597</td>\n",
       "      <td>3.972040</td>\n",
       "      <td>39.544167</td>\n",
       "      <td>476.985643</td>\n",
       "      <td>7988.852332</td>\n",
       "      <td>0.058449</td>\n",
       "      <td>0.007578</td>\n",
       "    </tr>\n",
       "    <tr>\n",
       "      <th>min</th>\n",
       "      <td>86.600000</td>\n",
       "      <td>2.540000</td>\n",
       "      <td>2.070000</td>\n",
       "      <td>7.000000</td>\n",
       "      <td>48.000000</td>\n",
       "      <td>4150.000000</td>\n",
       "      <td>5118.000000</td>\n",
       "      <td>0.607143</td>\n",
       "      <td>0.029350</td>\n",
       "    </tr>\n",
       "    <tr>\n",
       "      <th>25%</th>\n",
       "      <td>94.500000</td>\n",
       "      <td>3.150000</td>\n",
       "      <td>3.110000</td>\n",
       "      <td>8.600000</td>\n",
       "      <td>70.000000</td>\n",
       "      <td>4800.000000</td>\n",
       "      <td>7788.000000</td>\n",
       "      <td>0.791667</td>\n",
       "      <td>0.045283</td>\n",
       "    </tr>\n",
       "    <tr>\n",
       "      <th>50%</th>\n",
       "      <td>97.000000</td>\n",
       "      <td>3.310000</td>\n",
       "      <td>3.290000</td>\n",
       "      <td>9.000000</td>\n",
       "      <td>95.000000</td>\n",
       "      <td>5200.000000</td>\n",
       "      <td>10295.000000</td>\n",
       "      <td>0.812500</td>\n",
       "      <td>0.047925</td>\n",
       "    </tr>\n",
       "    <tr>\n",
       "      <th>75%</th>\n",
       "      <td>102.400000</td>\n",
       "      <td>3.580000</td>\n",
       "      <td>3.410000</td>\n",
       "      <td>9.400000</td>\n",
       "      <td>116.000000</td>\n",
       "      <td>5500.000000</td>\n",
       "      <td>16503.000000</td>\n",
       "      <td>0.843750</td>\n",
       "      <td>0.051183</td>\n",
       "    </tr>\n",
       "    <tr>\n",
       "      <th>max</th>\n",
       "      <td>120.900000</td>\n",
       "      <td>3.940000</td>\n",
       "      <td>4.170000</td>\n",
       "      <td>23.000000</td>\n",
       "      <td>288.000000</td>\n",
       "      <td>6600.000000</td>\n",
       "      <td>45400.000000</td>\n",
       "      <td>1.000000</td>\n",
       "      <td>0.082532</td>\n",
       "    </tr>\n",
       "  </tbody>\n",
       "</table>\n",
       "</div>"
      ],
      "text/plain": [
       "        wheelbase   boreratio      stroke  compressionratio  horsepower  \\\n",
       "count  205.000000  205.000000  205.000000        205.000000  205.000000   \n",
       "mean    98.756585    3.329756    3.255415         10.142537  104.117073   \n",
       "std      6.021776    0.270844    0.313597          3.972040   39.544167   \n",
       "min     86.600000    2.540000    2.070000          7.000000   48.000000   \n",
       "25%     94.500000    3.150000    3.110000          8.600000   70.000000   \n",
       "50%     97.000000    3.310000    3.290000          9.000000   95.000000   \n",
       "75%    102.400000    3.580000    3.410000          9.400000  116.000000   \n",
       "max    120.900000    3.940000    4.170000         23.000000  288.000000   \n",
       "\n",
       "           peakrpm         price    mpgratio  engineweightratio  \n",
       "count   205.000000    205.000000  205.000000         205.000000  \n",
       "mean   5125.121951  13276.710571    0.815670           0.049056  \n",
       "std     476.985643   7988.852332    0.058449           0.007578  \n",
       "min    4150.000000   5118.000000    0.607143           0.029350  \n",
       "25%    4800.000000   7788.000000    0.791667           0.045283  \n",
       "50%    5200.000000  10295.000000    0.812500           0.047925  \n",
       "75%    5500.000000  16503.000000    0.843750           0.051183  \n",
       "max    6600.000000  45400.000000    1.000000           0.082532  "
      ]
     },
     "execution_count": 21,
     "metadata": {},
     "output_type": "execute_result"
    }
   ],
   "source": [
    "carData.describe()"
   ]
  },
  {
   "cell_type": "code",
   "execution_count": 22,
   "metadata": {},
   "outputs": [
    {
     "data": {
      "text/plain": [
       "<matplotlib.axes._subplots.AxesSubplot at 0x1a24cf6790>"
      ]
     },
     "execution_count": 22,
     "metadata": {},
     "output_type": "execute_result"
    },
    {
     "data": {
      "image/png": "[encoded data removed]",
      "text/plain": [
       "<Figure size 432x288 with 1 Axes>"
      ]
     },
     "metadata": {
      "needs_background": "light"
     },
     "output_type": "display_data"
    }
   ],
   "source": [
    "##horsepower has long right tail indicate outliers\n",
    "sns.distplot(carData.horsepower)"
   ]
  },
  {
   "cell_type": "code",
   "execution_count": 23,
   "metadata": {},
   "outputs": [
    {
     "data": {
      "text/plain": [
       "<matplotlib.axes._subplots.AxesSubplot at 0x1a1a48ff90>"
      ]
     },
     "execution_count": 23,
     "metadata": {},
     "output_type": "execute_result"
    },
    {
     "data": {
      "image/png": "[encoded data removed]",
      "text/plain": [
       "<Figure size 432x288 with 1 Axes>"
      ]
     },
     "metadata": {
      "needs_background": "light"
     },
     "output_type": "display_data"
    }
   ],
   "source": [
    "##price has long right tail indicate outliers\n",
    "sns.distplot(carData.price)"
   ]
  },
  {
   "cell_type": "code",
   "execution_count": 24,
   "metadata": {},
   "outputs": [],
   "source": [
    "##keeping data till 3 std deviation away\n",
    "carData = carData[(np.abs(carData.price-carData.price.mean()) <= (3*carData.price.std()))]"
   ]
  },
  {
   "cell_type": "code",
   "execution_count": 25,
   "metadata": {},
   "outputs": [],
   "source": [
    "##keeping data till 3 std deviation\n",
    "carData = carData[(np.abs(carData.horsepower-carData.horsepower.mean()) <= (3*carData.horsepower.std()))]"
   ]
  },
  {
   "cell_type": "code",
   "execution_count": null,
   "metadata": {},
   "outputs": [],
   "source": []
  },
  {
   "cell_type": "markdown",
   "metadata": {},
   "source": [
    "**Check cargorical variables**\n",
    "    - Check price spread across type of categorical variable\n",
    "    - Check number of each type within one category feature. Should have enough samples for more than 1 types to make comparative inference.\n",
    "    - Check distribution of each type within any category feature against price buckets to check any localization"
   ]
  },
  {
   "cell_type": "code",
   "execution_count": 26,
   "metadata": {},
   "outputs": [
    {
     "data": {
      "text/plain": [
       "(array([67., 47., 26., 27., 13.,  6.,  2.,  2.,  4.,  6.]),\n",
       " array([ 5118.,  8309., 11500., 14691., 17882., 21073., 24264., 27455.,\n",
       "        30646., 33837., 37028.]),\n",
       " <a list of 10 Patch objects>)"
      ]
     },
     "execution_count": 26,
     "metadata": {},
     "output_type": "execute_result"
    },
    {
     "data": {
      "image/png": "[encoded data removed]",
      "text/plain": [
       "<Figure size 432x288 with 1 Axes>"
      ]
     },
     "metadata": {
      "needs_background": "light"
     },
     "output_type": "display_data"
    }
   ],
   "source": [
    "##most cars in dataset in 5k-20k range\n",
    "plt.hist(carData.price)"
   ]
  },
  {
   "cell_type": "code",
   "execution_count": 27,
   "metadata": {},
   "outputs": [
    {
     "data": {
      "text/plain": [
       "count      200.000000\n",
       "mean     12633.250835\n",
       "std       6912.080946\n",
       "min       5118.000000\n",
       "25%       7775.000000\n",
       "50%      10096.500000\n",
       "75%      16106.000000\n",
       "max      37028.000000\n",
       "Name: price, dtype: float64"
      ]
     },
     "execution_count": 27,
     "metadata": {},
     "output_type": "execute_result"
    }
   ],
   "source": [
    "carData.price.describe()"
   ]
  },
  {
   "cell_type": "code",
   "execution_count": 28,
   "metadata": {},
   "outputs": [
    {
     "data": {
      "text/plain": [
       "<matplotlib.axes._subplots.AxesSubplot at 0x1a250b2610>"
      ]
     },
     "execution_count": 28,
     "metadata": {},
     "output_type": "execute_result"
    },
    {
     "data": {
      "image/png": "[encoded data removed]",
      "text/plain": [
       "<Figure size 432x288 with 1 Axes>"
      ]
     },
     "metadata": {
      "needs_background": "light"
     },
     "output_type": "display_data"
    }
   ],
   "source": [
    "## analyze categorical data\n",
    "##Diesel cars more expensive\n",
    "sns.boxplot(x='fueltype',y='price',data=carData)"
   ]
  },
  {
   "cell_type": "code",
   "execution_count": 29,
   "metadata": {},
   "outputs": [
    {
     "data": {
      "text/plain": [
       "gas       180\n",
       "diesel     20\n",
       "Name: fueltype, dtype: int64"
      ]
     },
     "execution_count": 29,
     "metadata": {},
     "output_type": "execute_result"
    }
   ],
   "source": [
    "## Gas cars more popular\n",
    "carData['fueltype'].value_counts()"
   ]
  },
  {
   "cell_type": "code",
   "execution_count": 30,
   "metadata": {},
   "outputs": [
    {
     "data": {
      "text/plain": [
       "5k-10k     6\n",
       "10-15K     5\n",
       "25-50k     4\n",
       "15-20k     4\n",
       "20-25k     1\n",
       "upto 5k    0\n",
       "Name: pricebucket, dtype: int64"
      ]
     },
     "execution_count": 30,
     "metadata": {},
     "output_type": "execute_result"
    }
   ],
   "source": [
    "carData[carData.fueltype=='diesel']['pricebucket'].value_counts()"
   ]
  },
  {
   "cell_type": "code",
   "execution_count": 31,
   "metadata": {},
   "outputs": [
    {
     "data": {
      "text/plain": [
       "5k-10k     94\n",
       "10-15K     36\n",
       "15-20k     34\n",
       "25-50k      9\n",
       "20-25k      7\n",
       "upto 5k     0\n",
       "Name: pricebucket, dtype: int64"
      ]
     },
     "execution_count": 31,
     "metadata": {},
     "output_type": "execute_result"
    }
   ],
   "source": [
    "carData[carData.fueltype=='gas']['pricebucket'].value_counts()"
   ]
  },
  {
   "cell_type": "code",
   "execution_count": null,
   "metadata": {},
   "outputs": [],
   "source": []
  },
  {
   "cell_type": "code",
   "execution_count": 32,
   "metadata": {},
   "outputs": [
    {
     "data": {
      "text/plain": [
       "<matplotlib.axes._subplots.AxesSubplot at 0x1a252032d0>"
      ]
     },
     "execution_count": 32,
     "metadata": {},
     "output_type": "execute_result"
    },
    {
     "data": {
      "image/png": "[encoded data removed]",
      "text/plain": [
       "<Figure size 432x288 with 1 Axes>"
      ]
     },
     "metadata": {
      "needs_background": "light"
     },
     "output_type": "display_data"
    }
   ],
   "source": [
    "## analyze categorical data\n",
    "##turbo cars more expensive\n",
    "\n",
    "sns.boxplot(x='aspiration',y='price',data=carData)"
   ]
  },
  {
   "cell_type": "code",
   "execution_count": 33,
   "metadata": {},
   "outputs": [
    {
     "data": {
      "text/plain": [
       "std      163\n",
       "turbo     37\n",
       "Name: aspiration, dtype: int64"
      ]
     },
     "execution_count": 33,
     "metadata": {},
     "output_type": "execute_result"
    }
   ],
   "source": [
    "## standard aspiration cars more popular\n",
    "carData['aspiration'].value_counts()"
   ]
  },
  {
   "cell_type": "code",
   "execution_count": 34,
   "metadata": {},
   "outputs": [
    {
     "data": {
      "text/plain": [
       "15-20k     12\n",
       "10-15K     11\n",
       "5k-10k      7\n",
       "25-50k      4\n",
       "20-25k      3\n",
       "upto 5k     0\n",
       "Name: pricebucket, dtype: int64"
      ]
     },
     "execution_count": 34,
     "metadata": {},
     "output_type": "execute_result"
    }
   ],
   "source": [
    "carData[carData.aspiration=='turbo']['pricebucket'].value_counts()"
   ]
  },
  {
   "cell_type": "code",
   "execution_count": 35,
   "metadata": {},
   "outputs": [
    {
     "data": {
      "text/plain": [
       "5k-10k     93\n",
       "10-15K     30\n",
       "15-20k     26\n",
       "25-50k      9\n",
       "20-25k      5\n",
       "upto 5k     0\n",
       "Name: pricebucket, dtype: int64"
      ]
     },
     "execution_count": 35,
     "metadata": {},
     "output_type": "execute_result"
    }
   ],
   "source": [
    "carData[carData.aspiration=='std']['pricebucket'].value_counts()"
   ]
  },
  {
   "cell_type": "code",
   "execution_count": null,
   "metadata": {},
   "outputs": [],
   "source": []
  },
  {
   "cell_type": "code",
   "execution_count": 36,
   "metadata": {},
   "outputs": [
    {
     "data": {
      "text/plain": [
       "<matplotlib.axes._subplots.AxesSubplot at 0x1a253bcbd0>"
      ]
     },
     "execution_count": 36,
     "metadata": {},
     "output_type": "execute_result"
    },
    {
     "data": {
      "image/png": "[encoded data removed]",
      "text/plain": [
       "<Figure size 432x288 with 1 Axes>"
      ]
     },
     "metadata": {
      "needs_background": "light"
     },
     "output_type": "display_data"
    }
   ],
   "source": [
    "##Analyze categorical data\n",
    "##hardtop/convertible cars more expensive\n",
    "\n",
    "sns.boxplot(x='carbody',y='price',data=carData)"
   ]
  },
  {
   "cell_type": "code",
   "execution_count": 37,
   "metadata": {},
   "outputs": [
    {
     "data": {
      "text/html": [
       "<div>\n",
       "<style scoped>\n",
       "    .dataframe tbody tr th:only-of-type {\n",
       "        vertical-align: middle;\n",
       "    }\n",
       "\n",
       "    .dataframe tbody tr th {\n",
       "        vertical-align: top;\n",
       "    }\n",
       "\n",
       "    .dataframe thead th {\n",
       "        text-align: right;\n",
       "    }\n",
       "</style>\n",
       "<table border=\"1\" class=\"dataframe\">\n",
       "  <thead>\n",
       "    <tr style=\"text-align: right;\">\n",
       "      <th>pricebucket</th>\n",
       "      <th>5k-10k</th>\n",
       "      <th>10-15K</th>\n",
       "      <th>15-20k</th>\n",
       "      <th>20-25k</th>\n",
       "      <th>25-50k</th>\n",
       "    </tr>\n",
       "    <tr>\n",
       "      <th>carbody</th>\n",
       "      <th></th>\n",
       "      <th></th>\n",
       "      <th></th>\n",
       "      <th></th>\n",
       "      <th></th>\n",
       "    </tr>\n",
       "  </thead>\n",
       "  <tbody>\n",
       "    <tr>\n",
       "      <th>convertible</th>\n",
       "      <td>NaN</td>\n",
       "      <td>2.0</td>\n",
       "      <td>2.0</td>\n",
       "      <td>NaN</td>\n",
       "      <td>2.0</td>\n",
       "    </tr>\n",
       "    <tr>\n",
       "      <th>hardtop</th>\n",
       "      <td>3.0</td>\n",
       "      <td>1.0</td>\n",
       "      <td>NaN</td>\n",
       "      <td>NaN</td>\n",
       "      <td>3.0</td>\n",
       "    </tr>\n",
       "    <tr>\n",
       "      <th>hatchback</th>\n",
       "      <td>43.0</td>\n",
       "      <td>14.0</td>\n",
       "      <td>11.0</td>\n",
       "      <td>1.0</td>\n",
       "      <td>NaN</td>\n",
       "    </tr>\n",
       "    <tr>\n",
       "      <th>sedan</th>\n",
       "      <td>43.0</td>\n",
       "      <td>17.0</td>\n",
       "      <td>19.0</td>\n",
       "      <td>7.0</td>\n",
       "      <td>7.0</td>\n",
       "    </tr>\n",
       "    <tr>\n",
       "      <th>wagon</th>\n",
       "      <td>11.0</td>\n",
       "      <td>7.0</td>\n",
       "      <td>6.0</td>\n",
       "      <td>NaN</td>\n",
       "      <td>1.0</td>\n",
       "    </tr>\n",
       "  </tbody>\n",
       "</table>\n",
       "</div>"
      ],
      "text/plain": [
       "pricebucket  5k-10k  10-15K  15-20k  20-25k  25-50k\n",
       "carbody                                            \n",
       "convertible     NaN     2.0     2.0     NaN     2.0\n",
       "hardtop         3.0     1.0     NaN     NaN     3.0\n",
       "hatchback      43.0    14.0    11.0     1.0     NaN\n",
       "sedan          43.0    17.0    19.0     7.0     7.0\n",
       "wagon          11.0     7.0     6.0     NaN     1.0"
      ]
     },
     "execution_count": 37,
     "metadata": {},
     "output_type": "execute_result"
    }
   ],
   "source": [
    "pd.pivot_table(data=carData,index='carbody',columns='pricebucket',values=\"price\", aggfunc=len)"
   ]
  },
  {
   "cell_type": "code",
   "execution_count": 38,
   "metadata": {},
   "outputs": [
    {
     "data": {
      "text/plain": [
       "sedan          93\n",
       "hatchback      69\n",
       "wagon          25\n",
       "hardtop         7\n",
       "convertible     6\n",
       "Name: carbody, dtype: int64"
      ]
     },
     "execution_count": 38,
     "metadata": {},
     "output_type": "execute_result"
    }
   ],
   "source": [
    "##sedan/hatchback seems low price and popular and can be useful column for inference\n",
    "carData['carbody'].value_counts()"
   ]
  },
  {
   "cell_type": "code",
   "execution_count": null,
   "metadata": {},
   "outputs": [],
   "source": []
  },
  {
   "cell_type": "code",
   "execution_count": 39,
   "metadata": {},
   "outputs": [
    {
     "data": {
      "text/plain": [
       "<matplotlib.axes._subplots.AxesSubplot at 0x1a253b07d0>"
      ]
     },
     "execution_count": 39,
     "metadata": {},
     "output_type": "execute_result"
    },
    {
     "data": {
      "image/png": "[encoded data removed]",
      "text/plain": [
       "<Figure size 432x288 with 1 Axes>"
      ]
     },
     "metadata": {
      "needs_background": "light"
     },
     "output_type": "display_data"
    }
   ],
   "source": [
    "##Analyze categorical data\n",
    "##rwd drivewheel cars more expensive\n",
    "sns.boxplot(x='drivewheel',y='price',data=carData)"
   ]
  },
  {
   "cell_type": "code",
   "execution_count": 40,
   "metadata": {},
   "outputs": [
    {
     "data": {
      "text/plain": [
       "fwd    120\n",
       "rwd     71\n",
       "4wd      9\n",
       "Name: drivewheel, dtype: int64"
      ]
     },
     "execution_count": 40,
     "metadata": {},
     "output_type": "execute_result"
    }
   ],
   "source": [
    "##count is large for category impacting price so useful variable for analysis\n",
    "carData['drivewheel'].value_counts()"
   ]
  },
  {
   "cell_type": "code",
   "execution_count": 41,
   "metadata": {},
   "outputs": [
    {
     "data": {
      "text/html": [
       "<div>\n",
       "<style scoped>\n",
       "    .dataframe tbody tr th:only-of-type {\n",
       "        vertical-align: middle;\n",
       "    }\n",
       "\n",
       "    .dataframe tbody tr th {\n",
       "        vertical-align: top;\n",
       "    }\n",
       "\n",
       "    .dataframe thead th {\n",
       "        text-align: right;\n",
       "    }\n",
       "</style>\n",
       "<table border=\"1\" class=\"dataframe\">\n",
       "  <thead>\n",
       "    <tr style=\"text-align: right;\">\n",
       "      <th>pricebucket</th>\n",
       "      <th>5k-10k</th>\n",
       "      <th>10-15K</th>\n",
       "      <th>15-20k</th>\n",
       "      <th>20-25k</th>\n",
       "      <th>25-50k</th>\n",
       "    </tr>\n",
       "    <tr>\n",
       "      <th>drivewheel</th>\n",
       "      <th></th>\n",
       "      <th></th>\n",
       "      <th></th>\n",
       "      <th></th>\n",
       "      <th></th>\n",
       "    </tr>\n",
       "  </thead>\n",
       "  <tbody>\n",
       "    <tr>\n",
       "      <th>4wd</th>\n",
       "      <td>5.0</td>\n",
       "      <td>2.0</td>\n",
       "      <td>2.0</td>\n",
       "      <td>NaN</td>\n",
       "      <td>NaN</td>\n",
       "    </tr>\n",
       "    <tr>\n",
       "      <th>fwd</th>\n",
       "      <td>87.0</td>\n",
       "      <td>25.0</td>\n",
       "      <td>7.0</td>\n",
       "      <td>1.0</td>\n",
       "      <td>NaN</td>\n",
       "    </tr>\n",
       "    <tr>\n",
       "      <th>rwd</th>\n",
       "      <td>8.0</td>\n",
       "      <td>14.0</td>\n",
       "      <td>29.0</td>\n",
       "      <td>7.0</td>\n",
       "      <td>13.0</td>\n",
       "    </tr>\n",
       "  </tbody>\n",
       "</table>\n",
       "</div>"
      ],
      "text/plain": [
       "pricebucket  5k-10k  10-15K  15-20k  20-25k  25-50k\n",
       "drivewheel                                         \n",
       "4wd             5.0     2.0     2.0     NaN     NaN\n",
       "fwd            87.0    25.0     7.0     1.0     NaN\n",
       "rwd             8.0    14.0    29.0     7.0    13.0"
      ]
     },
     "execution_count": 41,
     "metadata": {},
     "output_type": "execute_result"
    }
   ],
   "source": [
    "pd.pivot_table(data=carData,index='drivewheel',columns='pricebucket',values=\"price\", aggfunc=len)"
   ]
  },
  {
   "cell_type": "code",
   "execution_count": null,
   "metadata": {},
   "outputs": [],
   "source": []
  },
  {
   "cell_type": "code",
   "execution_count": 42,
   "metadata": {},
   "outputs": [
    {
     "data": {
      "text/plain": [
       "<matplotlib.axes._subplots.AxesSubplot at 0x1a25696650>"
      ]
     },
     "execution_count": 42,
     "metadata": {},
     "output_type": "execute_result"
    },
    {
     "data": {
      "image/png": "[encoded data removed]",
      "text/plain": [
       "<Figure size 432x288 with 1 Axes>"
      ]
     },
     "metadata": {
      "needs_background": "light"
     },
     "output_type": "display_data"
    }
   ],
   "source": [
    "##Analyze categorical data\n",
    "##rear engine cars more expensive.\n",
    "sns.boxplot(x='enginelocation',y='price',data=carData)"
   ]
  },
  {
   "cell_type": "code",
   "execution_count": 43,
   "metadata": {},
   "outputs": [
    {
     "data": {
      "text/plain": [
       "front    197\n",
       "rear       3\n",
       "Name: enginelocation, dtype: int64"
      ]
     },
     "execution_count": 43,
     "metadata": {},
     "output_type": "execute_result"
    }
   ],
   "source": [
    "##sample size too small for category impacting price heavily(rear) \n",
    "## Front engine is popular though\n",
    "carData['enginelocation'].value_counts()"
   ]
  },
  {
   "cell_type": "code",
   "execution_count": null,
   "metadata": {},
   "outputs": [],
   "source": []
  },
  {
   "cell_type": "code",
   "execution_count": 44,
   "metadata": {},
   "outputs": [
    {
     "data": {
      "text/plain": [
       "<matplotlib.axes._subplots.AxesSubplot at 0x1a257c70d0>"
      ]
     },
     "execution_count": 44,
     "metadata": {},
     "output_type": "execute_result"
    },
    {
     "data": {
      "image/png": "[encoded data removed]",
      "text/plain": [
       "<Figure size 432x288 with 1 Axes>"
      ]
     },
     "metadata": {
      "needs_background": "light"
     },
     "output_type": "display_data"
    }
   ],
   "source": [
    "## analyze categorical data\n",
    "sns.boxplot(x='enginetype',y='price',data=carData)"
   ]
  },
  {
   "cell_type": "code",
   "execution_count": 45,
   "metadata": {},
   "outputs": [
    {
     "data": {
      "text/html": [
       "<div>\n",
       "<style scoped>\n",
       "    .dataframe tbody tr th:only-of-type {\n",
       "        vertical-align: middle;\n",
       "    }\n",
       "\n",
       "    .dataframe tbody tr th {\n",
       "        vertical-align: top;\n",
       "    }\n",
       "\n",
       "    .dataframe thead th {\n",
       "        text-align: right;\n",
       "    }\n",
       "</style>\n",
       "<table border=\"1\" class=\"dataframe\">\n",
       "  <thead>\n",
       "    <tr style=\"text-align: right;\">\n",
       "      <th>pricebucket</th>\n",
       "      <th>5k-10k</th>\n",
       "      <th>10-15K</th>\n",
       "      <th>15-20k</th>\n",
       "      <th>20-25k</th>\n",
       "      <th>25-50k</th>\n",
       "    </tr>\n",
       "    <tr>\n",
       "      <th>enginetype</th>\n",
       "      <th></th>\n",
       "      <th></th>\n",
       "      <th></th>\n",
       "      <th></th>\n",
       "      <th></th>\n",
       "    </tr>\n",
       "  </thead>\n",
       "  <tbody>\n",
       "    <tr>\n",
       "      <th>dohc</th>\n",
       "      <td>2.0</td>\n",
       "      <td>1.0</td>\n",
       "      <td>7.0</td>\n",
       "      <td>NaN</td>\n",
       "      <td>2.0</td>\n",
       "    </tr>\n",
       "    <tr>\n",
       "      <th>l</th>\n",
       "      <td>1.0</td>\n",
       "      <td>4.0</td>\n",
       "      <td>7.0</td>\n",
       "      <td>NaN</td>\n",
       "      <td>NaN</td>\n",
       "    </tr>\n",
       "    <tr>\n",
       "      <th>ohc</th>\n",
       "      <td>88.0</td>\n",
       "      <td>27.0</td>\n",
       "      <td>19.0</td>\n",
       "      <td>7.0</td>\n",
       "      <td>6.0</td>\n",
       "    </tr>\n",
       "    <tr>\n",
       "      <th>ohcf</th>\n",
       "      <td>9.0</td>\n",
       "      <td>3.0</td>\n",
       "      <td>NaN</td>\n",
       "      <td>NaN</td>\n",
       "      <td>3.0</td>\n",
       "    </tr>\n",
       "    <tr>\n",
       "      <th>ohcv</th>\n",
       "      <td>NaN</td>\n",
       "      <td>3.0</td>\n",
       "      <td>4.0</td>\n",
       "      <td>1.0</td>\n",
       "      <td>2.0</td>\n",
       "    </tr>\n",
       "    <tr>\n",
       "      <th>rotor</th>\n",
       "      <td>NaN</td>\n",
       "      <td>3.0</td>\n",
       "      <td>1.0</td>\n",
       "      <td>NaN</td>\n",
       "      <td>NaN</td>\n",
       "    </tr>\n",
       "  </tbody>\n",
       "</table>\n",
       "</div>"
      ],
      "text/plain": [
       "pricebucket  5k-10k  10-15K  15-20k  20-25k  25-50k\n",
       "enginetype                                         \n",
       "dohc            2.0     1.0     7.0     NaN     2.0\n",
       "l               1.0     4.0     7.0     NaN     NaN\n",
       "ohc            88.0    27.0    19.0     7.0     6.0\n",
       "ohcf            9.0     3.0     NaN     NaN     3.0\n",
       "ohcv            NaN     3.0     4.0     1.0     2.0\n",
       "rotor           NaN     3.0     1.0     NaN     NaN"
      ]
     },
     "execution_count": 45,
     "metadata": {},
     "output_type": "execute_result"
    }
   ],
   "source": [
    "\n",
    "carData['enginetype'].value_counts()\n",
    "pd.pivot_table(data=carData,index='enginetype',columns='pricebucket',values=\"price\", aggfunc=len)"
   ]
  },
  {
   "cell_type": "code",
   "execution_count": null,
   "metadata": {},
   "outputs": [],
   "source": []
  },
  {
   "cell_type": "code",
   "execution_count": 46,
   "metadata": {},
   "outputs": [
    {
     "data": {
      "text/plain": [
       "<matplotlib.axes._subplots.AxesSubplot at 0x1a258e4350>"
      ]
     },
     "execution_count": 46,
     "metadata": {},
     "output_type": "execute_result"
    },
    {
     "data": {
      "image/png": "[encoded data removed]",
      "text/plain": [
       "<Figure size 432x288 with 1 Axes>"
      ]
     },
     "metadata": {
      "needs_background": "light"
     },
     "output_type": "display_data"
    }
   ],
   "source": [
    "sns.boxplot(x='cylindernumber',y='price',data=carData)"
   ]
  },
  {
   "cell_type": "code",
   "execution_count": 47,
   "metadata": {},
   "outputs": [
    {
     "data": {
      "text/plain": [
       "four     159\n",
       "six       23\n",
       "five      11\n",
       "two        4\n",
       "eight      2\n",
       "three      1\n",
       "Name: cylindernumber, dtype: int64"
      ]
     },
     "execution_count": 47,
     "metadata": {},
     "output_type": "execute_result"
    }
   ],
   "source": [
    "carData['cylindernumber'].value_counts()"
   ]
  },
  {
   "cell_type": "code",
   "execution_count": 48,
   "metadata": {},
   "outputs": [
    {
     "data": {
      "text/html": [
       "<div>\n",
       "<style scoped>\n",
       "    .dataframe tbody tr th:only-of-type {\n",
       "        vertical-align: middle;\n",
       "    }\n",
       "\n",
       "    .dataframe tbody tr th {\n",
       "        vertical-align: top;\n",
       "    }\n",
       "\n",
       "    .dataframe thead th {\n",
       "        text-align: right;\n",
       "    }\n",
       "</style>\n",
       "<table border=\"1\" class=\"dataframe\">\n",
       "  <thead>\n",
       "    <tr style=\"text-align: right;\">\n",
       "      <th>pricebucket</th>\n",
       "      <th>5k-10k</th>\n",
       "      <th>10-15K</th>\n",
       "      <th>15-20k</th>\n",
       "      <th>20-25k</th>\n",
       "      <th>25-50k</th>\n",
       "    </tr>\n",
       "    <tr>\n",
       "      <th>cylindernumber</th>\n",
       "      <th></th>\n",
       "      <th></th>\n",
       "      <th></th>\n",
       "      <th></th>\n",
       "      <th></th>\n",
       "    </tr>\n",
       "  </thead>\n",
       "  <tbody>\n",
       "    <tr>\n",
       "      <th>eight</th>\n",
       "      <td>NaN</td>\n",
       "      <td>NaN</td>\n",
       "      <td>NaN</td>\n",
       "      <td>NaN</td>\n",
       "      <td>2.0</td>\n",
       "    </tr>\n",
       "    <tr>\n",
       "      <th>five</th>\n",
       "      <td>NaN</td>\n",
       "      <td>1.0</td>\n",
       "      <td>5.0</td>\n",
       "      <td>1.0</td>\n",
       "      <td>4.0</td>\n",
       "    </tr>\n",
       "    <tr>\n",
       "      <th>four</th>\n",
       "      <td>99.0</td>\n",
       "      <td>34.0</td>\n",
       "      <td>24.0</td>\n",
       "      <td>2.0</td>\n",
       "      <td>NaN</td>\n",
       "    </tr>\n",
       "    <tr>\n",
       "      <th>six</th>\n",
       "      <td>NaN</td>\n",
       "      <td>3.0</td>\n",
       "      <td>8.0</td>\n",
       "      <td>5.0</td>\n",
       "      <td>7.0</td>\n",
       "    </tr>\n",
       "    <tr>\n",
       "      <th>three</th>\n",
       "      <td>1.0</td>\n",
       "      <td>NaN</td>\n",
       "      <td>NaN</td>\n",
       "      <td>NaN</td>\n",
       "      <td>NaN</td>\n",
       "    </tr>\n",
       "    <tr>\n",
       "      <th>two</th>\n",
       "      <td>NaN</td>\n",
       "      <td>3.0</td>\n",
       "      <td>1.0</td>\n",
       "      <td>NaN</td>\n",
       "      <td>NaN</td>\n",
       "    </tr>\n",
       "  </tbody>\n",
       "</table>\n",
       "</div>"
      ],
      "text/plain": [
       "pricebucket     5k-10k  10-15K  15-20k  20-25k  25-50k\n",
       "cylindernumber                                        \n",
       "eight              NaN     NaN     NaN     NaN     2.0\n",
       "five               NaN     1.0     5.0     1.0     4.0\n",
       "four              99.0    34.0    24.0     2.0     NaN\n",
       "six                NaN     3.0     8.0     5.0     7.0\n",
       "three              1.0     NaN     NaN     NaN     NaN\n",
       "two                NaN     3.0     1.0     NaN     NaN"
      ]
     },
     "execution_count": 48,
     "metadata": {},
     "output_type": "execute_result"
    }
   ],
   "source": [
    "##four cylinder more popular\n",
    "pd.pivot_table(data=carData,index='cylindernumber',columns='pricebucket',values=\"price\", aggfunc=len)"
   ]
  },
  {
   "cell_type": "code",
   "execution_count": null,
   "metadata": {},
   "outputs": [],
   "source": []
  },
  {
   "cell_type": "code",
   "execution_count": 49,
   "metadata": {},
   "outputs": [
    {
     "data": {
      "text/html": [
       "<div>\n",
       "<style scoped>\n",
       "    .dataframe tbody tr th:only-of-type {\n",
       "        vertical-align: middle;\n",
       "    }\n",
       "\n",
       "    .dataframe tbody tr th {\n",
       "        vertical-align: top;\n",
       "    }\n",
       "\n",
       "    .dataframe thead th {\n",
       "        text-align: right;\n",
       "    }\n",
       "</style>\n",
       "<table border=\"1\" class=\"dataframe\">\n",
       "  <thead>\n",
       "    <tr style=\"text-align: right;\">\n",
       "      <th>pricebucket</th>\n",
       "      <th>5k-10k</th>\n",
       "      <th>10-15K</th>\n",
       "      <th>15-20k</th>\n",
       "      <th>20-25k</th>\n",
       "      <th>25-50k</th>\n",
       "    </tr>\n",
       "    <tr>\n",
       "      <th>fuelsystem</th>\n",
       "      <th></th>\n",
       "      <th></th>\n",
       "      <th></th>\n",
       "      <th></th>\n",
       "      <th></th>\n",
       "    </tr>\n",
       "  </thead>\n",
       "  <tbody>\n",
       "    <tr>\n",
       "      <th>1bbl</th>\n",
       "      <td>10.0</td>\n",
       "      <td>1.0</td>\n",
       "      <td>NaN</td>\n",
       "      <td>NaN</td>\n",
       "      <td>NaN</td>\n",
       "    </tr>\n",
       "    <tr>\n",
       "      <th>2bbl</th>\n",
       "      <td>62.0</td>\n",
       "      <td>4.0</td>\n",
       "      <td>NaN</td>\n",
       "      <td>NaN</td>\n",
       "      <td>NaN</td>\n",
       "    </tr>\n",
       "    <tr>\n",
       "      <th>4bbl</th>\n",
       "      <td>NaN</td>\n",
       "      <td>3.0</td>\n",
       "      <td>NaN</td>\n",
       "      <td>NaN</td>\n",
       "      <td>NaN</td>\n",
       "    </tr>\n",
       "    <tr>\n",
       "      <th>idi</th>\n",
       "      <td>6.0</td>\n",
       "      <td>5.0</td>\n",
       "      <td>4.0</td>\n",
       "      <td>1.0</td>\n",
       "      <td>4.0</td>\n",
       "    </tr>\n",
       "    <tr>\n",
       "      <th>mfi</th>\n",
       "      <td>NaN</td>\n",
       "      <td>1.0</td>\n",
       "      <td>NaN</td>\n",
       "      <td>NaN</td>\n",
       "      <td>NaN</td>\n",
       "    </tr>\n",
       "    <tr>\n",
       "      <th>mpfi</th>\n",
       "      <td>17.0</td>\n",
       "      <td>22.0</td>\n",
       "      <td>34.0</td>\n",
       "      <td>7.0</td>\n",
       "      <td>9.0</td>\n",
       "    </tr>\n",
       "    <tr>\n",
       "      <th>spdi</th>\n",
       "      <td>5.0</td>\n",
       "      <td>4.0</td>\n",
       "      <td>NaN</td>\n",
       "      <td>NaN</td>\n",
       "      <td>NaN</td>\n",
       "    </tr>\n",
       "    <tr>\n",
       "      <th>spfi</th>\n",
       "      <td>NaN</td>\n",
       "      <td>1.0</td>\n",
       "      <td>NaN</td>\n",
       "      <td>NaN</td>\n",
       "      <td>NaN</td>\n",
       "    </tr>\n",
       "  </tbody>\n",
       "</table>\n",
       "</div>"
      ],
      "text/plain": [
       "pricebucket  5k-10k  10-15K  15-20k  20-25k  25-50k\n",
       "fuelsystem                                         \n",
       "1bbl           10.0     1.0     NaN     NaN     NaN\n",
       "2bbl           62.0     4.0     NaN     NaN     NaN\n",
       "4bbl            NaN     3.0     NaN     NaN     NaN\n",
       "idi             6.0     5.0     4.0     1.0     4.0\n",
       "mfi             NaN     1.0     NaN     NaN     NaN\n",
       "mpfi           17.0    22.0    34.0     7.0     9.0\n",
       "spdi            5.0     4.0     NaN     NaN     NaN\n",
       "spfi            NaN     1.0     NaN     NaN     NaN"
      ]
     },
     "execution_count": 49,
     "metadata": {},
     "output_type": "execute_result"
    }
   ],
   "source": [
    "##fuelsystem mpfi showing strong trend \n",
    "pd.pivot_table(data=carData,index='fuelsystem',columns='pricebucket',values=\"price\", aggfunc=len)"
   ]
  },
  {
   "cell_type": "code",
   "execution_count": 50,
   "metadata": {},
   "outputs": [
    {
     "data": {
      "text/plain": [
       "mpfi    89\n",
       "2bbl    66\n",
       "idi     20\n",
       "1bbl    11\n",
       "spdi     9\n",
       "4bbl     3\n",
       "spfi     1\n",
       "mfi      1\n",
       "Name: fuelsystem, dtype: int64"
      ]
     },
     "execution_count": 50,
     "metadata": {},
     "output_type": "execute_result"
    }
   ],
   "source": [
    "carData['fuelsystem'].value_counts()"
   ]
  },
  {
   "cell_type": "code",
   "execution_count": 51,
   "metadata": {},
   "outputs": [
    {
     "data": {
      "text/plain": [
       "<matplotlib.axes._subplots.AxesSubplot at 0x1a25aeadd0>"
      ]
     },
     "execution_count": 51,
     "metadata": {},
     "output_type": "execute_result"
    },
    {
     "data": {
      "image/png": "[encoded data removed]",
      "text/plain": [
       "<Figure size 432x288 with 1 Axes>"
      ]
     },
     "metadata": {
      "needs_background": "light"
     },
     "output_type": "display_data"
    }
   ],
   "source": [
    "sns.boxplot(x='fuelsystem',y='price',data=carData)"
   ]
  },
  {
   "cell_type": "code",
   "execution_count": null,
   "metadata": {},
   "outputs": [],
   "source": []
  },
  {
   "cell_type": "code",
   "execution_count": 52,
   "metadata": {},
   "outputs": [
    {
     "data": {
      "text/plain": [
       "company\n",
       "jaguar         33900.0\n",
       "porsche        33278.0\n",
       "buick          29924.0\n",
       "bmw            21105.0\n",
       "volvo          18420.0\n",
       "audi           17710.0\n",
       "peugeot        16630.0\n",
       "mercury        16503.0\n",
       "alfa-romero    16500.0\n",
       "saab           15275.0\n",
       "mazda          10595.0\n",
       "volkswagen      9737.5\n",
       "renault         9595.0\n",
       "toyota          9103.0\n",
       "isuzu           8916.5\n",
       "mitsubishi      8499.0\n",
       "nissan          8124.0\n",
       "subaru          7894.0\n",
       "plymouth        7609.0\n",
       "dodge           7609.0\n",
       "honda           7295.0\n",
       "chevrolet       6295.0\n",
       "Name: price, dtype: float64"
      ]
     },
     "execution_count": 52,
     "metadata": {},
     "output_type": "execute_result"
    }
   ],
   "source": [
    "##expensive brands.. \n",
    "carData.groupby(by='company')['price'].median().sort_values(ascending=False)"
   ]
  },
  {
   "cell_type": "code",
   "execution_count": 53,
   "metadata": {},
   "outputs": [],
   "source": [
    "##categorize brand\n",
    "def brandcat(cmp):\n",
    "    if cmp == 'jaguar' or cmp == 'buick' or cmp == 'porsche' or cmp == 'bmw':\n",
    "        return 'top'\n",
    "    elif cmp == 'volvo' or cmp == 'audi' or cmp == 'peugeot' or cmp == 'alfa-romero' or cmp == 'saab':\n",
    "        return 'medium'\n",
    "    else:\n",
    "        return 'low'\n",
    "carData['companycat'] = carData['company'].apply(brandcat)"
   ]
  },
  {
   "cell_type": "markdown",
   "metadata": {},
   "source": [
    "## Dealing with categorical Variables"
   ]
  },
  {
   "cell_type": "code",
   "execution_count": 54,
   "metadata": {},
   "outputs": [
    {
     "data": {
      "text/plain": [
       "(200, 21)"
      ]
     },
     "execution_count": 54,
     "metadata": {},
     "output_type": "execute_result"
    }
   ],
   "source": [
    "carData.shape"
   ]
  },
  {
   "cell_type": "code",
   "execution_count": 55,
   "metadata": {},
   "outputs": [],
   "source": [
    "## Drop variables created for EDA\n",
    "carData.drop(['pricebucket','company'],axis=1,inplace=True)"
   ]
  },
  {
   "cell_type": "code",
   "execution_count": 56,
   "metadata": {},
   "outputs": [],
   "source": [
    "##making cat vars ready for linear regresssion\n",
    "carData = pd.get_dummies(carData,drop_first=True)"
   ]
  },
  {
   "cell_type": "code",
   "execution_count": 57,
   "metadata": {},
   "outputs": [
    {
     "data": {
      "text/plain": [
       "(200, 38)"
      ]
     },
     "execution_count": 57,
     "metadata": {},
     "output_type": "execute_result"
    }
   ],
   "source": [
    "carData.shape"
   ]
  },
  {
   "cell_type": "code",
   "execution_count": 58,
   "metadata": {},
   "outputs": [
    {
     "data": {
      "text/plain": [
       "Index(['wheelbase', 'boreratio', 'stroke', 'compressionratio', 'horsepower',\n",
       "       'peakrpm', 'price', 'mpgratio', 'engineweightratio', 'fueltype_gas',\n",
       "       'aspiration_turbo', 'doornumber_two', 'carbody_hardtop',\n",
       "       'carbody_hatchback', 'carbody_sedan', 'carbody_wagon', 'drivewheel_fwd',\n",
       "       'drivewheel_rwd', 'enginelocation_rear', 'enginetype_l',\n",
       "       'enginetype_ohc', 'enginetype_ohcf', 'enginetype_ohcv',\n",
       "       'enginetype_rotor', 'cylindernumber_five', 'cylindernumber_four',\n",
       "       'cylindernumber_six', 'cylindernumber_three', 'cylindernumber_two',\n",
       "       'fuelsystem_2bbl', 'fuelsystem_4bbl', 'fuelsystem_idi',\n",
       "       'fuelsystem_mfi', 'fuelsystem_mpfi', 'fuelsystem_spdi',\n",
       "       'fuelsystem_spfi', 'companycat_medium', 'companycat_top'],\n",
       "      dtype='object')"
      ]
     },
     "execution_count": 58,
     "metadata": {},
     "output_type": "execute_result"
    }
   ],
   "source": [
    "carData.columns"
   ]
  },
  {
   "cell_type": "code",
   "execution_count": 59,
   "metadata": {},
   "outputs": [
    {
     "data": {
      "text/html": [
       "<div>\n",
       "<style scoped>\n",
       "    .dataframe tbody tr th:only-of-type {\n",
       "        vertical-align: middle;\n",
       "    }\n",
       "\n",
       "    .dataframe tbody tr th {\n",
       "        vertical-align: top;\n",
       "    }\n",
       "\n",
       "    .dataframe thead th {\n",
       "        text-align: right;\n",
       "    }\n",
       "</style>\n",
       "<table border=\"1\" class=\"dataframe\">\n",
       "  <thead>\n",
       "    <tr style=\"text-align: right;\">\n",
       "      <th></th>\n",
       "      <th>wheelbase</th>\n",
       "      <th>boreratio</th>\n",
       "      <th>stroke</th>\n",
       "      <th>compressionratio</th>\n",
       "      <th>horsepower</th>\n",
       "      <th>peakrpm</th>\n",
       "      <th>price</th>\n",
       "      <th>mpgratio</th>\n",
       "      <th>engineweightratio</th>\n",
       "      <th>fueltype_gas</th>\n",
       "      <th>...</th>\n",
       "      <th>cylindernumber_two</th>\n",
       "      <th>fuelsystem_2bbl</th>\n",
       "      <th>fuelsystem_4bbl</th>\n",
       "      <th>fuelsystem_idi</th>\n",
       "      <th>fuelsystem_mfi</th>\n",
       "      <th>fuelsystem_mpfi</th>\n",
       "      <th>fuelsystem_spdi</th>\n",
       "      <th>fuelsystem_spfi</th>\n",
       "      <th>companycat_medium</th>\n",
       "      <th>companycat_top</th>\n",
       "    </tr>\n",
       "  </thead>\n",
       "  <tbody>\n",
       "    <tr>\n",
       "      <th>0</th>\n",
       "      <td>88.6</td>\n",
       "      <td>3.47</td>\n",
       "      <td>2.68</td>\n",
       "      <td>9.0</td>\n",
       "      <td>111</td>\n",
       "      <td>5000</td>\n",
       "      <td>13495.0</td>\n",
       "      <td>0.777778</td>\n",
       "      <td>0.05102</td>\n",
       "      <td>1</td>\n",
       "      <td>...</td>\n",
       "      <td>0</td>\n",
       "      <td>0</td>\n",
       "      <td>0</td>\n",
       "      <td>0</td>\n",
       "      <td>0</td>\n",
       "      <td>1</td>\n",
       "      <td>0</td>\n",
       "      <td>0</td>\n",
       "      <td>1</td>\n",
       "      <td>0</td>\n",
       "    </tr>\n",
       "    <tr>\n",
       "      <th>1</th>\n",
       "      <td>88.6</td>\n",
       "      <td>3.47</td>\n",
       "      <td>2.68</td>\n",
       "      <td>9.0</td>\n",
       "      <td>111</td>\n",
       "      <td>5000</td>\n",
       "      <td>16500.0</td>\n",
       "      <td>0.777778</td>\n",
       "      <td>0.05102</td>\n",
       "      <td>1</td>\n",
       "      <td>...</td>\n",
       "      <td>0</td>\n",
       "      <td>0</td>\n",
       "      <td>0</td>\n",
       "      <td>0</td>\n",
       "      <td>0</td>\n",
       "      <td>1</td>\n",
       "      <td>0</td>\n",
       "      <td>0</td>\n",
       "      <td>1</td>\n",
       "      <td>0</td>\n",
       "    </tr>\n",
       "  </tbody>\n",
       "</table>\n",
       "<p>2 rows × 38 columns</p>\n",
       "</div>"
      ],
      "text/plain": [
       "   wheelbase  boreratio  stroke  compressionratio  horsepower  peakrpm  \\\n",
       "0       88.6       3.47    2.68               9.0         111     5000   \n",
       "1       88.6       3.47    2.68               9.0         111     5000   \n",
       "\n",
       "     price  mpgratio  engineweightratio  fueltype_gas  ...  \\\n",
       "0  13495.0  0.777778            0.05102             1  ...   \n",
       "1  16500.0  0.777778            0.05102             1  ...   \n",
       "\n",
       "   cylindernumber_two  fuelsystem_2bbl  fuelsystem_4bbl  fuelsystem_idi  \\\n",
       "0                   0                0                0               0   \n",
       "1                   0                0                0               0   \n",
       "\n",
       "   fuelsystem_mfi  fuelsystem_mpfi  fuelsystem_spdi  fuelsystem_spfi  \\\n",
       "0               0                1                0                0   \n",
       "1               0                1                0                0   \n",
       "\n",
       "   companycat_medium  companycat_top  \n",
       "0                  1               0  \n",
       "1                  1               0  \n",
       "\n",
       "[2 rows x 38 columns]"
      ]
     },
     "execution_count": 59,
     "metadata": {},
     "output_type": "execute_result"
    }
   ],
   "source": [
    "carData.head(2)"
   ]
  },
  {
   "cell_type": "markdown",
   "metadata": {},
   "source": [
    "## Split train/test data"
   ]
  },
  {
   "cell_type": "code",
   "execution_count": 60,
   "metadata": {},
   "outputs": [],
   "source": [
    "from sklearn.model_selection import train_test_split"
   ]
  },
  {
   "cell_type": "code",
   "execution_count": 61,
   "metadata": {},
   "outputs": [],
   "source": [
    "np.random.seed(0)\n",
    "train_df,test_df = train_test_split(carData,train_size=0.7,random_state=100)"
   ]
  },
  {
   "cell_type": "code",
   "execution_count": 62,
   "metadata": {},
   "outputs": [
    {
     "data": {
      "text/plain": [
       "(140, 38)"
      ]
     },
     "execution_count": 62,
     "metadata": {},
     "output_type": "execute_result"
    }
   ],
   "source": [
    "train_df.shape"
   ]
  },
  {
   "cell_type": "code",
   "execution_count": 63,
   "metadata": {},
   "outputs": [
    {
     "data": {
      "text/plain": [
       "(60, 38)"
      ]
     },
     "execution_count": 63,
     "metadata": {},
     "output_type": "execute_result"
    }
   ],
   "source": [
    "test_df.shape"
   ]
  },
  {
   "cell_type": "code",
   "execution_count": 64,
   "metadata": {},
   "outputs": [
    {
     "name": "stdout",
     "output_type": "stream",
     "text": [
      "<class 'pandas.core.frame.DataFrame'>\n",
      "Int64Index: 200 entries, 0 to 204\n",
      "Data columns (total 38 columns):\n",
      " #   Column                Non-Null Count  Dtype  \n",
      "---  ------                --------------  -----  \n",
      " 0   wheelbase             200 non-null    float64\n",
      " 1   boreratio             200 non-null    float64\n",
      " 2   stroke                200 non-null    float64\n",
      " 3   compressionratio      200 non-null    float64\n",
      " 4   horsepower            200 non-null    int64  \n",
      " 5   peakrpm               200 non-null    int64  \n",
      " 6   price                 200 non-null    float64\n",
      " 7   mpgratio              200 non-null    float64\n",
      " 8   engineweightratio     200 non-null    float64\n",
      " 9   fueltype_gas          200 non-null    uint8  \n",
      " 10  aspiration_turbo      200 non-null    uint8  \n",
      " 11  doornumber_two        200 non-null    uint8  \n",
      " 12  carbody_hardtop       200 non-null    uint8  \n",
      " 13  carbody_hatchback     200 non-null    uint8  \n",
      " 14  carbody_sedan         200 non-null    uint8  \n",
      " 15  carbody_wagon         200 non-null    uint8  \n",
      " 16  drivewheel_fwd        200 non-null    uint8  \n",
      " 17  drivewheel_rwd        200 non-null    uint8  \n",
      " 18  enginelocation_rear   200 non-null    uint8  \n",
      " 19  enginetype_l          200 non-null    uint8  \n",
      " 20  enginetype_ohc        200 non-null    uint8  \n",
      " 21  enginetype_ohcf       200 non-null    uint8  \n",
      " 22  enginetype_ohcv       200 non-null    uint8  \n",
      " 23  enginetype_rotor      200 non-null    uint8  \n",
      " 24  cylindernumber_five   200 non-null    uint8  \n",
      " 25  cylindernumber_four   200 non-null    uint8  \n",
      " 26  cylindernumber_six    200 non-null    uint8  \n",
      " 27  cylindernumber_three  200 non-null    uint8  \n",
      " 28  cylindernumber_two    200 non-null    uint8  \n",
      " 29  fuelsystem_2bbl       200 non-null    uint8  \n",
      " 30  fuelsystem_4bbl       200 non-null    uint8  \n",
      " 31  fuelsystem_idi        200 non-null    uint8  \n",
      " 32  fuelsystem_mfi        200 non-null    uint8  \n",
      " 33  fuelsystem_mpfi       200 non-null    uint8  \n",
      " 34  fuelsystem_spdi       200 non-null    uint8  \n",
      " 35  fuelsystem_spfi       200 non-null    uint8  \n",
      " 36  companycat_medium     200 non-null    uint8  \n",
      " 37  companycat_top        200 non-null    uint8  \n",
      "dtypes: float64(7), int64(2), uint8(29)\n",
      "memory usage: 31.3 KB\n"
     ]
    }
   ],
   "source": [
    "carData.info()"
   ]
  },
  {
   "cell_type": "markdown",
   "metadata": {},
   "source": [
    "## Scaling "
   ]
  },
  {
   "cell_type": "code",
   "execution_count": 65,
   "metadata": {},
   "outputs": [],
   "source": [
    "from sklearn.preprocessing import MinMaxScaler"
   ]
  },
  {
   "cell_type": "code",
   "execution_count": 66,
   "metadata": {},
   "outputs": [],
   "source": [
    "scalar= MinMaxScaler()"
   ]
  },
  {
   "cell_type": "code",
   "execution_count": 67,
   "metadata": {},
   "outputs": [],
   "source": [
    "train_df[train_df.columns] = scalar.fit_transform(train_df[train_df.columns])"
   ]
  },
  {
   "cell_type": "code",
   "execution_count": 68,
   "metadata": {},
   "outputs": [
    {
     "data": {
      "text/html": [
       "<div>\n",
       "<style scoped>\n",
       "    .dataframe tbody tr th:only-of-type {\n",
       "        vertical-align: middle;\n",
       "    }\n",
       "\n",
       "    .dataframe tbody tr th {\n",
       "        vertical-align: top;\n",
       "    }\n",
       "\n",
       "    .dataframe thead th {\n",
       "        text-align: right;\n",
       "    }\n",
       "</style>\n",
       "<table border=\"1\" class=\"dataframe\">\n",
       "  <thead>\n",
       "    <tr style=\"text-align: right;\">\n",
       "      <th></th>\n",
       "      <th>wheelbase</th>\n",
       "      <th>boreratio</th>\n",
       "      <th>stroke</th>\n",
       "      <th>compressionratio</th>\n",
       "      <th>horsepower</th>\n",
       "      <th>peakrpm</th>\n",
       "      <th>price</th>\n",
       "      <th>mpgratio</th>\n",
       "      <th>engineweightratio</th>\n",
       "      <th>fueltype_gas</th>\n",
       "      <th>...</th>\n",
       "      <th>cylindernumber_two</th>\n",
       "      <th>fuelsystem_2bbl</th>\n",
       "      <th>fuelsystem_4bbl</th>\n",
       "      <th>fuelsystem_idi</th>\n",
       "      <th>fuelsystem_mfi</th>\n",
       "      <th>fuelsystem_mpfi</th>\n",
       "      <th>fuelsystem_spdi</th>\n",
       "      <th>fuelsystem_spfi</th>\n",
       "      <th>companycat_medium</th>\n",
       "      <th>companycat_top</th>\n",
       "    </tr>\n",
       "  </thead>\n",
       "  <tbody>\n",
       "    <tr>\n",
       "      <th>78</th>\n",
       "      <td>0.244828</td>\n",
       "      <td>0.307143</td>\n",
       "      <td>0.552381</td>\n",
       "      <td>0.15000</td>\n",
       "      <td>0.125786</td>\n",
       "      <td>0.55102</td>\n",
       "      <td>0.047843</td>\n",
       "      <td>0.424342</td>\n",
       "      <td>0.403445</td>\n",
       "      <td>1.0</td>\n",
       "      <td>...</td>\n",
       "      <td>0.0</td>\n",
       "      <td>1.0</td>\n",
       "      <td>0.0</td>\n",
       "      <td>0.0</td>\n",
       "      <td>0.0</td>\n",
       "      <td>0.0</td>\n",
       "      <td>0.0</td>\n",
       "      <td>0.0</td>\n",
       "      <td>0.0</td>\n",
       "      <td>0.0</td>\n",
       "    </tr>\n",
       "    <tr>\n",
       "      <th>3</th>\n",
       "      <td>0.455172</td>\n",
       "      <td>0.464286</td>\n",
       "      <td>0.633333</td>\n",
       "      <td>0.18750</td>\n",
       "      <td>0.339623</td>\n",
       "      <td>0.55102</td>\n",
       "      <td>0.277317</td>\n",
       "      <td>0.375000</td>\n",
       "      <td>0.421300</td>\n",
       "      <td>1.0</td>\n",
       "      <td>...</td>\n",
       "      <td>0.0</td>\n",
       "      <td>0.0</td>\n",
       "      <td>0.0</td>\n",
       "      <td>0.0</td>\n",
       "      <td>0.0</td>\n",
       "      <td>1.0</td>\n",
       "      <td>0.0</td>\n",
       "      <td>0.0</td>\n",
       "      <td>1.0</td>\n",
       "      <td>0.0</td>\n",
       "    </tr>\n",
       "    <tr>\n",
       "      <th>190</th>\n",
       "      <td>0.272414</td>\n",
       "      <td>0.464286</td>\n",
       "      <td>0.633333</td>\n",
       "      <td>0.09375</td>\n",
       "      <td>0.264151</td>\n",
       "      <td>0.55102</td>\n",
       "      <td>0.152195</td>\n",
       "      <td>0.461207</td>\n",
       "      <td>0.480654</td>\n",
       "      <td>1.0</td>\n",
       "      <td>...</td>\n",
       "      <td>0.0</td>\n",
       "      <td>0.0</td>\n",
       "      <td>0.0</td>\n",
       "      <td>0.0</td>\n",
       "      <td>0.0</td>\n",
       "      <td>1.0</td>\n",
       "      <td>0.0</td>\n",
       "      <td>0.0</td>\n",
       "      <td>0.0</td>\n",
       "      <td>0.0</td>\n",
       "    </tr>\n",
       "  </tbody>\n",
       "</table>\n",
       "<p>3 rows × 38 columns</p>\n",
       "</div>"
      ],
      "text/plain": [
       "     wheelbase  boreratio    stroke  compressionratio  horsepower  peakrpm  \\\n",
       "78    0.244828   0.307143  0.552381           0.15000    0.125786  0.55102   \n",
       "3     0.455172   0.464286  0.633333           0.18750    0.339623  0.55102   \n",
       "190   0.272414   0.464286  0.633333           0.09375    0.264151  0.55102   \n",
       "\n",
       "        price  mpgratio  engineweightratio  fueltype_gas  ...  \\\n",
       "78   0.047843  0.424342           0.403445           1.0  ...   \n",
       "3    0.277317  0.375000           0.421300           1.0  ...   \n",
       "190  0.152195  0.461207           0.480654           1.0  ...   \n",
       "\n",
       "     cylindernumber_two  fuelsystem_2bbl  fuelsystem_4bbl  fuelsystem_idi  \\\n",
       "78                  0.0              1.0              0.0             0.0   \n",
       "3                   0.0              0.0              0.0             0.0   \n",
       "190                 0.0              0.0              0.0             0.0   \n",
       "\n",
       "     fuelsystem_mfi  fuelsystem_mpfi  fuelsystem_spdi  fuelsystem_spfi  \\\n",
       "78              0.0              0.0              0.0              0.0   \n",
       "3               0.0              1.0              0.0              0.0   \n",
       "190             0.0              1.0              0.0              0.0   \n",
       "\n",
       "     companycat_medium  companycat_top  \n",
       "78                 0.0             0.0  \n",
       "3                  1.0             0.0  \n",
       "190                0.0             0.0  \n",
       "\n",
       "[3 rows x 38 columns]"
      ]
     },
     "execution_count": 68,
     "metadata": {},
     "output_type": "execute_result"
    }
   ],
   "source": [
    "train_df.head(3)"
   ]
  },
  {
   "cell_type": "markdown",
   "metadata": {},
   "source": [
    "## Model feature selection and training"
   ]
  },
  {
   "cell_type": "code",
   "execution_count": 69,
   "metadata": {},
   "outputs": [],
   "source": [
    "y_train = train_df.pop('price')\n",
    "X_train = train_df"
   ]
  },
  {
   "cell_type": "code",
   "execution_count": 70,
   "metadata": {},
   "outputs": [],
   "source": [
    "# Importing RFE and LinearRegression\n",
    "from sklearn.feature_selection import RFE\n",
    "from sklearn.linear_model import LinearRegression"
   ]
  },
  {
   "cell_type": "code",
   "execution_count": 71,
   "metadata": {},
   "outputs": [],
   "source": [
    "# Running RFE with the output number of the variable equal to 10\n",
    "lm = LinearRegression()\n",
    "lm.fit(X_train, y_train)\n",
    "\n",
    "rfe = RFE(lm, 10)             # running RFE\n",
    "rfe = rfe.fit(X_train, y_train)"
   ]
  },
  {
   "cell_type": "code",
   "execution_count": 72,
   "metadata": {},
   "outputs": [
    {
     "data": {
      "text/plain": [
       "[('wheelbase', True, 1),\n",
       " ('boreratio', False, 21),\n",
       " ('stroke', False, 20),\n",
       " ('compressionratio', False, 10),\n",
       " ('horsepower', True, 1),\n",
       " ('peakrpm', False, 19),\n",
       " ('mpgratio', False, 12),\n",
       " ('engineweightratio', False, 25),\n",
       " ('fueltype_gas', False, 6),\n",
       " ('aspiration_turbo', False, 13),\n",
       " ('doornumber_two', False, 18),\n",
       " ('carbody_hardtop', False, 3),\n",
       " ('carbody_hatchback', False, 2),\n",
       " ('carbody_sedan', False, 4),\n",
       " ('carbody_wagon', True, 1),\n",
       " ('drivewheel_fwd', False, 15),\n",
       " ('drivewheel_rwd', False, 14),\n",
       " ('enginelocation_rear', True, 1),\n",
       " ('enginetype_l', False, 7),\n",
       " ('enginetype_ohc', False, 22),\n",
       " ('enginetype_ohcf', False, 26),\n",
       " ('enginetype_ohcv', False, 16),\n",
       " ('enginetype_rotor', True, 1),\n",
       " ('cylindernumber_five', True, 1),\n",
       " ('cylindernumber_four', True, 1),\n",
       " ('cylindernumber_six', True, 1),\n",
       " ('cylindernumber_three', True, 1),\n",
       " ('cylindernumber_two', False, 5),\n",
       " ('fuelsystem_2bbl', False, 27),\n",
       " ('fuelsystem_4bbl', False, 17),\n",
       " ('fuelsystem_idi', False, 11),\n",
       " ('fuelsystem_mfi', False, 28),\n",
       " ('fuelsystem_mpfi', False, 23),\n",
       " ('fuelsystem_spdi', False, 24),\n",
       " ('fuelsystem_spfi', False, 9),\n",
       " ('companycat_medium', False, 8),\n",
       " ('companycat_top', True, 1)]"
      ]
     },
     "execution_count": 72,
     "metadata": {},
     "output_type": "execute_result"
    }
   ],
   "source": [
    "list(zip(X_train.columns,rfe.support_,rfe.ranking_))"
   ]
  },
  {
   "cell_type": "code",
   "execution_count": 73,
   "metadata": {},
   "outputs": [
    {
     "data": {
      "text/plain": [
       "Index(['wheelbase', 'horsepower', 'carbody_wagon', 'enginelocation_rear',\n",
       "       'enginetype_rotor', 'cylindernumber_five', 'cylindernumber_four',\n",
       "       'cylindernumber_six', 'cylindernumber_three', 'companycat_top'],\n",
       "      dtype='object')"
      ]
     },
     "execution_count": 73,
     "metadata": {},
     "output_type": "execute_result"
    }
   ],
   "source": [
    "col = X_train.columns[rfe.support_]\n",
    "col"
   ]
  },
  {
   "cell_type": "code",
   "execution_count": 74,
   "metadata": {},
   "outputs": [
    {
     "data": {
      "text/plain": [
       "Index(['boreratio', 'stroke', 'compressionratio', 'peakrpm', 'mpgratio',\n",
       "       'engineweightratio', 'fueltype_gas', 'aspiration_turbo',\n",
       "       'doornumber_two', 'carbody_hardtop', 'carbody_hatchback',\n",
       "       'carbody_sedan', 'drivewheel_fwd', 'drivewheel_rwd', 'enginetype_l',\n",
       "       'enginetype_ohc', 'enginetype_ohcf', 'enginetype_ohcv',\n",
       "       'cylindernumber_two', 'fuelsystem_2bbl', 'fuelsystem_4bbl',\n",
       "       'fuelsystem_idi', 'fuelsystem_mfi', 'fuelsystem_mpfi',\n",
       "       'fuelsystem_spdi', 'fuelsystem_spfi', 'companycat_medium'],\n",
       "      dtype='object')"
      ]
     },
     "execution_count": 74,
     "metadata": {},
     "output_type": "execute_result"
    }
   ],
   "source": [
    "X_train.columns[~rfe.support_]"
   ]
  },
  {
   "cell_type": "code",
   "execution_count": 75,
   "metadata": {},
   "outputs": [],
   "source": [
    "import statsmodels.api as sm"
   ]
  },
  {
   "cell_type": "code",
   "execution_count": 76,
   "metadata": {},
   "outputs": [],
   "source": [
    "X_train_rfe = X_train[col]\n",
    "X_train_sm = sm.add_constant(X_train_rfe)"
   ]
  },
  {
   "cell_type": "code",
   "execution_count": 77,
   "metadata": {},
   "outputs": [],
   "source": [
    "ml = sm.OLS(y_train,X_train_sm).fit()"
   ]
  },
  {
   "cell_type": "code",
   "execution_count": 78,
   "metadata": {},
   "outputs": [
    {
     "data": {
      "text/html": [
       "<table class=\"simpletable\">\n",
       "<caption>OLS Regression Results</caption>\n",
       "<tr>\n",
       "  <th>Dep. Variable:</th>          <td>price</td>      <th>  R-squared:         </th> <td>   0.924</td>\n",
       "</tr>\n",
       "<tr>\n",
       "  <th>Model:</th>                   <td>OLS</td>       <th>  Adj. R-squared:    </th> <td>   0.919</td>\n",
       "</tr>\n",
       "<tr>\n",
       "  <th>Method:</th>             <td>Least Squares</td>  <th>  F-statistic:       </th> <td>   157.8</td>\n",
       "</tr>\n",
       "<tr>\n",
       "  <th>Date:</th>             <td>Mon, 10 Aug 2020</td> <th>  Prob (F-statistic):</th> <td>2.78e-67</td>\n",
       "</tr>\n",
       "<tr>\n",
       "  <th>Time:</th>                 <td>16:48:43</td>     <th>  Log-Likelihood:    </th> <td>  202.90</td>\n",
       "</tr>\n",
       "<tr>\n",
       "  <th>No. Observations:</th>      <td>   140</td>      <th>  AIC:               </th> <td>  -383.8</td>\n",
       "</tr>\n",
       "<tr>\n",
       "  <th>Df Residuals:</th>          <td>   129</td>      <th>  BIC:               </th> <td>  -351.5</td>\n",
       "</tr>\n",
       "<tr>\n",
       "  <th>Df Model:</th>              <td>    10</td>      <th>                     </th>     <td> </td>   \n",
       "</tr>\n",
       "<tr>\n",
       "  <th>Covariance Type:</th>      <td>nonrobust</td>    <th>                     </th>     <td> </td>   \n",
       "</tr>\n",
       "</table>\n",
       "<table class=\"simpletable\">\n",
       "<tr>\n",
       "            <td></td>              <th>coef</th>     <th>std err</th>      <th>t</th>      <th>P>|t|</th>  <th>[0.025</th>    <th>0.975]</th>  \n",
       "</tr>\n",
       "<tr>\n",
       "  <th>const</th>                <td>    0.2955</td> <td>    0.066</td> <td>    4.445</td> <td> 0.000</td> <td>    0.164</td> <td>    0.427</td>\n",
       "</tr>\n",
       "<tr>\n",
       "  <th>wheelbase</th>            <td>    0.3703</td> <td>    0.032</td> <td>   11.614</td> <td> 0.000</td> <td>    0.307</td> <td>    0.433</td>\n",
       "</tr>\n",
       "<tr>\n",
       "  <th>horsepower</th>           <td>    0.4083</td> <td>    0.034</td> <td>   12.147</td> <td> 0.000</td> <td>    0.342</td> <td>    0.475</td>\n",
       "</tr>\n",
       "<tr>\n",
       "  <th>carbody_wagon</th>        <td>   -0.0420</td> <td>    0.015</td> <td>   -2.797</td> <td> 0.006</td> <td>   -0.072</td> <td>   -0.012</td>\n",
       "</tr>\n",
       "<tr>\n",
       "  <th>enginelocation_rear</th>  <td>    0.2026</td> <td>    0.067</td> <td>    3.023</td> <td> 0.003</td> <td>    0.070</td> <td>    0.335</td>\n",
       "</tr>\n",
       "<tr>\n",
       "  <th>enginetype_rotor</th>     <td>   -0.3165</td> <td>    0.071</td> <td>   -4.485</td> <td> 0.000</td> <td>   -0.456</td> <td>   -0.177</td>\n",
       "</tr>\n",
       "<tr>\n",
       "  <th>cylindernumber_five</th>  <td>   -0.2839</td> <td>    0.066</td> <td>   -4.313</td> <td> 0.000</td> <td>   -0.414</td> <td>   -0.154</td>\n",
       "</tr>\n",
       "<tr>\n",
       "  <th>cylindernumber_four</th>  <td>   -0.3830</td> <td>    0.065</td> <td>   -5.877</td> <td> 0.000</td> <td>   -0.512</td> <td>   -0.254</td>\n",
       "</tr>\n",
       "<tr>\n",
       "  <th>cylindernumber_six</th>   <td>   -0.3251</td> <td>    0.064</td> <td>   -5.113</td> <td> 0.000</td> <td>   -0.451</td> <td>   -0.199</td>\n",
       "</tr>\n",
       "<tr>\n",
       "  <th>cylindernumber_three</th> <td>   -0.3185</td> <td>    0.089</td> <td>   -3.577</td> <td> 0.000</td> <td>   -0.495</td> <td>   -0.142</td>\n",
       "</tr>\n",
       "<tr>\n",
       "  <th>companycat_top</th>       <td>    0.2445</td> <td>    0.023</td> <td>   10.739</td> <td> 0.000</td> <td>    0.199</td> <td>    0.290</td>\n",
       "</tr>\n",
       "</table>\n",
       "<table class=\"simpletable\">\n",
       "<tr>\n",
       "  <th>Omnibus:</th>       <td> 5.682</td> <th>  Durbin-Watson:     </th> <td>   2.184</td>\n",
       "</tr>\n",
       "<tr>\n",
       "  <th>Prob(Omnibus):</th> <td> 0.058</td> <th>  Jarque-Bera (JB):  </th> <td>   5.322</td>\n",
       "</tr>\n",
       "<tr>\n",
       "  <th>Skew:</th>          <td> 0.384</td> <th>  Prob(JB):          </th> <td>  0.0699</td>\n",
       "</tr>\n",
       "<tr>\n",
       "  <th>Kurtosis:</th>      <td> 3.568</td> <th>  Cond. No.          </th> <td>    44.9</td>\n",
       "</tr>\n",
       "</table><br/><br/>Warnings:<br/>[1] Standard Errors assume that the covariance matrix of the errors is correctly specified."
      ],
      "text/plain": [
       "<class 'statsmodels.iolib.summary.Summary'>\n",
       "\"\"\"\n",
       "                            OLS Regression Results                            \n",
       "==============================================================================\n",
       "Dep. Variable:                  price   R-squared:                       0.924\n",
       "Model:                            OLS   Adj. R-squared:                  0.919\n",
       "Method:                 Least Squares   F-statistic:                     157.8\n",
       "Date:                Mon, 10 Aug 2020   Prob (F-statistic):           2.78e-67\n",
       "Time:                        16:48:43   Log-Likelihood:                 202.90\n",
       "No. Observations:                 140   AIC:                            -383.8\n",
       "Df Residuals:                     129   BIC:                            -351.5\n",
       "Df Model:                          10                                         \n",
       "Covariance Type:            nonrobust                                         \n",
       "========================================================================================\n",
       "                           coef    std err          t      P>|t|      [0.025      0.975]\n",
       "----------------------------------------------------------------------------------------\n",
       "const                    0.2955      0.066      4.445      0.000       0.164       0.427\n",
       "wheelbase                0.3703      0.032     11.614      0.000       0.307       0.433\n",
       "horsepower               0.4083      0.034     12.147      0.000       0.342       0.475\n",
       "carbody_wagon           -0.0420      0.015     -2.797      0.006      -0.072      -0.012\n",
       "enginelocation_rear      0.2026      0.067      3.023      0.003       0.070       0.335\n",
       "enginetype_rotor        -0.3165      0.071     -4.485      0.000      -0.456      -0.177\n",
       "cylindernumber_five     -0.2839      0.066     -4.313      0.000      -0.414      -0.154\n",
       "cylindernumber_four     -0.3830      0.065     -5.877      0.000      -0.512      -0.254\n",
       "cylindernumber_six      -0.3251      0.064     -5.113      0.000      -0.451      -0.199\n",
       "cylindernumber_three    -0.3185      0.089     -3.577      0.000      -0.495      -0.142\n",
       "companycat_top           0.2445      0.023     10.739      0.000       0.199       0.290\n",
       "==============================================================================\n",
       "Omnibus:                        5.682   Durbin-Watson:                   2.184\n",
       "Prob(Omnibus):                  0.058   Jarque-Bera (JB):                5.322\n",
       "Skew:                           0.384   Prob(JB):                       0.0699\n",
       "Kurtosis:                       3.568   Cond. No.                         44.9\n",
       "==============================================================================\n",
       "\n",
       "Warnings:\n",
       "[1] Standard Errors assume that the covariance matrix of the errors is correctly specified.\n",
       "\"\"\""
      ]
     },
     "execution_count": 78,
     "metadata": {},
     "output_type": "execute_result"
    }
   ],
   "source": [
    "ml.summary()"
   ]
  },
  {
   "cell_type": "code",
   "execution_count": 79,
   "metadata": {},
   "outputs": [],
   "source": [
    "from statsmodels.stats.outliers_influence import variance_inflation_factor"
   ]
  },
  {
   "cell_type": "code",
   "execution_count": 80,
   "metadata": {
    "scrolled": true
   },
   "outputs": [
    {
     "data": {
      "text/html": [
       "<div>\n",
       "<style scoped>\n",
       "    .dataframe tbody tr th:only-of-type {\n",
       "        vertical-align: middle;\n",
       "    }\n",
       "\n",
       "    .dataframe tbody tr th {\n",
       "        vertical-align: top;\n",
       "    }\n",
       "\n",
       "    .dataframe thead th {\n",
       "        text-align: right;\n",
       "    }\n",
       "</style>\n",
       "<table border=\"1\" class=\"dataframe\">\n",
       "  <thead>\n",
       "    <tr style=\"text-align: right;\">\n",
       "      <th></th>\n",
       "      <th>features</th>\n",
       "      <th>RFE</th>\n",
       "    </tr>\n",
       "  </thead>\n",
       "  <tbody>\n",
       "    <tr>\n",
       "      <th>0</th>\n",
       "      <td>wheelbase</td>\n",
       "      <td>8.30</td>\n",
       "    </tr>\n",
       "    <tr>\n",
       "      <th>1</th>\n",
       "      <td>horsepower</td>\n",
       "      <td>6.12</td>\n",
       "    </tr>\n",
       "    <tr>\n",
       "      <th>6</th>\n",
       "      <td>cylindernumber_four</td>\n",
       "      <td>5.61</td>\n",
       "    </tr>\n",
       "    <tr>\n",
       "      <th>7</th>\n",
       "      <td>cylindernumber_six</td>\n",
       "      <td>3.10</td>\n",
       "    </tr>\n",
       "    <tr>\n",
       "      <th>5</th>\n",
       "      <td>cylindernumber_five</td>\n",
       "      <td>2.04</td>\n",
       "    </tr>\n",
       "    <tr>\n",
       "      <th>9</th>\n",
       "      <td>companycat_top</td>\n",
       "      <td>1.60</td>\n",
       "    </tr>\n",
       "    <tr>\n",
       "      <th>2</th>\n",
       "      <td>carbody_wagon</td>\n",
       "      <td>1.35</td>\n",
       "    </tr>\n",
       "    <tr>\n",
       "      <th>3</th>\n",
       "      <td>enginelocation_rear</td>\n",
       "      <td>1.26</td>\n",
       "    </tr>\n",
       "    <tr>\n",
       "      <th>4</th>\n",
       "      <td>enginetype_rotor</td>\n",
       "      <td>1.20</td>\n",
       "    </tr>\n",
       "    <tr>\n",
       "      <th>8</th>\n",
       "      <td>cylindernumber_three</td>\n",
       "      <td>1.00</td>\n",
       "    </tr>\n",
       "  </tbody>\n",
       "</table>\n",
       "</div>"
      ],
      "text/plain": [
       "               features   RFE\n",
       "0             wheelbase  8.30\n",
       "1            horsepower  6.12\n",
       "6   cylindernumber_four  5.61\n",
       "7    cylindernumber_six  3.10\n",
       "5   cylindernumber_five  2.04\n",
       "9        companycat_top  1.60\n",
       "2         carbody_wagon  1.35\n",
       "3   enginelocation_rear  1.26\n",
       "4      enginetype_rotor  1.20\n",
       "8  cylindernumber_three  1.00"
      ]
     },
     "execution_count": 80,
     "metadata": {},
     "output_type": "execute_result"
    }
   ],
   "source": [
    "X_train_new = X_train_sm.drop(['const'], axis=1)\n",
    "rfe = pd.DataFrame()\n",
    "rfe['features'] = X_train_new.columns\n",
    "rfe['RFE']=[variance_inflation_factor(X_train_new.values,i) for i in range(X_train_new.shape[1])]\n",
    "rfe['RFE'] = round(rfe['RFE'],2)\n",
    "rfe.sort_values(by='RFE',ascending=False,inplace=True)\n",
    "rfe"
   ]
  },
  {
   "cell_type": "code",
   "execution_count": 81,
   "metadata": {},
   "outputs": [
    {
     "data": {
      "text/html": [
       "<div>\n",
       "<style scoped>\n",
       "    .dataframe tbody tr th:only-of-type {\n",
       "        vertical-align: middle;\n",
       "    }\n",
       "\n",
       "    .dataframe tbody tr th {\n",
       "        vertical-align: top;\n",
       "    }\n",
       "\n",
       "    .dataframe thead th {\n",
       "        text-align: right;\n",
       "    }\n",
       "</style>\n",
       "<table border=\"1\" class=\"dataframe\">\n",
       "  <thead>\n",
       "    <tr style=\"text-align: right;\">\n",
       "      <th></th>\n",
       "      <th>wheelbase</th>\n",
       "      <th>horsepower</th>\n",
       "      <th>carbody_wagon</th>\n",
       "      <th>enginelocation_rear</th>\n",
       "      <th>enginetype_rotor</th>\n",
       "      <th>cylindernumber_five</th>\n",
       "      <th>cylindernumber_four</th>\n",
       "      <th>cylindernumber_six</th>\n",
       "      <th>cylindernumber_three</th>\n",
       "      <th>companycat_top</th>\n",
       "    </tr>\n",
       "  </thead>\n",
       "  <tbody>\n",
       "    <tr>\n",
       "      <th>wheelbase</th>\n",
       "      <td>1.000000</td>\n",
       "      <td>0.336564</td>\n",
       "      <td>0.270027</td>\n",
       "      <td>-0.132483</td>\n",
       "      <td>-0.093360</td>\n",
       "      <td>0.293155</td>\n",
       "      <td>-0.242538</td>\n",
       "      <td>0.187420</td>\n",
       "      <td>-0.148852</td>\n",
       "      <td>0.278287</td>\n",
       "    </tr>\n",
       "    <tr>\n",
       "      <th>horsepower</th>\n",
       "      <td>0.336564</td>\n",
       "      <td>1.000000</td>\n",
       "      <td>-0.079282</td>\n",
       "      <td>0.273687</td>\n",
       "      <td>0.050943</td>\n",
       "      <td>0.190310</td>\n",
       "      <td>-0.561028</td>\n",
       "      <td>0.563321</td>\n",
       "      <td>-0.131546</td>\n",
       "      <td>0.383827</td>\n",
       "    </tr>\n",
       "    <tr>\n",
       "      <th>carbody_wagon</th>\n",
       "      <td>0.270027</td>\n",
       "      <td>-0.079282</td>\n",
       "      <td>1.000000</td>\n",
       "      <td>-0.035631</td>\n",
       "      <td>-0.072044</td>\n",
       "      <td>-0.028547</td>\n",
       "      <td>0.073127</td>\n",
       "      <td>-0.016169</td>\n",
       "      <td>-0.035631</td>\n",
       "      <td>-0.057166</td>\n",
       "    </tr>\n",
       "    <tr>\n",
       "      <th>enginelocation_rear</th>\n",
       "      <td>-0.132483</td>\n",
       "      <td>0.273687</td>\n",
       "      <td>-0.035631</td>\n",
       "      <td>1.000000</td>\n",
       "      <td>-0.014546</td>\n",
       "      <td>-0.022232</td>\n",
       "      <td>-0.162416</td>\n",
       "      <td>0.244851</td>\n",
       "      <td>-0.007194</td>\n",
       "      <td>0.277017</td>\n",
       "    </tr>\n",
       "    <tr>\n",
       "      <th>enginetype_rotor</th>\n",
       "      <td>-0.093360</td>\n",
       "      <td>0.050943</td>\n",
       "      <td>-0.072044</td>\n",
       "      <td>-0.014546</td>\n",
       "      <td>1.000000</td>\n",
       "      <td>-0.044952</td>\n",
       "      <td>-0.328395</td>\n",
       "      <td>-0.059409</td>\n",
       "      <td>-0.014546</td>\n",
       "      <td>-0.052511</td>\n",
       "    </tr>\n",
       "    <tr>\n",
       "      <th>cylindernumber_five</th>\n",
       "      <td>0.293155</td>\n",
       "      <td>0.190310</td>\n",
       "      <td>-0.028547</td>\n",
       "      <td>-0.022232</td>\n",
       "      <td>-0.044952</td>\n",
       "      <td>1.000000</td>\n",
       "      <td>-0.501905</td>\n",
       "      <td>-0.090798</td>\n",
       "      <td>-0.022232</td>\n",
       "      <td>0.231847</td>\n",
       "    </tr>\n",
       "    <tr>\n",
       "      <th>cylindernumber_four</th>\n",
       "      <td>-0.242538</td>\n",
       "      <td>-0.561028</td>\n",
       "      <td>0.073127</td>\n",
       "      <td>-0.162416</td>\n",
       "      <td>-0.328395</td>\n",
       "      <td>-0.501905</td>\n",
       "      <td>1.000000</td>\n",
       "      <td>-0.663325</td>\n",
       "      <td>-0.162416</td>\n",
       "      <td>-0.461935</td>\n",
       "    </tr>\n",
       "    <tr>\n",
       "      <th>cylindernumber_six</th>\n",
       "      <td>0.187420</td>\n",
       "      <td>0.563321</td>\n",
       "      <td>-0.016169</td>\n",
       "      <td>0.244851</td>\n",
       "      <td>-0.059409</td>\n",
       "      <td>-0.090798</td>\n",
       "      <td>-0.663325</td>\n",
       "      <td>1.000000</td>\n",
       "      <td>-0.029382</td>\n",
       "      <td>0.388909</td>\n",
       "    </tr>\n",
       "    <tr>\n",
       "      <th>cylindernumber_three</th>\n",
       "      <td>-0.148852</td>\n",
       "      <td>-0.131546</td>\n",
       "      <td>-0.035631</td>\n",
       "      <td>-0.007194</td>\n",
       "      <td>-0.014546</td>\n",
       "      <td>-0.022232</td>\n",
       "      <td>-0.162416</td>\n",
       "      <td>-0.029382</td>\n",
       "      <td>1.000000</td>\n",
       "      <td>-0.025970</td>\n",
       "    </tr>\n",
       "    <tr>\n",
       "      <th>companycat_top</th>\n",
       "      <td>0.278287</td>\n",
       "      <td>0.383827</td>\n",
       "      <td>-0.057166</td>\n",
       "      <td>0.277017</td>\n",
       "      <td>-0.052511</td>\n",
       "      <td>0.231847</td>\n",
       "      <td>-0.461935</td>\n",
       "      <td>0.388909</td>\n",
       "      <td>-0.025970</td>\n",
       "      <td>1.000000</td>\n",
       "    </tr>\n",
       "  </tbody>\n",
       "</table>\n",
       "</div>"
      ],
      "text/plain": [
       "                      wheelbase  horsepower  carbody_wagon  \\\n",
       "wheelbase              1.000000    0.336564       0.270027   \n",
       "horsepower             0.336564    1.000000      -0.079282   \n",
       "carbody_wagon          0.270027   -0.079282       1.000000   \n",
       "enginelocation_rear   -0.132483    0.273687      -0.035631   \n",
       "enginetype_rotor      -0.093360    0.050943      -0.072044   \n",
       "cylindernumber_five    0.293155    0.190310      -0.028547   \n",
       "cylindernumber_four   -0.242538   -0.561028       0.073127   \n",
       "cylindernumber_six     0.187420    0.563321      -0.016169   \n",
       "cylindernumber_three  -0.148852   -0.131546      -0.035631   \n",
       "companycat_top         0.278287    0.383827      -0.057166   \n",
       "\n",
       "                      enginelocation_rear  enginetype_rotor  \\\n",
       "wheelbase                       -0.132483         -0.093360   \n",
       "horsepower                       0.273687          0.050943   \n",
       "carbody_wagon                   -0.035631         -0.072044   \n",
       "enginelocation_rear              1.000000         -0.014546   \n",
       "enginetype_rotor                -0.014546          1.000000   \n",
       "cylindernumber_five             -0.022232         -0.044952   \n",
       "cylindernumber_four             -0.162416         -0.328395   \n",
       "cylindernumber_six               0.244851         -0.059409   \n",
       "cylindernumber_three            -0.007194         -0.014546   \n",
       "companycat_top                   0.277017         -0.052511   \n",
       "\n",
       "                      cylindernumber_five  cylindernumber_four  \\\n",
       "wheelbase                        0.293155            -0.242538   \n",
       "horsepower                       0.190310            -0.561028   \n",
       "carbody_wagon                   -0.028547             0.073127   \n",
       "enginelocation_rear             -0.022232            -0.162416   \n",
       "enginetype_rotor                -0.044952            -0.328395   \n",
       "cylindernumber_five              1.000000            -0.501905   \n",
       "cylindernumber_four             -0.501905             1.000000   \n",
       "cylindernumber_six              -0.090798            -0.663325   \n",
       "cylindernumber_three            -0.022232            -0.162416   \n",
       "companycat_top                   0.231847            -0.461935   \n",
       "\n",
       "                      cylindernumber_six  cylindernumber_three  companycat_top  \n",
       "wheelbase                       0.187420             -0.148852        0.278287  \n",
       "horsepower                      0.563321             -0.131546        0.383827  \n",
       "carbody_wagon                  -0.016169             -0.035631       -0.057166  \n",
       "enginelocation_rear             0.244851             -0.007194        0.277017  \n",
       "enginetype_rotor               -0.059409             -0.014546       -0.052511  \n",
       "cylindernumber_five            -0.090798             -0.022232        0.231847  \n",
       "cylindernumber_four            -0.663325             -0.162416       -0.461935  \n",
       "cylindernumber_six              1.000000             -0.029382        0.388909  \n",
       "cylindernumber_three           -0.029382              1.000000       -0.025970  \n",
       "companycat_top                  0.388909             -0.025970        1.000000  "
      ]
     },
     "execution_count": 81,
     "metadata": {},
     "output_type": "execute_result"
    }
   ],
   "source": [
    "## check which feature has more correlation with wheelbase\n",
    "X_train_rfe.corr()\n"
   ]
  },
  {
   "cell_type": "code",
   "execution_count": 82,
   "metadata": {},
   "outputs": [
    {
     "data": {
      "text/html": [
       "<table class=\"simpletable\">\n",
       "<caption>OLS Regression Results</caption>\n",
       "<tr>\n",
       "  <th>Dep. Variable:</th>          <td>price</td>      <th>  R-squared:         </th> <td>   0.914</td>\n",
       "</tr>\n",
       "<tr>\n",
       "  <th>Model:</th>                   <td>OLS</td>       <th>  Adj. R-squared:    </th> <td>   0.908</td>\n",
       "</tr>\n",
       "<tr>\n",
       "  <th>Method:</th>             <td>Least Squares</td>  <th>  F-statistic:       </th> <td>   152.6</td>\n",
       "</tr>\n",
       "<tr>\n",
       "  <th>Date:</th>             <td>Mon, 10 Aug 2020</td> <th>  Prob (F-statistic):</th> <td>1.23e-64</td>\n",
       "</tr>\n",
       "<tr>\n",
       "  <th>Time:</th>                 <td>16:48:44</td>     <th>  Log-Likelihood:    </th> <td>  193.48</td>\n",
       "</tr>\n",
       "<tr>\n",
       "  <th>No. Observations:</th>      <td>   140</td>      <th>  AIC:               </th> <td>  -367.0</td>\n",
       "</tr>\n",
       "<tr>\n",
       "  <th>Df Residuals:</th>          <td>   130</td>      <th>  BIC:               </th> <td>  -337.5</td>\n",
       "</tr>\n",
       "<tr>\n",
       "  <th>Df Model:</th>              <td>     9</td>      <th>                     </th>     <td> </td>   \n",
       "</tr>\n",
       "<tr>\n",
       "  <th>Covariance Type:</th>      <td>nonrobust</td>    <th>                     </th>     <td> </td>   \n",
       "</tr>\n",
       "</table>\n",
       "<table class=\"simpletable\">\n",
       "<tr>\n",
       "            <td></td>              <th>coef</th>     <th>std err</th>      <th>t</th>      <th>P>|t|</th>  <th>[0.025</th>    <th>0.975]</th>  \n",
       "</tr>\n",
       "<tr>\n",
       "  <th>const</th>                <td>    0.0363</td> <td>    0.030</td> <td>    1.199</td> <td> 0.233</td> <td>   -0.024</td> <td>    0.096</td>\n",
       "</tr>\n",
       "<tr>\n",
       "  <th>wheelbase</th>            <td>    0.3411</td> <td>    0.033</td> <td>   10.275</td> <td> 0.000</td> <td>    0.275</td> <td>    0.407</td>\n",
       "</tr>\n",
       "<tr>\n",
       "  <th>horsepower</th>           <td>    0.4292</td> <td>    0.035</td> <td>   12.108</td> <td> 0.000</td> <td>    0.359</td> <td>    0.499</td>\n",
       "</tr>\n",
       "<tr>\n",
       "  <th>carbody_wagon</th>        <td>   -0.0380</td> <td>    0.016</td> <td>   -2.378</td> <td> 0.019</td> <td>   -0.070</td> <td>   -0.006</td>\n",
       "</tr>\n",
       "<tr>\n",
       "  <th>enginelocation_rear</th>  <td>    0.1661</td> <td>    0.071</td> <td>    2.345</td> <td> 0.021</td> <td>    0.026</td> <td>    0.306</td>\n",
       "</tr>\n",
       "<tr>\n",
       "  <th>enginetype_rotor</th>     <td>   -0.0567</td> <td>    0.039</td> <td>   -1.448</td> <td> 0.150</td> <td>   -0.134</td> <td>    0.021</td>\n",
       "</tr>\n",
       "<tr>\n",
       "  <th>cylindernumber_four</th>  <td>   -0.1193</td> <td>    0.024</td> <td>   -4.967</td> <td> 0.000</td> <td>   -0.167</td> <td>   -0.072</td>\n",
       "</tr>\n",
       "<tr>\n",
       "  <th>cylindernumber_six</th>   <td>   -0.0733</td> <td>    0.027</td> <td>   -2.734</td> <td> 0.007</td> <td>   -0.126</td> <td>   -0.020</td>\n",
       "</tr>\n",
       "<tr>\n",
       "  <th>cylindernumber_three</th> <td>   -0.0575</td> <td>    0.070</td> <td>   -0.826</td> <td> 0.410</td> <td>   -0.195</td> <td>    0.080</td>\n",
       "</tr>\n",
       "<tr>\n",
       "  <th>companycat_top</th>       <td>    0.2704</td> <td>    0.023</td> <td>   11.554</td> <td> 0.000</td> <td>    0.224</td> <td>    0.317</td>\n",
       "</tr>\n",
       "</table>\n",
       "<table class=\"simpletable\">\n",
       "<tr>\n",
       "  <th>Omnibus:</th>       <td>16.779</td> <th>  Durbin-Watson:     </th> <td>   2.105</td>\n",
       "</tr>\n",
       "<tr>\n",
       "  <th>Prob(Omnibus):</th> <td> 0.000</td> <th>  Jarque-Bera (JB):  </th> <td>  22.537</td>\n",
       "</tr>\n",
       "<tr>\n",
       "  <th>Skew:</th>          <td> 0.679</td> <th>  Prob(JB):          </th> <td>1.28e-05</td>\n",
       "</tr>\n",
       "<tr>\n",
       "  <th>Kurtosis:</th>      <td> 4.421</td> <th>  Cond. No.          </th> <td>    19.8</td>\n",
       "</tr>\n",
       "</table><br/><br/>Warnings:<br/>[1] Standard Errors assume that the covariance matrix of the errors is correctly specified."
      ],
      "text/plain": [
       "<class 'statsmodels.iolib.summary.Summary'>\n",
       "\"\"\"\n",
       "                            OLS Regression Results                            \n",
       "==============================================================================\n",
       "Dep. Variable:                  price   R-squared:                       0.914\n",
       "Model:                            OLS   Adj. R-squared:                  0.908\n",
       "Method:                 Least Squares   F-statistic:                     152.6\n",
       "Date:                Mon, 10 Aug 2020   Prob (F-statistic):           1.23e-64\n",
       "Time:                        16:48:44   Log-Likelihood:                 193.48\n",
       "No. Observations:                 140   AIC:                            -367.0\n",
       "Df Residuals:                     130   BIC:                            -337.5\n",
       "Df Model:                           9                                         \n",
       "Covariance Type:            nonrobust                                         \n",
       "========================================================================================\n",
       "                           coef    std err          t      P>|t|      [0.025      0.975]\n",
       "----------------------------------------------------------------------------------------\n",
       "const                    0.0363      0.030      1.199      0.233      -0.024       0.096\n",
       "wheelbase                0.3411      0.033     10.275      0.000       0.275       0.407\n",
       "horsepower               0.4292      0.035     12.108      0.000       0.359       0.499\n",
       "carbody_wagon           -0.0380      0.016     -2.378      0.019      -0.070      -0.006\n",
       "enginelocation_rear      0.1661      0.071      2.345      0.021       0.026       0.306\n",
       "enginetype_rotor        -0.0567      0.039     -1.448      0.150      -0.134       0.021\n",
       "cylindernumber_four     -0.1193      0.024     -4.967      0.000      -0.167      -0.072\n",
       "cylindernumber_six      -0.0733      0.027     -2.734      0.007      -0.126      -0.020\n",
       "cylindernumber_three    -0.0575      0.070     -0.826      0.410      -0.195       0.080\n",
       "companycat_top           0.2704      0.023     11.554      0.000       0.224       0.317\n",
       "==============================================================================\n",
       "Omnibus:                       16.779   Durbin-Watson:                   2.105\n",
       "Prob(Omnibus):                  0.000   Jarque-Bera (JB):               22.537\n",
       "Skew:                           0.679   Prob(JB):                     1.28e-05\n",
       "Kurtosis:                       4.421   Cond. No.                         19.8\n",
       "==============================================================================\n",
       "\n",
       "Warnings:\n",
       "[1] Standard Errors assume that the covariance matrix of the errors is correctly specified.\n",
       "\"\"\""
      ]
     },
     "execution_count": 82,
     "metadata": {},
     "output_type": "execute_result"
    }
   ],
   "source": [
    "##choosing cylindernumber_five which is less popular and have descent correlation with wheelbase\n",
    "X_train_rfe = X_train_rfe.drop('cylindernumber_five',axis=1)\n",
    "X_train_sm = sm.add_constant(X_train_rfe)\n",
    "ml = sm.OLS(y_train,X_train_sm).fit()\n",
    "ml.summary()"
   ]
  },
  {
   "cell_type": "code",
   "execution_count": 83,
   "metadata": {},
   "outputs": [
    {
     "data": {
      "text/html": [
       "<table class=\"simpletable\">\n",
       "<caption>OLS Regression Results</caption>\n",
       "<tr>\n",
       "  <th>Dep. Variable:</th>          <td>price</td>      <th>  R-squared:         </th> <td>   0.913</td>\n",
       "</tr>\n",
       "<tr>\n",
       "  <th>Model:</th>                   <td>OLS</td>       <th>  Adj. R-squared:    </th> <td>   0.908</td>\n",
       "</tr>\n",
       "<tr>\n",
       "  <th>Method:</th>             <td>Least Squares</td>  <th>  F-statistic:       </th> <td>   172.0</td>\n",
       "</tr>\n",
       "<tr>\n",
       "  <th>Date:</th>             <td>Mon, 10 Aug 2020</td> <th>  Prob (F-statistic):</th> <td>1.28e-65</td>\n",
       "</tr>\n",
       "<tr>\n",
       "  <th>Time:</th>                 <td>16:48:44</td>     <th>  Log-Likelihood:    </th> <td>  193.11</td>\n",
       "</tr>\n",
       "<tr>\n",
       "  <th>No. Observations:</th>      <td>   140</td>      <th>  AIC:               </th> <td>  -368.2</td>\n",
       "</tr>\n",
       "<tr>\n",
       "  <th>Df Residuals:</th>          <td>   131</td>      <th>  BIC:               </th> <td>  -341.7</td>\n",
       "</tr>\n",
       "<tr>\n",
       "  <th>Df Model:</th>              <td>     8</td>      <th>                     </th>     <td> </td>   \n",
       "</tr>\n",
       "<tr>\n",
       "  <th>Covariance Type:</th>      <td>nonrobust</td>    <th>                     </th>     <td> </td>   \n",
       "</tr>\n",
       "</table>\n",
       "<table class=\"simpletable\">\n",
       "<tr>\n",
       "           <td></td>              <th>coef</th>     <th>std err</th>      <th>t</th>      <th>P>|t|</th>  <th>[0.025</th>    <th>0.975]</th>  \n",
       "</tr>\n",
       "<tr>\n",
       "  <th>const</th>               <td>    0.0257</td> <td>    0.027</td> <td>    0.939</td> <td> 0.349</td> <td>   -0.029</td> <td>    0.080</td>\n",
       "</tr>\n",
       "<tr>\n",
       "  <th>wheelbase</th>           <td>    0.3453</td> <td>    0.033</td> <td>   10.539</td> <td> 0.000</td> <td>    0.281</td> <td>    0.410</td>\n",
       "</tr>\n",
       "<tr>\n",
       "  <th>horsepower</th>          <td>    0.4346</td> <td>    0.035</td> <td>   12.494</td> <td> 0.000</td> <td>    0.366</td> <td>    0.503</td>\n",
       "</tr>\n",
       "<tr>\n",
       "  <th>carbody_wagon</th>       <td>   -0.0381</td> <td>    0.016</td> <td>   -2.391</td> <td> 0.018</td> <td>   -0.070</td> <td>   -0.007</td>\n",
       "</tr>\n",
       "<tr>\n",
       "  <th>enginelocation_rear</th> <td>    0.1649</td> <td>    0.071</td> <td>    2.332</td> <td> 0.021</td> <td>    0.025</td> <td>    0.305</td>\n",
       "</tr>\n",
       "<tr>\n",
       "  <th>enginetype_rotor</th>    <td>   -0.0495</td> <td>    0.038</td> <td>   -1.298</td> <td> 0.197</td> <td>   -0.125</td> <td>    0.026</td>\n",
       "</tr>\n",
       "<tr>\n",
       "  <th>cylindernumber_four</th> <td>   -0.1118</td> <td>    0.022</td> <td>   -5.037</td> <td> 0.000</td> <td>   -0.156</td> <td>   -0.068</td>\n",
       "</tr>\n",
       "<tr>\n",
       "  <th>cylindernumber_six</th>  <td>   -0.0691</td> <td>    0.026</td> <td>   -2.627</td> <td> 0.010</td> <td>   -0.121</td> <td>   -0.017</td>\n",
       "</tr>\n",
       "<tr>\n",
       "  <th>companycat_top</th>      <td>    0.2721</td> <td>    0.023</td> <td>   11.682</td> <td> 0.000</td> <td>    0.226</td> <td>    0.318</td>\n",
       "</tr>\n",
       "</table>\n",
       "<table class=\"simpletable\">\n",
       "<tr>\n",
       "  <th>Omnibus:</th>       <td>17.029</td> <th>  Durbin-Watson:     </th> <td>   2.093</td>\n",
       "</tr>\n",
       "<tr>\n",
       "  <th>Prob(Omnibus):</th> <td> 0.000</td> <th>  Jarque-Bera (JB):  </th> <td>  23.165</td>\n",
       "</tr>\n",
       "<tr>\n",
       "  <th>Skew:</th>          <td> 0.682</td> <th>  Prob(JB):          </th> <td>9.33e-06</td>\n",
       "</tr>\n",
       "<tr>\n",
       "  <th>Kurtosis:</th>      <td> 4.453</td> <th>  Cond. No.          </th> <td>    19.1</td>\n",
       "</tr>\n",
       "</table><br/><br/>Warnings:<br/>[1] Standard Errors assume that the covariance matrix of the errors is correctly specified."
      ],
      "text/plain": [
       "<class 'statsmodels.iolib.summary.Summary'>\n",
       "\"\"\"\n",
       "                            OLS Regression Results                            \n",
       "==============================================================================\n",
       "Dep. Variable:                  price   R-squared:                       0.913\n",
       "Model:                            OLS   Adj. R-squared:                  0.908\n",
       "Method:                 Least Squares   F-statistic:                     172.0\n",
       "Date:                Mon, 10 Aug 2020   Prob (F-statistic):           1.28e-65\n",
       "Time:                        16:48:44   Log-Likelihood:                 193.11\n",
       "No. Observations:                 140   AIC:                            -368.2\n",
       "Df Residuals:                     131   BIC:                            -341.7\n",
       "Df Model:                           8                                         \n",
       "Covariance Type:            nonrobust                                         \n",
       "=======================================================================================\n",
       "                          coef    std err          t      P>|t|      [0.025      0.975]\n",
       "---------------------------------------------------------------------------------------\n",
       "const                   0.0257      0.027      0.939      0.349      -0.029       0.080\n",
       "wheelbase               0.3453      0.033     10.539      0.000       0.281       0.410\n",
       "horsepower              0.4346      0.035     12.494      0.000       0.366       0.503\n",
       "carbody_wagon          -0.0381      0.016     -2.391      0.018      -0.070      -0.007\n",
       "enginelocation_rear     0.1649      0.071      2.332      0.021       0.025       0.305\n",
       "enginetype_rotor       -0.0495      0.038     -1.298      0.197      -0.125       0.026\n",
       "cylindernumber_four    -0.1118      0.022     -5.037      0.000      -0.156      -0.068\n",
       "cylindernumber_six     -0.0691      0.026     -2.627      0.010      -0.121      -0.017\n",
       "companycat_top          0.2721      0.023     11.682      0.000       0.226       0.318\n",
       "==============================================================================\n",
       "Omnibus:                       17.029   Durbin-Watson:                   2.093\n",
       "Prob(Omnibus):                  0.000   Jarque-Bera (JB):               23.165\n",
       "Skew:                           0.682   Prob(JB):                     9.33e-06\n",
       "Kurtosis:                       4.453   Cond. No.                         19.1\n",
       "==============================================================================\n",
       "\n",
       "Warnings:\n",
       "[1] Standard Errors assume that the covariance matrix of the errors is correctly specified.\n",
       "\"\"\""
      ]
     },
     "execution_count": 83,
     "metadata": {},
     "output_type": "execute_result"
    }
   ],
   "source": [
    "##high p\n",
    "X_train_rfe = X_train_rfe.drop('cylindernumber_three',axis=1)\n",
    "X_train_sm = sm.add_constant(X_train_rfe)\n",
    "ml = sm.OLS(y_train,X_train_sm).fit()\n",
    "ml.summary()"
   ]
  },
  {
   "cell_type": "code",
   "execution_count": null,
   "metadata": {},
   "outputs": [],
   "source": []
  },
  {
   "cell_type": "code",
   "execution_count": 84,
   "metadata": {},
   "outputs": [
    {
     "data": {
      "text/html": [
       "<div>\n",
       "<style scoped>\n",
       "    .dataframe tbody tr th:only-of-type {\n",
       "        vertical-align: middle;\n",
       "    }\n",
       "\n",
       "    .dataframe tbody tr th {\n",
       "        vertical-align: top;\n",
       "    }\n",
       "\n",
       "    .dataframe thead th {\n",
       "        text-align: right;\n",
       "    }\n",
       "</style>\n",
       "<table border=\"1\" class=\"dataframe\">\n",
       "  <thead>\n",
       "    <tr style=\"text-align: right;\">\n",
       "      <th></th>\n",
       "      <th>features</th>\n",
       "      <th>RFE</th>\n",
       "    </tr>\n",
       "  </thead>\n",
       "  <tbody>\n",
       "    <tr>\n",
       "      <th>0</th>\n",
       "      <td>wheelbase</td>\n",
       "      <td>6.52</td>\n",
       "    </tr>\n",
       "    <tr>\n",
       "      <th>1</th>\n",
       "      <td>horsepower</td>\n",
       "      <td>5.50</td>\n",
       "    </tr>\n",
       "    <tr>\n",
       "      <th>5</th>\n",
       "      <td>cylindernumber_four</td>\n",
       "      <td>3.52</td>\n",
       "    </tr>\n",
       "    <tr>\n",
       "      <th>6</th>\n",
       "      <td>cylindernumber_six</td>\n",
       "      <td>2.17</td>\n",
       "    </tr>\n",
       "    <tr>\n",
       "      <th>7</th>\n",
       "      <td>companycat_top</td>\n",
       "      <td>1.60</td>\n",
       "    </tr>\n",
       "    <tr>\n",
       "      <th>2</th>\n",
       "      <td>carbody_wagon</td>\n",
       "      <td>1.34</td>\n",
       "    </tr>\n",
       "    <tr>\n",
       "      <th>3</th>\n",
       "      <td>enginelocation_rear</td>\n",
       "      <td>1.26</td>\n",
       "    </tr>\n",
       "    <tr>\n",
       "      <th>4</th>\n",
       "      <td>enginetype_rotor</td>\n",
       "      <td>1.12</td>\n",
       "    </tr>\n",
       "  </tbody>\n",
       "</table>\n",
       "</div>"
      ],
      "text/plain": [
       "              features   RFE\n",
       "0            wheelbase  6.52\n",
       "1           horsepower  5.50\n",
       "5  cylindernumber_four  3.52\n",
       "6   cylindernumber_six  2.17\n",
       "7       companycat_top  1.60\n",
       "2        carbody_wagon  1.34\n",
       "3  enginelocation_rear  1.26\n",
       "4     enginetype_rotor  1.12"
      ]
     },
     "execution_count": 84,
     "metadata": {},
     "output_type": "execute_result"
    }
   ],
   "source": [
    "X_train_new = X_train_sm.drop(['const'], axis=1)\n",
    "rfe = pd.DataFrame()\n",
    "rfe['features'] = X_train_new.columns\n",
    "rfe['RFE']=[variance_inflation_factor(X_train_new.values,i) for i in range(X_train_new.shape[1])]\n",
    "rfe['RFE'] = round(rfe['RFE'],2)\n",
    "rfe.sort_values(by='RFE',ascending=False,inplace=True)\n",
    "rfe"
   ]
  },
  {
   "cell_type": "code",
   "execution_count": 85,
   "metadata": {},
   "outputs": [
    {
     "data": {
      "text/html": [
       "<div>\n",
       "<style scoped>\n",
       "    .dataframe tbody tr th:only-of-type {\n",
       "        vertical-align: middle;\n",
       "    }\n",
       "\n",
       "    .dataframe tbody tr th {\n",
       "        vertical-align: top;\n",
       "    }\n",
       "\n",
       "    .dataframe thead th {\n",
       "        text-align: right;\n",
       "    }\n",
       "</style>\n",
       "<table border=\"1\" class=\"dataframe\">\n",
       "  <thead>\n",
       "    <tr style=\"text-align: right;\">\n",
       "      <th></th>\n",
       "      <th>wheelbase</th>\n",
       "      <th>horsepower</th>\n",
       "      <th>carbody_wagon</th>\n",
       "      <th>enginelocation_rear</th>\n",
       "      <th>enginetype_rotor</th>\n",
       "      <th>cylindernumber_four</th>\n",
       "      <th>cylindernumber_six</th>\n",
       "      <th>companycat_top</th>\n",
       "    </tr>\n",
       "  </thead>\n",
       "  <tbody>\n",
       "    <tr>\n",
       "      <th>wheelbase</th>\n",
       "      <td>1.000000</td>\n",
       "      <td>0.336564</td>\n",
       "      <td>0.270027</td>\n",
       "      <td>-0.132483</td>\n",
       "      <td>-0.093360</td>\n",
       "      <td>-0.242538</td>\n",
       "      <td>0.187420</td>\n",
       "      <td>0.278287</td>\n",
       "    </tr>\n",
       "    <tr>\n",
       "      <th>horsepower</th>\n",
       "      <td>0.336564</td>\n",
       "      <td>1.000000</td>\n",
       "      <td>-0.079282</td>\n",
       "      <td>0.273687</td>\n",
       "      <td>0.050943</td>\n",
       "      <td>-0.561028</td>\n",
       "      <td>0.563321</td>\n",
       "      <td>0.383827</td>\n",
       "    </tr>\n",
       "    <tr>\n",
       "      <th>carbody_wagon</th>\n",
       "      <td>0.270027</td>\n",
       "      <td>-0.079282</td>\n",
       "      <td>1.000000</td>\n",
       "      <td>-0.035631</td>\n",
       "      <td>-0.072044</td>\n",
       "      <td>0.073127</td>\n",
       "      <td>-0.016169</td>\n",
       "      <td>-0.057166</td>\n",
       "    </tr>\n",
       "    <tr>\n",
       "      <th>enginelocation_rear</th>\n",
       "      <td>-0.132483</td>\n",
       "      <td>0.273687</td>\n",
       "      <td>-0.035631</td>\n",
       "      <td>1.000000</td>\n",
       "      <td>-0.014546</td>\n",
       "      <td>-0.162416</td>\n",
       "      <td>0.244851</td>\n",
       "      <td>0.277017</td>\n",
       "    </tr>\n",
       "    <tr>\n",
       "      <th>enginetype_rotor</th>\n",
       "      <td>-0.093360</td>\n",
       "      <td>0.050943</td>\n",
       "      <td>-0.072044</td>\n",
       "      <td>-0.014546</td>\n",
       "      <td>1.000000</td>\n",
       "      <td>-0.328395</td>\n",
       "      <td>-0.059409</td>\n",
       "      <td>-0.052511</td>\n",
       "    </tr>\n",
       "    <tr>\n",
       "      <th>cylindernumber_four</th>\n",
       "      <td>-0.242538</td>\n",
       "      <td>-0.561028</td>\n",
       "      <td>0.073127</td>\n",
       "      <td>-0.162416</td>\n",
       "      <td>-0.328395</td>\n",
       "      <td>1.000000</td>\n",
       "      <td>-0.663325</td>\n",
       "      <td>-0.461935</td>\n",
       "    </tr>\n",
       "    <tr>\n",
       "      <th>cylindernumber_six</th>\n",
       "      <td>0.187420</td>\n",
       "      <td>0.563321</td>\n",
       "      <td>-0.016169</td>\n",
       "      <td>0.244851</td>\n",
       "      <td>-0.059409</td>\n",
       "      <td>-0.663325</td>\n",
       "      <td>1.000000</td>\n",
       "      <td>0.388909</td>\n",
       "    </tr>\n",
       "    <tr>\n",
       "      <th>companycat_top</th>\n",
       "      <td>0.278287</td>\n",
       "      <td>0.383827</td>\n",
       "      <td>-0.057166</td>\n",
       "      <td>0.277017</td>\n",
       "      <td>-0.052511</td>\n",
       "      <td>-0.461935</td>\n",
       "      <td>0.388909</td>\n",
       "      <td>1.000000</td>\n",
       "    </tr>\n",
       "  </tbody>\n",
       "</table>\n",
       "</div>"
      ],
      "text/plain": [
       "                     wheelbase  horsepower  carbody_wagon  \\\n",
       "wheelbase             1.000000    0.336564       0.270027   \n",
       "horsepower            0.336564    1.000000      -0.079282   \n",
       "carbody_wagon         0.270027   -0.079282       1.000000   \n",
       "enginelocation_rear  -0.132483    0.273687      -0.035631   \n",
       "enginetype_rotor     -0.093360    0.050943      -0.072044   \n",
       "cylindernumber_four  -0.242538   -0.561028       0.073127   \n",
       "cylindernumber_six    0.187420    0.563321      -0.016169   \n",
       "companycat_top        0.278287    0.383827      -0.057166   \n",
       "\n",
       "                     enginelocation_rear  enginetype_rotor  \\\n",
       "wheelbase                      -0.132483         -0.093360   \n",
       "horsepower                      0.273687          0.050943   \n",
       "carbody_wagon                  -0.035631         -0.072044   \n",
       "enginelocation_rear             1.000000         -0.014546   \n",
       "enginetype_rotor               -0.014546          1.000000   \n",
       "cylindernumber_four            -0.162416         -0.328395   \n",
       "cylindernumber_six              0.244851         -0.059409   \n",
       "companycat_top                  0.277017         -0.052511   \n",
       "\n",
       "                     cylindernumber_four  cylindernumber_six  companycat_top  \n",
       "wheelbase                      -0.242538            0.187420        0.278287  \n",
       "horsepower                     -0.561028            0.563321        0.383827  \n",
       "carbody_wagon                   0.073127           -0.016169       -0.057166  \n",
       "enginelocation_rear            -0.162416            0.244851        0.277017  \n",
       "enginetype_rotor               -0.328395           -0.059409       -0.052511  \n",
       "cylindernumber_four             1.000000           -0.663325       -0.461935  \n",
       "cylindernumber_six             -0.663325            1.000000        0.388909  \n",
       "companycat_top                 -0.461935            0.388909        1.000000  "
      ]
     },
     "execution_count": 85,
     "metadata": {},
     "output_type": "execute_result"
    }
   ],
   "source": [
    "##check which feature has correlation with wheelbase.. Need to reduce rfe and wheelbase is imp bz feature\n",
    "X_train_new.corr()"
   ]
  },
  {
   "cell_type": "code",
   "execution_count": 86,
   "metadata": {},
   "outputs": [
    {
     "data": {
      "text/html": [
       "<table class=\"simpletable\">\n",
       "<caption>OLS Regression Results</caption>\n",
       "<tr>\n",
       "  <th>Dep. Variable:</th>          <td>price</td>      <th>  R-squared:         </th> <td>   0.912</td>\n",
       "</tr>\n",
       "<tr>\n",
       "  <th>Model:</th>                   <td>OLS</td>       <th>  Adj. R-squared:    </th> <td>   0.907</td>\n",
       "</tr>\n",
       "<tr>\n",
       "  <th>Method:</th>             <td>Least Squares</td>  <th>  F-statistic:       </th> <td>   195.3</td>\n",
       "</tr>\n",
       "<tr>\n",
       "  <th>Date:</th>             <td>Mon, 10 Aug 2020</td> <th>  Prob (F-statistic):</th> <td>2.02e-66</td>\n",
       "</tr>\n",
       "<tr>\n",
       "  <th>Time:</th>                 <td>16:48:44</td>     <th>  Log-Likelihood:    </th> <td>  192.22</td>\n",
       "</tr>\n",
       "<tr>\n",
       "  <th>No. Observations:</th>      <td>   140</td>      <th>  AIC:               </th> <td>  -368.4</td>\n",
       "</tr>\n",
       "<tr>\n",
       "  <th>Df Residuals:</th>          <td>   132</td>      <th>  BIC:               </th> <td>  -344.9</td>\n",
       "</tr>\n",
       "<tr>\n",
       "  <th>Df Model:</th>              <td>     7</td>      <th>                     </th>     <td> </td>   \n",
       "</tr>\n",
       "<tr>\n",
       "  <th>Covariance Type:</th>      <td>nonrobust</td>    <th>                     </th>     <td> </td>   \n",
       "</tr>\n",
       "</table>\n",
       "<table class=\"simpletable\">\n",
       "<tr>\n",
       "           <td></td>              <th>coef</th>     <th>std err</th>      <th>t</th>      <th>P>|t|</th>  <th>[0.025</th>    <th>0.975]</th>  \n",
       "</tr>\n",
       "<tr>\n",
       "  <th>const</th>               <td>    0.0084</td> <td>    0.024</td> <td>    0.351</td> <td> 0.726</td> <td>   -0.039</td> <td>    0.056</td>\n",
       "</tr>\n",
       "<tr>\n",
       "  <th>wheelbase</th>           <td>    0.3512</td> <td>    0.033</td> <td>   10.791</td> <td> 0.000</td> <td>    0.287</td> <td>    0.416</td>\n",
       "</tr>\n",
       "<tr>\n",
       "  <th>horsepower</th>          <td>    0.4343</td> <td>    0.035</td> <td>   12.453</td> <td> 0.000</td> <td>    0.365</td> <td>    0.503</td>\n",
       "</tr>\n",
       "<tr>\n",
       "  <th>carbody_wagon</th>       <td>   -0.0382</td> <td>    0.016</td> <td>   -2.389</td> <td> 0.018</td> <td>   -0.070</td> <td>   -0.007</td>\n",
       "</tr>\n",
       "<tr>\n",
       "  <th>enginelocation_rear</th> <td>    0.1641</td> <td>    0.071</td> <td>    2.315</td> <td> 0.022</td> <td>    0.024</td> <td>    0.304</td>\n",
       "</tr>\n",
       "<tr>\n",
       "  <th>cylindernumber_four</th> <td>   -0.0967</td> <td>    0.019</td> <td>   -5.101</td> <td> 0.000</td> <td>   -0.134</td> <td>   -0.059</td>\n",
       "</tr>\n",
       "<tr>\n",
       "  <th>cylindernumber_six</th>  <td>   -0.0566</td> <td>    0.025</td> <td>   -2.307</td> <td> 0.023</td> <td>   -0.105</td> <td>   -0.008</td>\n",
       "</tr>\n",
       "<tr>\n",
       "  <th>companycat_top</th>      <td>    0.2775</td> <td>    0.023</td> <td>   12.081</td> <td> 0.000</td> <td>    0.232</td> <td>    0.323</td>\n",
       "</tr>\n",
       "</table>\n",
       "<table class=\"simpletable\">\n",
       "<tr>\n",
       "  <th>Omnibus:</th>       <td>18.840</td> <th>  Durbin-Watson:     </th> <td>   2.070</td>\n",
       "</tr>\n",
       "<tr>\n",
       "  <th>Prob(Omnibus):</th> <td> 0.000</td> <th>  Jarque-Bera (JB):  </th> <td>  27.488</td>\n",
       "</tr>\n",
       "<tr>\n",
       "  <th>Skew:</th>          <td> 0.713</td> <th>  Prob(JB):          </th> <td>1.07e-06</td>\n",
       "</tr>\n",
       "<tr>\n",
       "  <th>Kurtosis:</th>      <td> 4.637</td> <th>  Cond. No.          </th> <td>    19.1</td>\n",
       "</tr>\n",
       "</table><br/><br/>Warnings:<br/>[1] Standard Errors assume that the covariance matrix of the errors is correctly specified."
      ],
      "text/plain": [
       "<class 'statsmodels.iolib.summary.Summary'>\n",
       "\"\"\"\n",
       "                            OLS Regression Results                            \n",
       "==============================================================================\n",
       "Dep. Variable:                  price   R-squared:                       0.912\n",
       "Model:                            OLS   Adj. R-squared:                  0.907\n",
       "Method:                 Least Squares   F-statistic:                     195.3\n",
       "Date:                Mon, 10 Aug 2020   Prob (F-statistic):           2.02e-66\n",
       "Time:                        16:48:44   Log-Likelihood:                 192.22\n",
       "No. Observations:                 140   AIC:                            -368.4\n",
       "Df Residuals:                     132   BIC:                            -344.9\n",
       "Df Model:                           7                                         \n",
       "Covariance Type:            nonrobust                                         \n",
       "=======================================================================================\n",
       "                          coef    std err          t      P>|t|      [0.025      0.975]\n",
       "---------------------------------------------------------------------------------------\n",
       "const                   0.0084      0.024      0.351      0.726      -0.039       0.056\n",
       "wheelbase               0.3512      0.033     10.791      0.000       0.287       0.416\n",
       "horsepower              0.4343      0.035     12.453      0.000       0.365       0.503\n",
       "carbody_wagon          -0.0382      0.016     -2.389      0.018      -0.070      -0.007\n",
       "enginelocation_rear     0.1641      0.071      2.315      0.022       0.024       0.304\n",
       "cylindernumber_four    -0.0967      0.019     -5.101      0.000      -0.134      -0.059\n",
       "cylindernumber_six     -0.0566      0.025     -2.307      0.023      -0.105      -0.008\n",
       "companycat_top          0.2775      0.023     12.081      0.000       0.232       0.323\n",
       "==============================================================================\n",
       "Omnibus:                       18.840   Durbin-Watson:                   2.070\n",
       "Prob(Omnibus):                  0.000   Jarque-Bera (JB):               27.488\n",
       "Skew:                           0.713   Prob(JB):                     1.07e-06\n",
       "Kurtosis:                       4.637   Cond. No.                         19.1\n",
       "==============================================================================\n",
       "\n",
       "Warnings:\n",
       "[1] Standard Errors assume that the covariance matrix of the errors is correctly specified.\n",
       "\"\"\""
      ]
     },
     "execution_count": 86,
     "metadata": {},
     "output_type": "execute_result"
    }
   ],
   "source": [
    "##high p value and small co-efficient and only 4 samples per EDA\n",
    "X_train_rfe = X_train_rfe.drop('enginetype_rotor',axis=1)\n",
    "X_train_sm = sm.add_constant(X_train_rfe)\n",
    "ml = sm.OLS(y_train,X_train_sm).fit()\n",
    "ml.summary()"
   ]
  },
  {
   "cell_type": "code",
   "execution_count": 87,
   "metadata": {},
   "outputs": [
    {
     "data": {
      "text/html": [
       "<div>\n",
       "<style scoped>\n",
       "    .dataframe tbody tr th:only-of-type {\n",
       "        vertical-align: middle;\n",
       "    }\n",
       "\n",
       "    .dataframe tbody tr th {\n",
       "        vertical-align: top;\n",
       "    }\n",
       "\n",
       "    .dataframe thead th {\n",
       "        text-align: right;\n",
       "    }\n",
       "</style>\n",
       "<table border=\"1\" class=\"dataframe\">\n",
       "  <thead>\n",
       "    <tr style=\"text-align: right;\">\n",
       "      <th></th>\n",
       "      <th>features</th>\n",
       "      <th>RFE</th>\n",
       "    </tr>\n",
       "  </thead>\n",
       "  <tbody>\n",
       "    <tr>\n",
       "      <th>0</th>\n",
       "      <td>wheelbase</td>\n",
       "      <td>6.49</td>\n",
       "    </tr>\n",
       "    <tr>\n",
       "      <th>1</th>\n",
       "      <td>horsepower</td>\n",
       "      <td>5.21</td>\n",
       "    </tr>\n",
       "    <tr>\n",
       "      <th>4</th>\n",
       "      <td>cylindernumber_four</td>\n",
       "      <td>3.32</td>\n",
       "    </tr>\n",
       "    <tr>\n",
       "      <th>5</th>\n",
       "      <td>cylindernumber_six</td>\n",
       "      <td>2.08</td>\n",
       "    </tr>\n",
       "    <tr>\n",
       "      <th>6</th>\n",
       "      <td>companycat_top</td>\n",
       "      <td>1.58</td>\n",
       "    </tr>\n",
       "    <tr>\n",
       "      <th>2</th>\n",
       "      <td>carbody_wagon</td>\n",
       "      <td>1.34</td>\n",
       "    </tr>\n",
       "    <tr>\n",
       "      <th>3</th>\n",
       "      <td>enginelocation_rear</td>\n",
       "      <td>1.26</td>\n",
       "    </tr>\n",
       "  </tbody>\n",
       "</table>\n",
       "</div>"
      ],
      "text/plain": [
       "              features   RFE\n",
       "0            wheelbase  6.49\n",
       "1           horsepower  5.21\n",
       "4  cylindernumber_four  3.32\n",
       "5   cylindernumber_six  2.08\n",
       "6       companycat_top  1.58\n",
       "2        carbody_wagon  1.34\n",
       "3  enginelocation_rear  1.26"
      ]
     },
     "execution_count": 87,
     "metadata": {},
     "output_type": "execute_result"
    }
   ],
   "source": [
    "X_train_new = X_train_sm.drop(['const'], axis=1)\n",
    "rfe = pd.DataFrame()\n",
    "rfe['features'] = X_train_new.columns\n",
    "rfe['RFE']=[variance_inflation_factor(X_train_new.values,i) for i in range(X_train_new.shape[1])]\n",
    "rfe['RFE'] = round(rfe['RFE'],2)\n",
    "rfe.sort_values(by='RFE',ascending=False,inplace=True)\n",
    "rfe"
   ]
  },
  {
   "cell_type": "code",
   "execution_count": 88,
   "metadata": {},
   "outputs": [
    {
     "data": {
      "text/html": [
       "<table class=\"simpletable\">\n",
       "<caption>OLS Regression Results</caption>\n",
       "<tr>\n",
       "  <th>Dep. Variable:</th>          <td>price</td>      <th>  R-squared:         </th> <td>   0.908</td>\n",
       "</tr>\n",
       "<tr>\n",
       "  <th>Model:</th>                   <td>OLS</td>       <th>  Adj. R-squared:    </th> <td>   0.904</td>\n",
       "</tr>\n",
       "<tr>\n",
       "  <th>Method:</th>             <td>Least Squares</td>  <th>  F-statistic:       </th> <td>   219.2</td>\n",
       "</tr>\n",
       "<tr>\n",
       "  <th>Date:</th>             <td>Mon, 10 Aug 2020</td> <th>  Prob (F-statistic):</th> <td>2.12e-66</td>\n",
       "</tr>\n",
       "<tr>\n",
       "  <th>Time:</th>                 <td>16:48:44</td>     <th>  Log-Likelihood:    </th> <td>  189.25</td>\n",
       "</tr>\n",
       "<tr>\n",
       "  <th>No. Observations:</th>      <td>   140</td>      <th>  AIC:               </th> <td>  -364.5</td>\n",
       "</tr>\n",
       "<tr>\n",
       "  <th>Df Residuals:</th>          <td>   133</td>      <th>  BIC:               </th> <td>  -343.9</td>\n",
       "</tr>\n",
       "<tr>\n",
       "  <th>Df Model:</th>              <td>     6</td>      <th>                     </th>     <td> </td>   \n",
       "</tr>\n",
       "<tr>\n",
       "  <th>Covariance Type:</th>      <td>nonrobust</td>    <th>                     </th>     <td> </td>   \n",
       "</tr>\n",
       "</table>\n",
       "<table class=\"simpletable\">\n",
       "<tr>\n",
       "           <td></td>              <th>coef</th>     <th>std err</th>      <th>t</th>      <th>P>|t|</th>  <th>[0.025</th>    <th>0.975]</th>  \n",
       "</tr>\n",
       "<tr>\n",
       "  <th>const</th>               <td>    0.0116</td> <td>    0.024</td> <td>    0.474</td> <td> 0.636</td> <td>   -0.037</td> <td>    0.060</td>\n",
       "</tr>\n",
       "<tr>\n",
       "  <th>wheelbase</th>           <td>    0.3247</td> <td>    0.031</td> <td>   10.429</td> <td> 0.000</td> <td>    0.263</td> <td>    0.386</td>\n",
       "</tr>\n",
       "<tr>\n",
       "  <th>horsepower</th>          <td>    0.4473</td> <td>    0.035</td> <td>   12.761</td> <td> 0.000</td> <td>    0.378</td> <td>    0.517</td>\n",
       "</tr>\n",
       "<tr>\n",
       "  <th>enginelocation_rear</th> <td>    0.1497</td> <td>    0.072</td> <td>    2.082</td> <td> 0.039</td> <td>    0.007</td> <td>    0.292</td>\n",
       "</tr>\n",
       "<tr>\n",
       "  <th>cylindernumber_four</th> <td>   -0.0995</td> <td>    0.019</td> <td>   -5.168</td> <td> 0.000</td> <td>   -0.138</td> <td>   -0.061</td>\n",
       "</tr>\n",
       "<tr>\n",
       "  <th>cylindernumber_six</th>  <td>   -0.0612</td> <td>    0.025</td> <td>   -2.456</td> <td> 0.015</td> <td>   -0.110</td> <td>   -0.012</td>\n",
       "</tr>\n",
       "<tr>\n",
       "  <th>companycat_top</th>      <td>    0.2830</td> <td>    0.023</td> <td>   12.168</td> <td> 0.000</td> <td>    0.237</td> <td>    0.329</td>\n",
       "</tr>\n",
       "</table>\n",
       "<table class=\"simpletable\">\n",
       "<tr>\n",
       "  <th>Omnibus:</th>       <td>18.529</td> <th>  Durbin-Watson:     </th> <td>   2.021</td>\n",
       "</tr>\n",
       "<tr>\n",
       "  <th>Prob(Omnibus):</th> <td> 0.000</td> <th>  Jarque-Bera (JB):  </th> <td>  26.893</td>\n",
       "</tr>\n",
       "<tr>\n",
       "  <th>Skew:</th>          <td> 0.704</td> <th>  Prob(JB):          </th> <td>1.45e-06</td>\n",
       "</tr>\n",
       "<tr>\n",
       "  <th>Kurtosis:</th>      <td> 4.621</td> <th>  Cond. No.          </th> <td>    18.9</td>\n",
       "</tr>\n",
       "</table><br/><br/>Warnings:<br/>[1] Standard Errors assume that the covariance matrix of the errors is correctly specified."
      ],
      "text/plain": [
       "<class 'statsmodels.iolib.summary.Summary'>\n",
       "\"\"\"\n",
       "                            OLS Regression Results                            \n",
       "==============================================================================\n",
       "Dep. Variable:                  price   R-squared:                       0.908\n",
       "Model:                            OLS   Adj. R-squared:                  0.904\n",
       "Method:                 Least Squares   F-statistic:                     219.2\n",
       "Date:                Mon, 10 Aug 2020   Prob (F-statistic):           2.12e-66\n",
       "Time:                        16:48:44   Log-Likelihood:                 189.25\n",
       "No. Observations:                 140   AIC:                            -364.5\n",
       "Df Residuals:                     133   BIC:                            -343.9\n",
       "Df Model:                           6                                         \n",
       "Covariance Type:            nonrobust                                         \n",
       "=======================================================================================\n",
       "                          coef    std err          t      P>|t|      [0.025      0.975]\n",
       "---------------------------------------------------------------------------------------\n",
       "const                   0.0116      0.024      0.474      0.636      -0.037       0.060\n",
       "wheelbase               0.3247      0.031     10.429      0.000       0.263       0.386\n",
       "horsepower              0.4473      0.035     12.761      0.000       0.378       0.517\n",
       "enginelocation_rear     0.1497      0.072      2.082      0.039       0.007       0.292\n",
       "cylindernumber_four    -0.0995      0.019     -5.168      0.000      -0.138      -0.061\n",
       "cylindernumber_six     -0.0612      0.025     -2.456      0.015      -0.110      -0.012\n",
       "companycat_top          0.2830      0.023     12.168      0.000       0.237       0.329\n",
       "==============================================================================\n",
       "Omnibus:                       18.529   Durbin-Watson:                   2.021\n",
       "Prob(Omnibus):                  0.000   Jarque-Bera (JB):               26.893\n",
       "Skew:                           0.704   Prob(JB):                     1.45e-06\n",
       "Kurtosis:                       4.621   Cond. No.                         18.9\n",
       "==============================================================================\n",
       "\n",
       "Warnings:\n",
       "[1] Standard Errors assume that the covariance matrix of the errors is correctly specified.\n",
       "\"\"\""
      ]
     },
     "execution_count": 88,
     "metadata": {},
     "output_type": "execute_result"
    }
   ],
   "source": [
    "##more correlation with wheelbase/horsepower.. low co-eff\n",
    "X_train_rfe = X_train_rfe.drop('carbody_wagon',axis=1)\n",
    "X_train_sm = sm.add_constant(X_train_rfe)\n",
    "ml = sm.OLS(y_train,X_train_sm).fit()\n",
    "ml.summary()"
   ]
  },
  {
   "cell_type": "code",
   "execution_count": 89,
   "metadata": {},
   "outputs": [
    {
     "data": {
      "text/html": [
       "<div>\n",
       "<style scoped>\n",
       "    .dataframe tbody tr th:only-of-type {\n",
       "        vertical-align: middle;\n",
       "    }\n",
       "\n",
       "    .dataframe tbody tr th {\n",
       "        vertical-align: top;\n",
       "    }\n",
       "\n",
       "    .dataframe thead th {\n",
       "        text-align: right;\n",
       "    }\n",
       "</style>\n",
       "<table border=\"1\" class=\"dataframe\">\n",
       "  <thead>\n",
       "    <tr style=\"text-align: right;\">\n",
       "      <th></th>\n",
       "      <th>features</th>\n",
       "      <th>RFE</th>\n",
       "    </tr>\n",
       "  </thead>\n",
       "  <tbody>\n",
       "    <tr>\n",
       "      <th>0</th>\n",
       "      <td>wheelbase</td>\n",
       "      <td>5.71</td>\n",
       "    </tr>\n",
       "    <tr>\n",
       "      <th>1</th>\n",
       "      <td>horsepower</td>\n",
       "      <td>5.00</td>\n",
       "    </tr>\n",
       "    <tr>\n",
       "      <th>3</th>\n",
       "      <td>cylindernumber_four</td>\n",
       "      <td>3.32</td>\n",
       "    </tr>\n",
       "    <tr>\n",
       "      <th>4</th>\n",
       "      <td>cylindernumber_six</td>\n",
       "      <td>2.07</td>\n",
       "    </tr>\n",
       "    <tr>\n",
       "      <th>5</th>\n",
       "      <td>companycat_top</td>\n",
       "      <td>1.56</td>\n",
       "    </tr>\n",
       "    <tr>\n",
       "      <th>2</th>\n",
       "      <td>enginelocation_rear</td>\n",
       "      <td>1.25</td>\n",
       "    </tr>\n",
       "  </tbody>\n",
       "</table>\n",
       "</div>"
      ],
      "text/plain": [
       "              features   RFE\n",
       "0            wheelbase  5.71\n",
       "1           horsepower  5.00\n",
       "3  cylindernumber_four  3.32\n",
       "4   cylindernumber_six  2.07\n",
       "5       companycat_top  1.56\n",
       "2  enginelocation_rear  1.25"
      ]
     },
     "execution_count": 89,
     "metadata": {},
     "output_type": "execute_result"
    }
   ],
   "source": [
    "X_train_new = X_train_sm.drop(['const'], axis=1)\n",
    "rfe = pd.DataFrame()\n",
    "rfe['features'] = X_train_new.columns\n",
    "rfe['RFE']=[variance_inflation_factor(X_train_new.values,i) for i in range(X_train_new.shape[1])]\n",
    "rfe['RFE'] = round(rfe['RFE'],2)\n",
    "rfe.sort_values(by='RFE',ascending=False,inplace=True)\n",
    "rfe"
   ]
  },
  {
   "cell_type": "code",
   "execution_count": 90,
   "metadata": {},
   "outputs": [
    {
     "data": {
      "text/html": [
       "<table class=\"simpletable\">\n",
       "<caption>OLS Regression Results</caption>\n",
       "<tr>\n",
       "  <th>Dep. Variable:</th>          <td>price</td>      <th>  R-squared:         </th> <td>   0.904</td>\n",
       "</tr>\n",
       "<tr>\n",
       "  <th>Model:</th>                   <td>OLS</td>       <th>  Adj. R-squared:    </th> <td>   0.900</td>\n",
       "</tr>\n",
       "<tr>\n",
       "  <th>Method:</th>             <td>Least Squares</td>  <th>  F-statistic:       </th> <td>   252.3</td>\n",
       "</tr>\n",
       "<tr>\n",
       "  <th>Date:</th>             <td>Mon, 10 Aug 2020</td> <th>  Prob (F-statistic):</th> <td>2.39e-66</td>\n",
       "</tr>\n",
       "<tr>\n",
       "  <th>Time:</th>                 <td>16:48:44</td>     <th>  Log-Likelihood:    </th> <td>  186.15</td>\n",
       "</tr>\n",
       "<tr>\n",
       "  <th>No. Observations:</th>      <td>   140</td>      <th>  AIC:               </th> <td>  -360.3</td>\n",
       "</tr>\n",
       "<tr>\n",
       "  <th>Df Residuals:</th>          <td>   134</td>      <th>  BIC:               </th> <td>  -342.6</td>\n",
       "</tr>\n",
       "<tr>\n",
       "  <th>Df Model:</th>              <td>     5</td>      <th>                     </th>     <td> </td>   \n",
       "</tr>\n",
       "<tr>\n",
       "  <th>Covariance Type:</th>      <td>nonrobust</td>    <th>                     </th>     <td> </td>   \n",
       "</tr>\n",
       "</table>\n",
       "<table class=\"simpletable\">\n",
       "<tr>\n",
       "           <td></td>              <th>coef</th>     <th>std err</th>      <th>t</th>      <th>P>|t|</th>  <th>[0.025</th>    <th>0.975]</th>  \n",
       "</tr>\n",
       "<tr>\n",
       "  <th>const</th>               <td>   -0.0056</td> <td>    0.024</td> <td>   -0.236</td> <td> 0.814</td> <td>   -0.053</td> <td>    0.041</td>\n",
       "</tr>\n",
       "<tr>\n",
       "  <th>wheelbase</th>           <td>    0.3266</td> <td>    0.032</td> <td>   10.303</td> <td> 0.000</td> <td>    0.264</td> <td>    0.389</td>\n",
       "</tr>\n",
       "<tr>\n",
       "  <th>horsepower</th>          <td>    0.4243</td> <td>    0.034</td> <td>   12.332</td> <td> 0.000</td> <td>    0.356</td> <td>    0.492</td>\n",
       "</tr>\n",
       "<tr>\n",
       "  <th>enginelocation_rear</th> <td>    0.1318</td> <td>    0.073</td> <td>    1.809</td> <td> 0.073</td> <td>   -0.012</td> <td>    0.276</td>\n",
       "</tr>\n",
       "<tr>\n",
       "  <th>cylindernumber_four</th> <td>   -0.0769</td> <td>    0.017</td> <td>   -4.465</td> <td> 0.000</td> <td>   -0.111</td> <td>   -0.043</td>\n",
       "</tr>\n",
       "<tr>\n",
       "  <th>companycat_top</th>      <td>    0.2797</td> <td>    0.024</td> <td>   11.827</td> <td> 0.000</td> <td>    0.233</td> <td>    0.326</td>\n",
       "</tr>\n",
       "</table>\n",
       "<table class=\"simpletable\">\n",
       "<tr>\n",
       "  <th>Omnibus:</th>       <td>20.935</td> <th>  Durbin-Watson:     </th> <td>   2.018</td>\n",
       "</tr>\n",
       "<tr>\n",
       "  <th>Prob(Omnibus):</th> <td> 0.000</td> <th>  Jarque-Bera (JB):  </th> <td>  43.738</td>\n",
       "</tr>\n",
       "<tr>\n",
       "  <th>Skew:</th>          <td> 0.628</td> <th>  Prob(JB):          </th> <td>3.18e-10</td>\n",
       "</tr>\n",
       "<tr>\n",
       "  <th>Kurtosis:</th>      <td> 5.433</td> <th>  Cond. No.          </th> <td>    18.8</td>\n",
       "</tr>\n",
       "</table><br/><br/>Warnings:<br/>[1] Standard Errors assume that the covariance matrix of the errors is correctly specified."
      ],
      "text/plain": [
       "<class 'statsmodels.iolib.summary.Summary'>\n",
       "\"\"\"\n",
       "                            OLS Regression Results                            \n",
       "==============================================================================\n",
       "Dep. Variable:                  price   R-squared:                       0.904\n",
       "Model:                            OLS   Adj. R-squared:                  0.900\n",
       "Method:                 Least Squares   F-statistic:                     252.3\n",
       "Date:                Mon, 10 Aug 2020   Prob (F-statistic):           2.39e-66\n",
       "Time:                        16:48:44   Log-Likelihood:                 186.15\n",
       "No. Observations:                 140   AIC:                            -360.3\n",
       "Df Residuals:                     134   BIC:                            -342.6\n",
       "Df Model:                           5                                         \n",
       "Covariance Type:            nonrobust                                         \n",
       "=======================================================================================\n",
       "                          coef    std err          t      P>|t|      [0.025      0.975]\n",
       "---------------------------------------------------------------------------------------\n",
       "const                  -0.0056      0.024     -0.236      0.814      -0.053       0.041\n",
       "wheelbase               0.3266      0.032     10.303      0.000       0.264       0.389\n",
       "horsepower              0.4243      0.034     12.332      0.000       0.356       0.492\n",
       "enginelocation_rear     0.1318      0.073      1.809      0.073      -0.012       0.276\n",
       "cylindernumber_four    -0.0769      0.017     -4.465      0.000      -0.111      -0.043\n",
       "companycat_top          0.2797      0.024     11.827      0.000       0.233       0.326\n",
       "==============================================================================\n",
       "Omnibus:                       20.935   Durbin-Watson:                   2.018\n",
       "Prob(Omnibus):                  0.000   Jarque-Bera (JB):               43.738\n",
       "Skew:                           0.628   Prob(JB):                     3.18e-10\n",
       "Kurtosis:                       5.433   Cond. No.                         18.8\n",
       "==============================================================================\n",
       "\n",
       "Warnings:\n",
       "[1] Standard Errors assume that the covariance matrix of the errors is correctly specified.\n",
       "\"\"\""
      ]
     },
     "execution_count": 90,
     "metadata": {},
     "output_type": "execute_result"
    }
   ],
   "source": [
    "##more correlation with wheelbase/horsepower\n",
    "X_train_rfe = X_train_rfe.drop('cylindernumber_six',axis=1)\n",
    "X_train_sm = sm.add_constant(X_train_rfe)\n",
    "ml = sm.OLS(y_train,X_train_sm).fit()\n",
    "ml.summary()"
   ]
  },
  {
   "cell_type": "code",
   "execution_count": 91,
   "metadata": {},
   "outputs": [
    {
     "data": {
      "text/html": [
       "<div>\n",
       "<style scoped>\n",
       "    .dataframe tbody tr th:only-of-type {\n",
       "        vertical-align: middle;\n",
       "    }\n",
       "\n",
       "    .dataframe tbody tr th {\n",
       "        vertical-align: top;\n",
       "    }\n",
       "\n",
       "    .dataframe thead th {\n",
       "        text-align: right;\n",
       "    }\n",
       "</style>\n",
       "<table border=\"1\" class=\"dataframe\">\n",
       "  <thead>\n",
       "    <tr style=\"text-align: right;\">\n",
       "      <th></th>\n",
       "      <th>features</th>\n",
       "      <th>RFE</th>\n",
       "    </tr>\n",
       "  </thead>\n",
       "  <tbody>\n",
       "    <tr>\n",
       "      <th>0</th>\n",
       "      <td>wheelbase</td>\n",
       "      <td>5.66</td>\n",
       "    </tr>\n",
       "    <tr>\n",
       "      <th>1</th>\n",
       "      <td>horsepower</td>\n",
       "      <td>3.95</td>\n",
       "    </tr>\n",
       "    <tr>\n",
       "      <th>3</th>\n",
       "      <td>cylindernumber_four</td>\n",
       "      <td>2.68</td>\n",
       "    </tr>\n",
       "    <tr>\n",
       "      <th>4</th>\n",
       "      <td>companycat_top</td>\n",
       "      <td>1.55</td>\n",
       "    </tr>\n",
       "    <tr>\n",
       "      <th>2</th>\n",
       "      <td>enginelocation_rear</td>\n",
       "      <td>1.24</td>\n",
       "    </tr>\n",
       "  </tbody>\n",
       "</table>\n",
       "</div>"
      ],
      "text/plain": [
       "              features   RFE\n",
       "0            wheelbase  5.66\n",
       "1           horsepower  3.95\n",
       "3  cylindernumber_four  2.68\n",
       "4       companycat_top  1.55\n",
       "2  enginelocation_rear  1.24"
      ]
     },
     "execution_count": 91,
     "metadata": {},
     "output_type": "execute_result"
    }
   ],
   "source": [
    "X_train_new = X_train_sm.drop(['const'], axis=1)\n",
    "rfe = pd.DataFrame()\n",
    "rfe['features'] = X_train_new.columns\n",
    "rfe['RFE']=[variance_inflation_factor(X_train_new.values,i) for i in range(X_train_new.shape[1])]\n",
    "rfe['RFE'] = round(rfe['RFE'],2)\n",
    "rfe.sort_values(by='RFE',ascending=False,inplace=True)\n",
    "rfe"
   ]
  },
  {
   "cell_type": "code",
   "execution_count": null,
   "metadata": {},
   "outputs": [],
   "source": []
  },
  {
   "cell_type": "code",
   "execution_count": 92,
   "metadata": {},
   "outputs": [
    {
     "data": {
      "text/html": [
       "<table class=\"simpletable\">\n",
       "<caption>OLS Regression Results</caption>\n",
       "<tr>\n",
       "  <th>Dep. Variable:</th>          <td>price</td>      <th>  R-squared:         </th> <td>   0.902</td>\n",
       "</tr>\n",
       "<tr>\n",
       "  <th>Model:</th>                   <td>OLS</td>       <th>  Adj. R-squared:    </th> <td>   0.899</td>\n",
       "</tr>\n",
       "<tr>\n",
       "  <th>Method:</th>             <td>Least Squares</td>  <th>  F-statistic:       </th> <td>   309.4</td>\n",
       "</tr>\n",
       "<tr>\n",
       "  <th>Date:</th>             <td>Mon, 10 Aug 2020</td> <th>  Prob (F-statistic):</th> <td>6.40e-67</td>\n",
       "</tr>\n",
       "<tr>\n",
       "  <th>Time:</th>                 <td>16:48:44</td>     <th>  Log-Likelihood:    </th> <td>  184.46</td>\n",
       "</tr>\n",
       "<tr>\n",
       "  <th>No. Observations:</th>      <td>   140</td>      <th>  AIC:               </th> <td>  -358.9</td>\n",
       "</tr>\n",
       "<tr>\n",
       "  <th>Df Residuals:</th>          <td>   135</td>      <th>  BIC:               </th> <td>  -344.2</td>\n",
       "</tr>\n",
       "<tr>\n",
       "  <th>Df Model:</th>              <td>     4</td>      <th>                     </th>     <td> </td>   \n",
       "</tr>\n",
       "<tr>\n",
       "  <th>Covariance Type:</th>      <td>nonrobust</td>    <th>                     </th>     <td> </td>   \n",
       "</tr>\n",
       "</table>\n",
       "<table class=\"simpletable\">\n",
       "<tr>\n",
       "           <td></td>              <th>coef</th>     <th>std err</th>      <th>t</th>      <th>P>|t|</th>  <th>[0.025</th>    <th>0.975]</th>  \n",
       "</tr>\n",
       "<tr>\n",
       "  <th>const</th>               <td>   -0.0054</td> <td>    0.024</td> <td>   -0.223</td> <td> 0.824</td> <td>   -0.053</td> <td>    0.042</td>\n",
       "</tr>\n",
       "<tr>\n",
       "  <th>wheelbase</th>           <td>    0.3100</td> <td>    0.031</td> <td>   10.133</td> <td> 0.000</td> <td>    0.249</td> <td>    0.370</td>\n",
       "</tr>\n",
       "<tr>\n",
       "  <th>horsepower</th>          <td>    0.4404</td> <td>    0.034</td> <td>   13.140</td> <td> 0.000</td> <td>    0.374</td> <td>    0.507</td>\n",
       "</tr>\n",
       "<tr>\n",
       "  <th>cylindernumber_four</th> <td>   -0.0753</td> <td>    0.017</td> <td>   -4.338</td> <td> 0.000</td> <td>   -0.110</td> <td>   -0.041</td>\n",
       "</tr>\n",
       "<tr>\n",
       "  <th>companycat_top</th>      <td>    0.2904</td> <td>    0.023</td> <td>   12.583</td> <td> 0.000</td> <td>    0.245</td> <td>    0.336</td>\n",
       "</tr>\n",
       "</table>\n",
       "<table class=\"simpletable\">\n",
       "<tr>\n",
       "  <th>Omnibus:</th>       <td>15.981</td> <th>  Durbin-Watson:     </th> <td>   2.009</td>\n",
       "</tr>\n",
       "<tr>\n",
       "  <th>Prob(Omnibus):</th> <td> 0.000</td> <th>  Jarque-Bera (JB):  </th> <td>  28.698</td>\n",
       "</tr>\n",
       "<tr>\n",
       "  <th>Skew:</th>          <td> 0.521</td> <th>  Prob(JB):          </th> <td>5.87e-07</td>\n",
       "</tr>\n",
       "<tr>\n",
       "  <th>Kurtosis:</th>      <td> 4.958</td> <th>  Cond. No.          </th> <td>    9.75</td>\n",
       "</tr>\n",
       "</table><br/><br/>Warnings:<br/>[1] Standard Errors assume that the covariance matrix of the errors is correctly specified."
      ],
      "text/plain": [
       "<class 'statsmodels.iolib.summary.Summary'>\n",
       "\"\"\"\n",
       "                            OLS Regression Results                            \n",
       "==============================================================================\n",
       "Dep. Variable:                  price   R-squared:                       0.902\n",
       "Model:                            OLS   Adj. R-squared:                  0.899\n",
       "Method:                 Least Squares   F-statistic:                     309.4\n",
       "Date:                Mon, 10 Aug 2020   Prob (F-statistic):           6.40e-67\n",
       "Time:                        16:48:44   Log-Likelihood:                 184.46\n",
       "No. Observations:                 140   AIC:                            -358.9\n",
       "Df Residuals:                     135   BIC:                            -344.2\n",
       "Df Model:                           4                                         \n",
       "Covariance Type:            nonrobust                                         \n",
       "=======================================================================================\n",
       "                          coef    std err          t      P>|t|      [0.025      0.975]\n",
       "---------------------------------------------------------------------------------------\n",
       "const                  -0.0054      0.024     -0.223      0.824      -0.053       0.042\n",
       "wheelbase               0.3100      0.031     10.133      0.000       0.249       0.370\n",
       "horsepower              0.4404      0.034     13.140      0.000       0.374       0.507\n",
       "cylindernumber_four    -0.0753      0.017     -4.338      0.000      -0.110      -0.041\n",
       "companycat_top          0.2904      0.023     12.583      0.000       0.245       0.336\n",
       "==============================================================================\n",
       "Omnibus:                       15.981   Durbin-Watson:                   2.009\n",
       "Prob(Omnibus):                  0.000   Jarque-Bera (JB):               28.698\n",
       "Skew:                           0.521   Prob(JB):                     5.87e-07\n",
       "Kurtosis:                       4.958   Cond. No.                         9.75\n",
       "==============================================================================\n",
       "\n",
       "Warnings:\n",
       "[1] Standard Errors assume that the covariance matrix of the errors is correctly specified.\n",
       "\"\"\""
      ]
     },
     "execution_count": 92,
     "metadata": {},
     "output_type": "execute_result"
    }
   ],
   "source": [
    "##only 3 samples in data per EDA and high p\n",
    "X_train_rfe = X_train_rfe.drop('enginelocation_rear',axis=1)\n",
    "X_train_sm = sm.add_constant(X_train_rfe)\n",
    "ml = sm.OLS(y_train,X_train_sm).fit()\n",
    "ml.summary()"
   ]
  },
  {
   "cell_type": "code",
   "execution_count": 93,
   "metadata": {},
   "outputs": [
    {
     "data": {
      "text/html": [
       "<div>\n",
       "<style scoped>\n",
       "    .dataframe tbody tr th:only-of-type {\n",
       "        vertical-align: middle;\n",
       "    }\n",
       "\n",
       "    .dataframe tbody tr th {\n",
       "        vertical-align: top;\n",
       "    }\n",
       "\n",
       "    .dataframe thead th {\n",
       "        text-align: right;\n",
       "    }\n",
       "</style>\n",
       "<table border=\"1\" class=\"dataframe\">\n",
       "  <thead>\n",
       "    <tr style=\"text-align: right;\">\n",
       "      <th></th>\n",
       "      <th>features</th>\n",
       "      <th>RFE</th>\n",
       "    </tr>\n",
       "  </thead>\n",
       "  <tbody>\n",
       "    <tr>\n",
       "      <th>0</th>\n",
       "      <td>wheelbase</td>\n",
       "      <td>5.10</td>\n",
       "    </tr>\n",
       "    <tr>\n",
       "      <th>1</th>\n",
       "      <td>horsepower</td>\n",
       "      <td>3.55</td>\n",
       "    </tr>\n",
       "    <tr>\n",
       "      <th>2</th>\n",
       "      <td>cylindernumber_four</td>\n",
       "      <td>2.66</td>\n",
       "    </tr>\n",
       "    <tr>\n",
       "      <th>3</th>\n",
       "      <td>companycat_top</td>\n",
       "      <td>1.45</td>\n",
       "    </tr>\n",
       "  </tbody>\n",
       "</table>\n",
       "</div>"
      ],
      "text/plain": [
       "              features   RFE\n",
       "0            wheelbase  5.10\n",
       "1           horsepower  3.55\n",
       "2  cylindernumber_four  2.66\n",
       "3       companycat_top  1.45"
      ]
     },
     "execution_count": 93,
     "metadata": {},
     "output_type": "execute_result"
    }
   ],
   "source": [
    "X_train_new = X_train_sm.drop(['const'], axis=1)\n",
    "rfe = pd.DataFrame()\n",
    "rfe['features'] = X_train_new.columns\n",
    "rfe['RFE']=[variance_inflation_factor(X_train_new.values,i) for i in range(X_train_new.shape[1])]\n",
    "rfe['RFE'] = round(rfe['RFE'],2)\n",
    "rfe.sort_values(by='RFE',ascending=False,inplace=True)\n",
    "rfe"
   ]
  },
  {
   "cell_type": "code",
   "execution_count": 94,
   "metadata": {},
   "outputs": [
    {
     "data": {
      "text/html": [
       "<table class=\"simpletable\">\n",
       "<caption>OLS Regression Results</caption>\n",
       "<tr>\n",
       "  <th>Dep. Variable:</th>          <td>price</td>      <th>  R-squared:         </th> <td>   0.888</td>\n",
       "</tr>\n",
       "<tr>\n",
       "  <th>Model:</th>                   <td>OLS</td>       <th>  Adj. R-squared:    </th> <td>   0.885</td>\n",
       "</tr>\n",
       "<tr>\n",
       "  <th>Method:</th>             <td>Least Squares</td>  <th>  F-statistic:       </th> <td>   359.2</td>\n",
       "</tr>\n",
       "<tr>\n",
       "  <th>Date:</th>             <td>Mon, 10 Aug 2020</td> <th>  Prob (F-statistic):</th> <td>2.05e-64</td>\n",
       "</tr>\n",
       "<tr>\n",
       "  <th>Time:</th>                 <td>16:48:44</td>     <th>  Log-Likelihood:    </th> <td>  175.32</td>\n",
       "</tr>\n",
       "<tr>\n",
       "  <th>No. Observations:</th>      <td>   140</td>      <th>  AIC:               </th> <td>  -342.6</td>\n",
       "</tr>\n",
       "<tr>\n",
       "  <th>Df Residuals:</th>          <td>   136</td>      <th>  BIC:               </th> <td>  -330.9</td>\n",
       "</tr>\n",
       "<tr>\n",
       "  <th>Df Model:</th>              <td>     3</td>      <th>                     </th>     <td> </td>   \n",
       "</tr>\n",
       "<tr>\n",
       "  <th>Covariance Type:</th>      <td>nonrobust</td>    <th>                     </th>     <td> </td>   \n",
       "</tr>\n",
       "</table>\n",
       "<table class=\"simpletable\">\n",
       "<tr>\n",
       "         <td></td>           <th>coef</th>     <th>std err</th>      <th>t</th>      <th>P>|t|</th>  <th>[0.025</th>    <th>0.975]</th>  \n",
       "</tr>\n",
       "<tr>\n",
       "  <th>const</th>          <td>   -0.0894</td> <td>    0.015</td> <td>   -5.922</td> <td> 0.000</td> <td>   -0.119</td> <td>   -0.060</td>\n",
       "</tr>\n",
       "<tr>\n",
       "  <th>wheelbase</th>      <td>    0.3119</td> <td>    0.033</td> <td>    9.589</td> <td> 0.000</td> <td>    0.248</td> <td>    0.376</td>\n",
       "</tr>\n",
       "<tr>\n",
       "  <th>horsepower</th>     <td>    0.5063</td> <td>    0.032</td> <td>   15.936</td> <td> 0.000</td> <td>    0.443</td> <td>    0.569</td>\n",
       "</tr>\n",
       "<tr>\n",
       "  <th>companycat_top</th> <td>    0.3221</td> <td>    0.023</td> <td>   13.831</td> <td> 0.000</td> <td>    0.276</td> <td>    0.368</td>\n",
       "</tr>\n",
       "</table>\n",
       "<table class=\"simpletable\">\n",
       "<tr>\n",
       "  <th>Omnibus:</th>       <td>14.454</td> <th>  Durbin-Watson:     </th> <td>   2.097</td>\n",
       "</tr>\n",
       "<tr>\n",
       "  <th>Prob(Omnibus):</th> <td> 0.001</td> <th>  Jarque-Bera (JB):  </th> <td>  21.438</td>\n",
       "</tr>\n",
       "<tr>\n",
       "  <th>Skew:</th>          <td> 0.547</td> <th>  Prob(JB):          </th> <td>2.21e-05</td>\n",
       "</tr>\n",
       "<tr>\n",
       "  <th>Kurtosis:</th>      <td> 4.575</td> <th>  Cond. No.          </th> <td>    6.96</td>\n",
       "</tr>\n",
       "</table><br/><br/>Warnings:<br/>[1] Standard Errors assume that the covariance matrix of the errors is correctly specified."
      ],
      "text/plain": [
       "<class 'statsmodels.iolib.summary.Summary'>\n",
       "\"\"\"\n",
       "                            OLS Regression Results                            \n",
       "==============================================================================\n",
       "Dep. Variable:                  price   R-squared:                       0.888\n",
       "Model:                            OLS   Adj. R-squared:                  0.885\n",
       "Method:                 Least Squares   F-statistic:                     359.2\n",
       "Date:                Mon, 10 Aug 2020   Prob (F-statistic):           2.05e-64\n",
       "Time:                        16:48:44   Log-Likelihood:                 175.32\n",
       "No. Observations:                 140   AIC:                            -342.6\n",
       "Df Residuals:                     136   BIC:                            -330.9\n",
       "Df Model:                           3                                         \n",
       "Covariance Type:            nonrobust                                         \n",
       "==================================================================================\n",
       "                     coef    std err          t      P>|t|      [0.025      0.975]\n",
       "----------------------------------------------------------------------------------\n",
       "const             -0.0894      0.015     -5.922      0.000      -0.119      -0.060\n",
       "wheelbase          0.3119      0.033      9.589      0.000       0.248       0.376\n",
       "horsepower         0.5063      0.032     15.936      0.000       0.443       0.569\n",
       "companycat_top     0.3221      0.023     13.831      0.000       0.276       0.368\n",
       "==============================================================================\n",
       "Omnibus:                       14.454   Durbin-Watson:                   2.097\n",
       "Prob(Omnibus):                  0.001   Jarque-Bera (JB):               21.438\n",
       "Skew:                           0.547   Prob(JB):                     2.21e-05\n",
       "Kurtosis:                       4.575   Cond. No.                         6.96\n",
       "==============================================================================\n",
       "\n",
       "Warnings:\n",
       "[1] Standard Errors assume that the covariance matrix of the errors is correctly specified.\n",
       "\"\"\""
      ]
     },
     "execution_count": 94,
     "metadata": {},
     "output_type": "execute_result"
    }
   ],
   "source": [
    "##coefficient is small for price\n",
    "X_train_rfe = X_train_rfe.drop('cylindernumber_four',axis=1)\n",
    "X_train_sm = sm.add_constant(X_train_rfe)\n",
    "ml = sm.OLS(y_train,X_train_sm).fit()\n",
    "ml.summary()"
   ]
  },
  {
   "cell_type": "code",
   "execution_count": 95,
   "metadata": {},
   "outputs": [
    {
     "data": {
      "text/html": [
       "<div>\n",
       "<style scoped>\n",
       "    .dataframe tbody tr th:only-of-type {\n",
       "        vertical-align: middle;\n",
       "    }\n",
       "\n",
       "    .dataframe tbody tr th {\n",
       "        vertical-align: top;\n",
       "    }\n",
       "\n",
       "    .dataframe thead th {\n",
       "        text-align: right;\n",
       "    }\n",
       "</style>\n",
       "<table border=\"1\" class=\"dataframe\">\n",
       "  <thead>\n",
       "    <tr style=\"text-align: right;\">\n",
       "      <th></th>\n",
       "      <th>features</th>\n",
       "      <th>RFE</th>\n",
       "    </tr>\n",
       "  </thead>\n",
       "  <tbody>\n",
       "    <tr>\n",
       "      <th>1</th>\n",
       "      <td>horsepower</td>\n",
       "      <td>3.55</td>\n",
       "    </tr>\n",
       "    <tr>\n",
       "      <th>0</th>\n",
       "      <td>wheelbase</td>\n",
       "      <td>3.32</td>\n",
       "    </tr>\n",
       "    <tr>\n",
       "      <th>2</th>\n",
       "      <td>companycat_top</td>\n",
       "      <td>1.25</td>\n",
       "    </tr>\n",
       "  </tbody>\n",
       "</table>\n",
       "</div>"
      ],
      "text/plain": [
       "         features   RFE\n",
       "1      horsepower  3.55\n",
       "0       wheelbase  3.32\n",
       "2  companycat_top  1.25"
      ]
     },
     "execution_count": 95,
     "metadata": {},
     "output_type": "execute_result"
    }
   ],
   "source": [
    "X_train_new = X_train_sm.drop(['const'], axis=1)\n",
    "rfe = pd.DataFrame()\n",
    "rfe['features'] = X_train_new.columns\n",
    "rfe['RFE']=[variance_inflation_factor(X_train_new.values,i) for i in range(X_train_new.shape[1])]\n",
    "rfe['RFE'] = round(rfe['RFE'],2)\n",
    "rfe.sort_values(by='RFE',ascending=False,inplace=True)\n",
    "rfe"
   ]
  },
  {
   "cell_type": "markdown",
   "metadata": {},
   "source": [
    "**Looks good model explaining imp bz factors, p<0.05, RFE < 5, Durbin-watson ratio around 2(Homoscedesticity), \n",
    "would like to improve on prob(Omnibus)/reduce skew/kurtosis.. Lets see plot in residual analysis**"
   ]
  },
  {
   "cell_type": "markdown",
   "metadata": {},
   "source": [
    "## Residual analysis"
   ]
  },
  {
   "cell_type": "code",
   "execution_count": 96,
   "metadata": {},
   "outputs": [],
   "source": [
    "y_train_pred = ml.predict(X_train_sm)"
   ]
  },
  {
   "cell_type": "code",
   "execution_count": 97,
   "metadata": {},
   "outputs": [
    {
     "data": {
      "text/plain": [
       "<matplotlib.axes._subplots.AxesSubplot at 0x1a262997d0>"
      ]
     },
     "execution_count": 97,
     "metadata": {},
     "output_type": "execute_result"
    },
    {
     "data": {
      "image/png": "[encoded data removed]",
      "text/plain": [
       "<Figure size 432x288 with 1 Axes>"
      ]
     },
     "metadata": {
      "needs_background": "light"
     },
     "output_type": "display_data"
    }
   ],
   "source": [
    "sns.distplot(y_train_pred-y_train)\n",
    "## Errors almost normally distributed "
   ]
  },
  {
   "cell_type": "code",
   "execution_count": null,
   "metadata": {},
   "outputs": [],
   "source": []
  },
  {
   "cell_type": "markdown",
   "metadata": {},
   "source": [
    "## Model Predictions"
   ]
  },
  {
   "cell_type": "code",
   "execution_count": 98,
   "metadata": {},
   "outputs": [],
   "source": [
    "##scaling test data\n",
    "test_df[test_df.columns] = scalar.transform(test_df[test_df.columns])\n"
   ]
  },
  {
   "cell_type": "code",
   "execution_count": 99,
   "metadata": {},
   "outputs": [],
   "source": [
    "y_test = test_df.pop('price')\n",
    "X_test = test_df\n",
    "X_test_rfe = X_test[col]\n",
    "X_test_rfe.drop(['cylindernumber_five','cylindernumber_three','enginetype_rotor','carbody_wagon','cylindernumber_six','enginelocation_rear','cylindernumber_four'],axis=1,inplace=True)\n",
    "X_test_sm = sm.add_constant(X_test_rfe)\n",
    "y_test_pred = ml.predict(X_test_sm)"
   ]
  },
  {
   "cell_type": "markdown",
   "metadata": {},
   "source": [
    "## Model Evaluation"
   ]
  },
  {
   "cell_type": "code",
   "execution_count": 100,
   "metadata": {},
   "outputs": [],
   "source": [
    "from sklearn.metrics import r2_score\n",
    "from sklearn.metrics import mean_squared_error"
   ]
  },
  {
   "cell_type": "code",
   "execution_count": 101,
   "metadata": {},
   "outputs": [
    {
     "data": {
      "text/plain": [
       "0.8622128561987967"
      ]
     },
     "execution_count": 101,
     "metadata": {},
     "output_type": "execute_result"
    }
   ],
   "source": [
    "## R2 on test data\n",
    "r2_score(y_test,y_test_pred)"
   ]
  },
  {
   "cell_type": "code",
   "execution_count": 102,
   "metadata": {},
   "outputs": [
    {
     "data": {
      "text/plain": [
       "0.08900139945032044"
      ]
     },
     "execution_count": 102,
     "metadata": {},
     "output_type": "execute_result"
    }
   ],
   "source": [
    "##RMSE on test data\n",
    "np.sqrt(mean_squared_error(y_test, y_test_pred))"
   ]
  },
  {
   "cell_type": "code",
   "execution_count": 103,
   "metadata": {},
   "outputs": [
    {
     "data": {
      "text/plain": [
       "Text(0, 0.5, 'y_test_pred')"
      ]
     },
     "execution_count": 103,
     "metadata": {},
     "output_type": "execute_result"
    },
    {
     "data": {
      "image/png": "[encoded data removed]",
      "text/plain": [
       "<Figure size 432x288 with 1 Axes>"
      ]
     },
     "metadata": {
      "needs_background": "light"
     },
     "output_type": "display_data"
    }
   ],
   "source": [
    "# Plotting y_test and y_pred to understand the spread.\n",
    "fig = plt.figure()\n",
    "plt.scatter(y_test,y_test_pred)\n",
    "fig.suptitle('y_test vs y_pred', fontsize=20)              # Plot heading \n",
    "plt.xlabel('y_test', fontsize=18)                          # X-label\n",
    "plt.ylabel('y_test_pred', fontsize=16)                          # Y-label"
   ]
  },
  {
   "cell_type": "markdown",
   "metadata": {},
   "source": [
    "## Conclusion"
   ]
  },
  {
   "cell_type": "markdown",
   "metadata": {},
   "source": [
    "- **R2 0.888 on train data** against **0.862 on test data**.\n",
    "- **Adjusted R2 0.885** which is very close to 0.888 R2. VIF below 5 for all independent vars\n",
    "- **RMSE is 0.089**\n",
    "- **price** = **-** 0.0894 **+** 0.5063 * horsepower **+** 0.3119 * wheelbase **+** 0.3221 * top brand\n",
    "- Common features of cars based on popularity \n",
    "    - fueltype - gas\n",
    "    - aspiration - standard\n",
    "    - carbody - sedan\n",
    "    - drivewheel - forward\n",
    "    - enginelocation - front\n",
    "    - engine type - ohc\n",
    "    - number of cylinders - 4\n",
    "    - fuel system - mpfi\n",
    "    - brand - jaguar\n",
    "- Looks descent model explaining imp bz factors, p<0.05, RFE < 5, Durbin-watson ratio around 2(Homoscedesticity), \n",
    "    \n"
   ]
  },
  {
   "cell_type": "code",
   "execution_count": null,
   "metadata": {},
   "outputs": [],
   "source": []
  }
 ],
 "metadata": {
  "kernelspec": {
   "display_name": "Python 3",
   "language": "python",
   "name": "python3"
  },
  "language_info": {
   "codemirror_mode": {
    "name": "ipython",
    "version": 3
   },
   "file_extension": ".py",
   "mimetype": "text/x-python",
   "name": "python",
   "nbconvert_exporter": "python",
   "pygments_lexer": "ipython3",
   "version": "3.7.6"
  }
 },
 "nbformat": 4,
 "nbformat_minor": 4
}
